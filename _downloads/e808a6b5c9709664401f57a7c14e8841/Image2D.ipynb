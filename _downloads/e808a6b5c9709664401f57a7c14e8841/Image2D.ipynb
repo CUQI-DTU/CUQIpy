{
  "cells": [
    {
      "cell_type": "markdown",
      "metadata": {},
      "source": [
        "\n# The use of Image2D\n\nThis script demonstrates the use of :class:`~cuqi.geometry.Image2D` for domain and range geometries in CUQIpy forward models. The settings of this geometry, in particular the so-called `visual_only` flag, depend on how the forward model input is operated on in the forward model. `visual_only` flag tells the geometry to interpret the variable as a 2D image only when visualizing the variable but keep it as a vector when being operated on in the forward model. Generally, if the forward operator expects an image input, set `visual_only` to `False`, which is the default in CUQIpy. Otherwise, if it expects a vector input, set `visual_only` to `True` in the domain geometry. In the same way, the range geometry `visual_only` setting should be consistent with your forward operator output.\n"
      ]
    },
    {
      "cell_type": "markdown",
      "metadata": {},
      "source": [
        "Import necessary libraries\n\n"
      ]
    },
    {
      "cell_type": "code",
      "execution_count": null,
      "metadata": {
        "collapsed": false
      },
      "outputs": [],
      "source": [
        "import cuqi\nimport numpy as np\nimport matplotlib.pyplot as plt"
      ]
    },
    {
      "cell_type": "markdown",
      "metadata": {},
      "source": [
        "Define dimensions\n\n"
      ]
    },
    {
      "cell_type": "code",
      "execution_count": null,
      "metadata": {
        "collapsed": false
      },
      "outputs": [],
      "source": [
        "dim_x, dim_y = 2, 4"
      ]
    },
    {
      "cell_type": "markdown",
      "metadata": {},
      "source": [
        "Example illustrating the default behavior: `visual_only=False`\n With `visual_only=False`, the underlying structure of a CUQI array or sample will be reshaped to the\n shape of the specified geometry, i.e., an image of size (dim_x, dim_y), before being passed to the model.\n Here we intend to define a forward operator that downsamples the input image by a factor of 2. It's easier\n to define such a forward operator in terms of an image. We do not need to explicitly set `visual_only` to \n`False` because it is the default behavior.\n\n"
      ]
    },
    {
      "cell_type": "code",
      "execution_count": null,
      "metadata": {
        "collapsed": false
      },
      "outputs": [],
      "source": [
        "def forward_func_a(image):\n    assert image.shape == (dim_x, dim_y)\n    return image[::2, ::2]\n\nmodel_A = cuqi.model.LinearModel(forward_func_a,\n                                 domain_geometry=cuqi.geometry.Image2D((dim_x, dim_y)),\n                                 range_geometry=cuqi.geometry.Image2D((dim_x // 2, dim_y // 2)))\n\nprint(model_A)\n\nx_sample = cuqi.array.CUQIarray(np.linspace(0, 1, dim_x * dim_y),\n                                geometry=cuqi.geometry.Image2D((dim_x, dim_y)))\n\n# Plot the original sample\nplt.figure()\nx_sample.plot(cmap='Greens')\nplt.title(\"input image x\")\n\n# Apply the model and plot the result\nplt.figure()\ny_sample = model_A @ x_sample\ny_sample.plot(cmap='Greens')\nplt.title(\"output y=model_A(x)\")"
      ]
    },
    {
      "cell_type": "markdown",
      "metadata": {},
      "source": [
        "Example with `visual_only=True`\nWith `visual_only=True`, the underlying structure of a cuqi array or sample will not be changed before\nbeing passed to the model. This is useful when the model expects a vector input. Here we define a \nforward operator that reverses the input vector, which can be easily defined in terms of a vector.\n\n"
      ]
    },
    {
      "cell_type": "code",
      "execution_count": null,
      "metadata": {
        "collapsed": false
      },
      "outputs": [],
      "source": [
        "def forward_func_b(x):\n    assert x.shape == (dim_x * dim_y, )\n    return x[::-1]\n\nmodel_B = cuqi.model.LinearModel(forward_func_b,\n                                 domain_geometry=cuqi.geometry.Image2D((dim_x, dim_y), visual_only=True),\n                                 range_geometry=cuqi.geometry.Image2D((dim_x, dim_y), visual_only=True))\n\n# Note we explicitely set the `visual_only` flag to be `True` here.\nprint(model_B)\n\n# Apply the model and plot the result\nplt.figure()\ny_sample = model_B @ x_sample\ny_sample.plot(cmap='Greens')\nplt.title(\"output y=model_B(x)\")"
      ]
    }
  ],
  "metadata": {
    "kernelspec": {
      "display_name": "Python 3",
      "language": "python",
      "name": "python3"
    },
    "language_info": {
      "codemirror_mode": {
        "name": "ipython",
        "version": 3
      },
      "file_extension": ".py",
      "mimetype": "text/x-python",
      "name": "python",
      "nbconvert_exporter": "python",
      "pygments_lexer": "ipython3",
      "version": "3.12.3"
    }
  },
  "nbformat": 4,
  "nbformat_minor": 0
}