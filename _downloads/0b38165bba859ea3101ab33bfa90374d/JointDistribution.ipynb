{
  "cells": [
    {
      "cell_type": "markdown",
      "metadata": {},
      "source": [
        "\n# Joint Distribution tutorial\n\n    This tutorial shows how to use the Joint Distribution class.\n"
      ]
    },
    {
      "cell_type": "markdown",
      "metadata": {},
      "source": [
        "## Setup\nWe start by importing the necessary modules and loading the model and data.\nThe model is a simple 1D convolution, but any model can be used.\nWe also define some helper variables to make the code more readable.\n\n"
      ]
    },
    {
      "cell_type": "code",
      "execution_count": null,
      "metadata": {
        "collapsed": false
      },
      "outputs": [],
      "source": [
        "import sys; sys.path.append(\"../..\")\nimport numpy as np\nfrom cuqi.distribution import Gaussian, Gamma, JointDistribution\nfrom cuqi.testproblem import Deconvolution1D\n\n# Model and data\nA, y_obs, _ = Deconvolution1D().get_components()\n\n# Model dimensions\nn = A.domain_dim\nm = A.range_dim\n\n# \"Idendity\" matricies\nIn = np.ones(n)\nIm = np.ones(m)"
      ]
    },
    {
      "cell_type": "markdown",
      "metadata": {},
      "source": [
        "## Bayesian modelling with the Joint Distribution\n\nThe joint distribution is a tool that allows us to define Bayesian models.\nThis is achieved by combining multiple distributions into a single object.\n\nFor example, consider the following model\n\n\\begin{align}\\mathbf{x} &\\sim \\mathcal{N}(\\mathbf{0}, d^{-1} \\mathbf{I}_n) \\\\\n  \\mathbf{y} &\\sim \\mathcal{N}(\\mathbf{A} \\mathbf{x}, l^{-1} \\mathbf{I}_m)\\end{align}\n\nwhere $\\mathbf{A}\\in\\mathbb{R}^{m\\times n}$ is a matrix that defines the linear convolution.\nand $d$, $s$ are fixed parameters for the prior and noise precision respectively.\n\nWe can write this model in CUQIpy as follows:\n\n"
      ]
    },
    {
      "cell_type": "code",
      "execution_count": null,
      "metadata": {
        "collapsed": false
      },
      "outputs": [],
      "source": [
        "# Define fixed parameters\nd = 100\ns = 400\n\n# Define distributions\nx = Gaussian(np.zeros(n), 1/d*In)\ny = Gaussian(lambda x: A@x, 1/s*Im)\n\n# Define joint distribution p(x,y)\njoint = JointDistribution(x, y)\n\n# The joint distributions prints a summary of its components.\nprint(joint)"
      ]
    },
    {
      "cell_type": "markdown",
      "metadata": {},
      "source": [
        "## Basic properties of the joint distribution\n\nThe joint distribution comes with two main properties:\ndim (dimension) and geometry. Because its a joint distribution\nover multiple variables, these are lists.\n\n"
      ]
    },
    {
      "cell_type": "code",
      "execution_count": null,
      "metadata": {
        "collapsed": false
      },
      "outputs": [],
      "source": [
        "print(joint.dim)\nprint(joint.geometry)"
      ]
    },
    {
      "cell_type": "markdown",
      "metadata": {},
      "source": [
        "## Density evaluation\n\nA main method of the joint distribution is to be able to evaluate the\nun-normalized log density function (logd) given a set of values for the\nvariables. This can be achieved by passing either positional or keyword\narguments.\n\n"
      ]
    },
    {
      "cell_type": "code",
      "execution_count": null,
      "metadata": {
        "collapsed": false
      },
      "outputs": [],
      "source": [
        "# Using keyword arguments\nlogd = joint.logd(y=np.ones(m), x=np.ones(n))\nprint(logd)\n\n# Using positional arguments\nassert logd == joint.logd(np.ones(m), np.ones(n))\n\n# Here the arguments follow the order shown when printing the joint distribution.\n# The order can also be inspected by calling the `.get_parameter_names()` method.\nprint(joint.get_parameter_names())"
      ]
    },
    {
      "cell_type": "markdown",
      "metadata": {},
      "source": [
        "## Conditioning: How to get the posterior distribution\n\nOften we observe some data assumed to come from the Bayesian model\ndescribed by the joint distribution and want to use that data to\nestimate the remaining parameters. To achieve this, we need to define\nthe posterior distribution, which is the distribution of the parameters\ngiven the data. That is, $p(\\mathbf{x} \\mid \\mathbf{y}^{obs})$.\n\nIn CUQIpy, this is done by conditioning the joint distribution on the data.\nThe conditioning works much more generally than only on the data\nas we will see later.\t\n\n"
      ]
    },
    {
      "cell_type": "code",
      "execution_count": null,
      "metadata": {
        "collapsed": false
      },
      "outputs": [],
      "source": [
        "# Define posterior distribution\nposterior = joint(y=y_obs)\n\n# Notice how the equations and densities change to reflect the conditioning.\nprint(posterior)"
      ]
    },
    {
      "cell_type": "markdown",
      "metadata": {},
      "source": [
        "<div class=\"alert alert-info\"><h4>Note</h4><p>The posterior distribution as shown above can be sampled via the sampler module.\n    See e.g. the tutorial on sampling :doc:`Sampling tutorial <../_auto_tutorials/4-Samplers>`.</p></div>\n\nBecause the posterior no longer depends on the data, the dimension is only\nwith respect to the parameters.\n\n"
      ]
    },
    {
      "cell_type": "code",
      "execution_count": null,
      "metadata": {
        "collapsed": false
      },
      "outputs": [],
      "source": [
        "print(f\"Posterior dimension: {posterior.dim}\")\nprint(f\"Posterior geometry: {posterior.geometry}\")"
      ]
    },
    {
      "cell_type": "markdown",
      "metadata": {},
      "source": [
        "## Defining hierarchical Bayesian models\n\nThe joint distribution is general enough to allow us to define hierarchical\nBayesian models.\n\nFor example, consider the following extension of the Bayesian model earlier:\n\n\\begin{align}\\begin{align}\n        d &\\sim \\mathrm{Gamma}(1, 10^{-4}) \\\\\n        l &\\sim \\mathrm{Gamma}(1,10^{-4}) \\\\\n        \\mathbf{x} &\\sim \\mathcal{N}(\\mathbf{0}, d^{-1} \\mathbf{I}_n) \\\\\n        \\mathbf{y} &\\sim \\mathcal{N}(\\mathbf{A} \\mathbf{x}, s^{-1} \\mathbf{I}_m)\n    \\end{align}\\end{align}\n\nWe can write this model in CUQIpy as follows:\n\n"
      ]
    },
    {
      "cell_type": "code",
      "execution_count": null,
      "metadata": {
        "collapsed": false
      },
      "outputs": [],
      "source": [
        "# Define distribution\nd = Gamma(1, 1e-4)\nl = Gamma(1, 1e-4)\nx = Gaussian(np.zeros(n), lambda d: 1/d*In)\ny = Gaussian(lambda x: A@x, lambda l: 1/l*Im, geometry=m)\n\n# Define joint distribution p(d,l,x,y)\njoint_hier = JointDistribution(d, l, x, y)\n\n# Notice how the equations and densities change\nprint(joint_hier)"
      ]
    },
    {
      "cell_type": "markdown",
      "metadata": {},
      "source": [
        "We can again define the posterior $p(d, l, \\mathbf{x} \\mid \\mathbf{y}^{obs})$\nas follows:\n\n"
      ]
    },
    {
      "cell_type": "code",
      "execution_count": null,
      "metadata": {
        "collapsed": false
      },
      "outputs": [],
      "source": [
        "# Define posterior distribution\nposterior_hier = joint_hier(y=y_obs)\n\n# Notice how the density for y becomes a likelihood\nprint(posterior_hier)\n\n# In this case the posterior is still a joint distribution\n# over the parameters d, l, and x."
      ]
    },
    {
      "cell_type": "markdown",
      "metadata": {},
      "source": [
        "<div class=\"alert alert-info\"><h4>Note</h4><p>The joint distribution as shown above can be sampled via the sampler module.\n    See e.g. the tutorial on Gibbs sampling :doc:`Gibbs tutorial <../_auto_tutorials/Gibbs>`.</p></div>\n\n\n"
      ]
    }
  ],
  "metadata": {
    "kernelspec": {
      "display_name": "Python 3",
      "language": "python",
      "name": "python3"
    },
    "language_info": {
      "codemirror_mode": {
        "name": "ipython",
        "version": 3
      },
      "file_extension": ".py",
      "mimetype": "text/x-python",
      "name": "python",
      "nbconvert_exporter": "python",
      "pygments_lexer": "ipython3",
      "version": "3.12.3"
    }
  },
  "nbformat": 4,
  "nbformat_minor": 0
}