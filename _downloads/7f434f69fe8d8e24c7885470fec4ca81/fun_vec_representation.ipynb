{
  "cells": [
    {
      "cell_type": "markdown",
      "metadata": {},
      "source": [
        "\n# Support vector representation of function values in CUQIpy geometries and samples\n\nIn this demo, we illustrate the utility of an introduced representation of variables in CUQIpy (besides the already introduced parameter and function value representation). This representation, is a vector representation of the function values. The function values generally can be an n-dimensional array or any other type of object. When needed and when possible, this introduced representation is used to represent the function values as a vector (1D array). In particular, it is used to represent the function values of samples in a vector format. This is useful for computing statistics on the function values of samples. \n"
      ]
    },
    {
      "cell_type": "markdown",
      "metadata": {},
      "source": [
        "## Import the necessary modules\n\n"
      ]
    },
    {
      "cell_type": "code",
      "execution_count": null,
      "metadata": {
        "collapsed": false
      },
      "outputs": [],
      "source": [
        "import cuqi\nimport numpy as np\nimport matplotlib.pyplot as plt"
      ]
    },
    {
      "cell_type": "markdown",
      "metadata": {},
      "source": [
        "Set the seed for reproducibility\n\n"
      ]
    },
    {
      "cell_type": "code",
      "execution_count": null,
      "metadata": {
        "collapsed": false
      },
      "outputs": [],
      "source": [
        "np.random.seed(0)"
      ]
    },
    {
      "cell_type": "markdown",
      "metadata": {},
      "source": [
        "## Create a 1D and a mapped 2D geometries\n\n"
      ]
    },
    {
      "cell_type": "markdown",
      "metadata": {},
      "source": [
        "Create a 1D KLExpansion geometry with 7 modes (and hence 7 KL expansion\ncoefficients) and a 100-point grid defined on the interval [0, 1]\n\n"
      ]
    },
    {
      "cell_type": "code",
      "execution_count": null,
      "metadata": {
        "collapsed": false
      },
      "outputs": [],
      "source": [
        "geom_1D = cuqi.geometry.KLExpansion(\n    grid=np.linspace(0, 1, 100),\n    num_modes=7\n)"
      ]
    },
    {
      "cell_type": "markdown",
      "metadata": {},
      "source": [
        "Create a mapped 2D Image geometry. We first define a threshold map that gives\n1 if x is greater than or equal to 1. Otherwise, it gives zero. Then we create\nthe geometry\n\n"
      ]
    },
    {
      "cell_type": "code",
      "execution_count": null,
      "metadata": {
        "collapsed": false
      },
      "outputs": [],
      "source": [
        "def my_map(x):\n    return np.where(x >= 1, 1, 0)\n\ngeom_2D = cuqi.geometry.MappedGeometry(\n    cuqi.geometry.Image2D((7, 7)),\n    map=my_map)"
      ]
    },
    {
      "cell_type": "markdown",
      "metadata": {},
      "source": [
        "Query the geometries `fun_is_array` property\n\n"
      ]
    },
    {
      "cell_type": "code",
      "execution_count": null,
      "metadata": {
        "collapsed": false
      },
      "outputs": [],
      "source": [
        "print(geom_1D.fun_is_array)\nprint(geom_2D.fun_is_array)"
      ]
    },
    {
      "cell_type": "markdown",
      "metadata": {},
      "source": [
        "This property indicates whether the function value representation is an\narray (not necessarily a 1D array) or not.\n\n"
      ]
    },
    {
      "cell_type": "markdown",
      "metadata": {},
      "source": [
        "Query the number of parameters for both geometries\n\n"
      ]
    },
    {
      "cell_type": "code",
      "execution_count": null,
      "metadata": {
        "collapsed": false
      },
      "outputs": [],
      "source": [
        "print(geom_1D.par_dim)\nprint(geom_2D.par_dim)"
      ]
    },
    {
      "cell_type": "markdown",
      "metadata": {},
      "source": [
        "Query the `shape` of the function value representation for both geometries\n\n"
      ]
    },
    {
      "cell_type": "code",
      "execution_count": null,
      "metadata": {
        "collapsed": false
      },
      "outputs": [],
      "source": [
        "print(geom_1D.fun_shape)\nprint(geom_2D.fun_shape)"
      ]
    },
    {
      "cell_type": "markdown",
      "metadata": {},
      "source": [
        "Query the `shape` of the vector representation of the function values for both\ngeometries\n\n"
      ]
    },
    {
      "cell_type": "code",
      "execution_count": null,
      "metadata": {
        "collapsed": false
      },
      "outputs": [],
      "source": [
        "print(geom_1D.funvec_shape)\nprint(geom_2D.funvec_shape)"
      ]
    },
    {
      "cell_type": "markdown",
      "metadata": {},
      "source": [
        "## Create random samples corresponding to each geometry\n\n"
      ]
    },
    {
      "cell_type": "markdown",
      "metadata": {},
      "source": [
        "Create samples of random parameter values that correspond to each geometry.\nFor the 1D geometry, we create 5 random samples from a Gaussian distribution\nwith a zero mean and a variance of 1. These samples are samples of the KL \ncoefficients equipped with the KL geometry object. \n\n"
      ]
    },
    {
      "cell_type": "code",
      "execution_count": null,
      "metadata": {
        "collapsed": false
      },
      "outputs": [],
      "source": [
        "x_kl = cuqi.distribution.Gaussian(np.zeros(geom_1D.par_dim), 1, geometry=geom_1D)\nsamples_1D = x_kl.sample(5)"
      ]
    },
    {
      "cell_type": "markdown",
      "metadata": {},
      "source": [
        "For the 2D geometry, we create 5 random samples from a Gaussian distribution\nwith a \"smile\" image mean and a 0.01 variance. The smile image given by the\n7 by 7 array below\n\n"
      ]
    },
    {
      "cell_type": "code",
      "execution_count": null,
      "metadata": {
        "collapsed": false
      },
      "outputs": [],
      "source": [
        "smile = np.array([[0, 0, 0, 0, 0, 0, 0],\n                    [0, 1, 1, 0, 1, 1, 0],\n                    [0, 0, 0, 0, 0, 0, 0],\n                    [1, 0, 0, 0, 0, 0, 1],\n                    [1, 0, 0, 0, 0, 0, 1],\n                    [0, 1, 1, 1, 1, 1, 0],\n                    [0, 0, 0, 0, 0, 0, 0]])\nx = cuqi.distribution.Gaussian(smile.ravel(), 0.01, geometry=geom_2D)\nsamples_2D = x.sample(5)"
      ]
    },
    {
      "cell_type": "markdown",
      "metadata": {},
      "source": [
        "We plot the smile for illustration \n\n"
      ]
    },
    {
      "cell_type": "code",
      "execution_count": null,
      "metadata": {
        "collapsed": false
      },
      "outputs": [],
      "source": [
        "plt.imshow(smile, cmap='Greys_r')"
      ]
    },
    {
      "cell_type": "markdown",
      "metadata": {},
      "source": [
        "We plot a 2D sample (the sample with index 4 in this case)\n\n"
      ]
    },
    {
      "cell_type": "code",
      "execution_count": null,
      "metadata": {
        "collapsed": false
      },
      "outputs": [],
      "source": [
        "samples_2D.plot(4)"
      ]
    },
    {
      "cell_type": "markdown",
      "metadata": {},
      "source": [
        "## Obtain the corresponding samples of function values (`funvals`)\n\n"
      ]
    },
    {
      "cell_type": "code",
      "execution_count": null,
      "metadata": {
        "collapsed": false
      },
      "outputs": [],
      "source": [
        "samples_1D.funvals\nsamples_2D.funvals"
      ]
    },
    {
      "cell_type": "markdown",
      "metadata": {},
      "source": [
        "Note that the `funvals` property of the `Samples` class returns a `Samples`\nobject\n\n"
      ]
    },
    {
      "cell_type": "markdown",
      "metadata": {},
      "source": [
        "query the `shape` of the `.funvals` property for both samples objects\n\n"
      ]
    },
    {
      "cell_type": "code",
      "execution_count": null,
      "metadata": {
        "collapsed": false
      },
      "outputs": [],
      "source": [
        "print(\"samples_1D.funvals.shape\")\nprint(samples_1D.funvals.shape)\nprint(\"samples_2D.funvals.shape\")\nprint(samples_2D.funvals.shape)"
      ]
    },
    {
      "cell_type": "markdown",
      "metadata": {},
      "source": [
        "Note that for the 2D geometry, the `shape` of the `funvals` is (7, 7, 5). This\nis because the function value representation is a 2D array.\n\n"
      ]
    },
    {
      "cell_type": "markdown",
      "metadata": {},
      "source": [
        "query the `shape` of the `.funvals.vector` property for both samples objects\n\n"
      ]
    },
    {
      "cell_type": "code",
      "execution_count": null,
      "metadata": {
        "collapsed": false
      },
      "outputs": [],
      "source": [
        "print(\"samples_1D.funvals.vector.shape\")\nprint(samples_1D.funvals.vector.shape)\nprint(\"samples_2D.funvals.vector.shape\")\nprint(samples_2D.funvals.vector.shape)"
      ]
    },
    {
      "cell_type": "markdown",
      "metadata": {},
      "source": [
        "Now for both geometries, the samples in the converted Samples object is a two\ndimensional arrays. In this case, executing the `funvals` property leads to\ncalling the `par2fun` method of the geometry to convert the parameter values\nto function values. Then executing the `vector` property leads to calling the\n`fun2vec` method of the geometry (if implemented) to convert the function\nvalues to a vector representation of these values.\n\n"
      ]
    },
    {
      "cell_type": "markdown",
      "metadata": {},
      "source": [
        "query the `shape` of the `.vector` property for both geometries\n\n"
      ]
    },
    {
      "cell_type": "code",
      "execution_count": null,
      "metadata": {
        "collapsed": false
      },
      "outputs": [],
      "source": [
        "print(\"samples_1D.vector.shape\")\nprint(samples_1D.vector.shape)\nprint(\"samples_2D.vector.shape\")\nprint(samples_2D.vector.shape)"
      ]
    },
    {
      "cell_type": "markdown",
      "metadata": {},
      "source": [
        "For samples_1D, we query the `is_par` and `is_vec` properties for all\nrepresentations of the samples\n\n"
      ]
    },
    {
      "cell_type": "code",
      "execution_count": null,
      "metadata": {
        "collapsed": false
      },
      "outputs": [],
      "source": [
        "print(\"samples_1D.is_par\")\nprint(samples_1D.is_par)\nprint(\"samples_1D.is_vec\")\nprint(samples_1D.is_vec)\n\nprint(\"samples_1D.vector.is_par\")\nprint(samples_1D.vector.is_par)\nprint(\"samples_1D.vector.is_vec\")\nprint(samples_1D.vector.is_vec)\n\nprint(\"samples_1D.funvals.is_par\")\nprint(samples_1D.funvals.is_par)\nprint(\"samples_1D.funvals.is_vec\")\nprint(samples_1D.funvals.is_vec)\n\nprint(\"samples_1D.funvals.vector.is_par\")\nprint(samples_1D.funvals.vector.is_par)\nprint(\"samples_1D.funvals.vector.is_vec\")\nprint(samples_1D.funvals.vector.is_vec)"
      ]
    },
    {
      "cell_type": "markdown",
      "metadata": {},
      "source": [
        "Note that for this 1D geometry, the `is_vec` property is always `True`. This\nis because the function value representation is a 1D array.\n\n"
      ]
    },
    {
      "cell_type": "markdown",
      "metadata": {},
      "source": [
        "We do the same for samples_2D\n\n"
      ]
    },
    {
      "cell_type": "code",
      "execution_count": null,
      "metadata": {
        "collapsed": false
      },
      "outputs": [],
      "source": [
        "print(\"samples_2D.is_par\")\nprint(samples_2D.is_par)\nprint(\"samples_2D.is_vec\")\nprint(samples_2D.is_vec)\n\nprint(\"samples_2D.vector.is_par\")\nprint(samples_2D.vector.is_par)\nprint(\"samples_2D.vector.is_vec\")\nprint(samples_2D.vector.is_vec)\n\nprint(\"samples_2D.funvals.is_par\")\nprint(samples_2D.funvals.is_par)\nprint(\"samples_2D.funvals.is_vec\")\nprint(samples_2D.funvals.is_vec)\n\nprint(\"samples_2D.funvals.vector.is_par\")\nprint(samples_2D.funvals.vector.is_par)\nprint(\"samples_2D.funvals.vector.is_vec\")\nprint(samples_2D.funvals.vector.is_vec)"
      ]
    },
    {
      "cell_type": "markdown",
      "metadata": {},
      "source": [
        "Note that the property `samples_2D.funvals.is_vec` is false, but after\nconverting the function values to a vector representation using the `vector`\nproperty, the property `samples_2D.vector.funvals.vector.is_vec` is true.\n\n"
      ]
    },
    {
      "cell_type": "markdown",
      "metadata": {},
      "source": [
        "## Computing statistics on parameter and on function values for samples (the 1D geometry case)\n\n"
      ]
    },
    {
      "cell_type": "markdown",
      "metadata": {},
      "source": [
        "Compute and plot mean on parameter values and on function values. Note \nthat the default behavior of the `plot_mean` method is to compute the \nmean on the parameters then apply the `par2fun` map on the mean. Passing\nthe argument `plot_par=True` results in plotting the mean of the original \nparameter values (the KL expansion coefficients).\n\n"
      ]
    },
    {
      "cell_type": "code",
      "execution_count": null,
      "metadata": {
        "collapsed": false
      },
      "outputs": [],
      "source": [
        "print(\"samples_1D.plot_mean with plot_par=True\")\nplt.figure()\nsamples_1D.plot_mean(plot_par=True)\n\nprint(\"samples_1D.plot_mean\")\nplt.figure()\nsamples_1D.plot_mean(color='r')\nprint(\"samples_1D.funvals.plot_mean\")\nsamples_1D.funvals.plot_mean(color='b', linestyle='--')"
      ]
    },
    {
      "cell_type": "markdown",
      "metadata": {},
      "source": [
        "Note that in the second figure, the mean in both cases is the same, i. e.,\napplying the KL map\n(the linear combination of the of the KL expansion basis vectors weighted by\nthe given KL coefficients) on the average KL coefficients is the same as\napplying the KL map on each sample then computing the mean of the result.\n\n"
      ]
    },
    {
      "cell_type": "markdown",
      "metadata": {},
      "source": [
        "Compute variance on parameter values and on function values\n\n"
      ]
    },
    {
      "cell_type": "code",
      "execution_count": null,
      "metadata": {
        "collapsed": false
      },
      "outputs": [],
      "source": [
        "print(\"samples_1D.plot_variance with plot_par=True\")\nplt.figure()\nsamples_1D.plot_variance(plot_par=True)\n\nprint(\"samples_1D.plot_variance\")\nplt.figure()\nsamples_1D.plot_variance(color='r')\nprint(\"samples_1D.funvals.plot_variance\")\nsamples_1D.funvals.plot_variance(color='b', linestyle='--')"
      ]
    },
    {
      "cell_type": "markdown",
      "metadata": {},
      "source": [
        "Here in the second figure, the results of\ncomputing the variance differ in both cases. Additionally, computing the\nvariance of the parameters then applying the KL map can result in negative\nvalues.\n\n"
      ]
    },
    {
      "cell_type": "markdown",
      "metadata": {},
      "source": [
        "## Computing statistics on parameter and on function values for samples (the 2D geometry case)\n\n"
      ]
    },
    {
      "cell_type": "markdown",
      "metadata": {},
      "source": [
        "Compute mean on parameter values, function values, and vector representation\nof function values\n\n"
      ]
    },
    {
      "cell_type": "code",
      "execution_count": null,
      "metadata": {
        "collapsed": false
      },
      "outputs": [],
      "source": [
        "print(\"samples_2D.plot_mean\")\nplt.figure()\nsamples_2D.plot_mean(vmin=0, vmax=1)\nplt.colorbar()\n\nprint(\"samples_2D.funvals.plot_mean\")\nplt.figure()\nsamples_2D.funvals.plot_mean(vmin=0, vmax=1)\nplt.colorbar()\n\nprint(\"samples_2D.funvals.vector.plot_mean\")\nplt.figure()\nsamples_2D.funvals.vector.plot_mean(vmin=0, vmax=1)\nplt.colorbar()"
      ]
    },
    {
      "cell_type": "markdown",
      "metadata": {},
      "source": [
        "Compute variance on parameter values, function values, and vector representation\nof function values\n\n"
      ]
    },
    {
      "cell_type": "code",
      "execution_count": null,
      "metadata": {
        "collapsed": false
      },
      "outputs": [],
      "source": [
        "print(\"samples_2D.plot_variance\")\nplt.figure()\nsamples_2D.plot_variance(vmin=0, vmax=1)\nplt.colorbar()\n\nprint(\"samples_2D.funvals.plot_variance\")\nplt.figure()\nsamples_2D.funvals.plot_variance(vmin=0, vmax=1)\nplt.colorbar()\n\nprint(\"samples_2D.funvals.vector.plot_variance\")\nplt.figure()\nsamples_2D.funvals.vector.plot_variance(vmin=0, vmax=1)\nplt.colorbar()"
      ]
    },
    {
      "cell_type": "markdown",
      "metadata": {},
      "source": [
        "Note that computing the samples mean then applying the thresholding, the first\ncase, is not equivalent to applying the thresholding on the samples then\ncomputing their mean (the latter two cases).\nSimilar observation can be made about computing the variance. In fact, the\nvariance in the first case is just zero because the parameter sample variance\n(before thresholding) is smaller than 1, the thresholding, then, forces all\nthe values to zero.\nAlso note that, in this case, we are able to compute the statistics directly\non the function values, but for some geometries, this may not be possible and\nwe may need to use the vector representation of the function values to compute\nthe statistics.\n\n"
      ]
    },
    {
      "cell_type": "markdown",
      "metadata": {},
      "source": [
        "## Plotting samples\n\n"
      ]
    },
    {
      "cell_type": "markdown",
      "metadata": {},
      "source": [
        "Plot samples from `samples_2D`:\n\n"
      ]
    },
    {
      "cell_type": "code",
      "execution_count": null,
      "metadata": {
        "collapsed": false
      },
      "outputs": [],
      "source": [
        "print(\"samples_2D.plot\")\nplt.figure()\nsamples_2D.plot([1, 4])"
      ]
    },
    {
      "cell_type": "markdown",
      "metadata": {},
      "source": [
        "Plot samples from `samples_2D.funvals`:\n\n"
      ]
    },
    {
      "cell_type": "code",
      "execution_count": null,
      "metadata": {
        "collapsed": false
      },
      "outputs": [],
      "source": [
        "print(\"samples_2D.funvals.plot\")\nplt.figure()\nsamples_2D.funvals.plot([1, 4])"
      ]
    },
    {
      "cell_type": "markdown",
      "metadata": {},
      "source": [
        "Plot samples from `samples_2D.funvals.vector`:\n\n"
      ]
    },
    {
      "cell_type": "code",
      "execution_count": null,
      "metadata": {
        "collapsed": false
      },
      "outputs": [],
      "source": [
        "print(\"samples_2D.funvals.vector.plot\")\nplt.figure()\nsamples_2D.funvals.vector.plot([1, 4])"
      ]
    },
    {
      "cell_type": "markdown",
      "metadata": {},
      "source": [
        "The results are the same in all the three cases. Note that for the first case,\nthe default behavior of the `plot` method is to convert the samples to the\nfunction values and then plot them. If one is interested in plotting the\noriginal parameter values, one can pass the argument `plot_par=True` to the\n`plot` method.\n\n"
      ]
    },
    {
      "cell_type": "code",
      "execution_count": null,
      "metadata": {
        "collapsed": false
      },
      "outputs": [],
      "source": [
        "print(\"samples_2D.plot([1, 4], plot_par=True)\")\nplt.figure()\nsamples_2D.plot([1, 4], plot_par=True)"
      ]
    }
  ],
  "metadata": {
    "kernelspec": {
      "display_name": "Python 3",
      "language": "python",
      "name": "python3"
    },
    "language_info": {
      "codemirror_mode": {
        "name": "ipython",
        "version": 3
      },
      "file_extension": ".py",
      "mimetype": "text/x-python",
      "name": "python",
      "nbconvert_exporter": "python",
      "pygments_lexer": "ipython3",
      "version": "3.12.3"
    }
  },
  "nbformat": 4,
  "nbformat_minor": 0
}