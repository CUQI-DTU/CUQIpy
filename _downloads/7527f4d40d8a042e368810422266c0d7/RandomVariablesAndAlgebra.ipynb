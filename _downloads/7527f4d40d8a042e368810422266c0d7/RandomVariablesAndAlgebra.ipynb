{
  "cells": [
    {
      "cell_type": "markdown",
      "metadata": {},
      "source": [
        "\n# Random Variables and Algebra in CUQIpy\n\nCUQIpy provides a simple algebraic framework for defining and manipulating\nrandom variables.\n\nIn this example, we demonstrate how to define random variables, apply algebraic\noperations on them, and finally use them in Bayesian Problems.\n"
      ]
    },
    {
      "cell_type": "markdown",
      "metadata": {},
      "source": [
        "## Defining Random Variables\n\n"
      ]
    },
    {
      "cell_type": "code",
      "execution_count": null,
      "metadata": {
        "collapsed": false
      },
      "outputs": [],
      "source": [
        "# Random variables can be defined by either initialising the RandomVariable class\n# with a distribution object or by retrieving the `rv` attribute of a distribution.\n# The distribution object can be any distribution from the `cuqi.distribution` module.\n\nfrom cuqi.distribution import Normal\nfrom cuqi.experimental.algebra import RandomVariable\n\nx = RandomVariable(Normal(0, 1))\ny = Normal(0, 1).rv"
      ]
    },
    {
      "cell_type": "markdown",
      "metadata": {},
      "source": [
        "## Recording Algebraic Operations\nWe can now perform some algebraic operations on the random variables. The\noperations are recorded in a computational graph, which can be evaluated\nlater.\n\n"
      ]
    },
    {
      "cell_type": "code",
      "execution_count": null,
      "metadata": {
        "collapsed": false
      },
      "outputs": [],
      "source": [
        "print(\"Basic operations: \\n\")\nprint(f\"x + y yields:\\n{x + y}\\n\")\nprint(f\"x - y yields:\\n{x - y}\\n\")\nprint(f\"x * y yields:\\n{x * y}\\n\")\nprint(f\"x / y yields:\\n{x / y}\\n\")"
      ]
    },
    {
      "cell_type": "code",
      "execution_count": null,
      "metadata": {
        "collapsed": false
      },
      "outputs": [],
      "source": [
        "print(\"Complex operations: \\n\")\nprint(f\"x**2 + 2*x*y + y**2 yields:\\n{x**2 + 2*x*y + y**2}\\n\")\nprint(f\"(x + y)**2 yields\\n{(x + y)**2}\\n\")"
      ]
    },
    {
      "cell_type": "code",
      "execution_count": null,
      "metadata": {
        "collapsed": false
      },
      "outputs": [],
      "source": [
        "print(\"Array operations: \\n\")\nprint(f\"x[0] + y[1] yields:\\n{x[0] + y[1]}\\n\")"
      ]
    },
    {
      "cell_type": "markdown",
      "metadata": {},
      "source": [
        "## Utilizing the recorded operations\nWe can evaluate the recorded operations by calling the random variable object\nwith the desired values for the random variables.\n\n"
      ]
    },
    {
      "cell_type": "code",
      "execution_count": null,
      "metadata": {
        "collapsed": false
      },
      "outputs": [],
      "source": [
        "# Define a new random variable 'z'\nz = (x + y)**2\n\n# Evaluate the expression (using the __call__ method)\nprint(f\"z={z.expression} evaluated at x=1, y=2 yields: {z(x=1, y=2)}\")"
      ]
    },
    {
      "cell_type": "markdown",
      "metadata": {},
      "source": [
        "## Building Bayesian Problems\nRandom variables can be used to define Bayesian problems. In this example we build\nan example Bayesian problem using the Deconvolution1D test problem.\n\n"
      ]
    },
    {
      "cell_type": "code",
      "execution_count": null,
      "metadata": {
        "collapsed": false
      },
      "outputs": [],
      "source": [
        "from cuqi.testproblem import Deconvolution1D\nfrom cuqi.distribution import Gaussian, Gamma, GMRF\nfrom cuqi.experimental.algebra import RandomVariable\nfrom cuqi.problem import BayesianProblem\nfrom cuqi.distribution import JointDistribution\nfrom cuqi.sampler import HybridGibbs, LinearRTO, Conjugate, ConjugateApprox\nimport numpy as np\nimport matplotlib.pyplot as plt\n\n# Forward model\nA, y_obs, info = Deconvolution1D().get_components()\n\n# Bayesian Problem (defined using Random Variables)\nd = Gamma(1, 1e-4).rv\ns = Gamma(1, 1e-4).rv\nx = GMRF(np.zeros(A.domain_dim), d).rv\ny = Gaussian(A @ x, 1/s).rv\n\n# Combine into a Bayesian Problem and perform UQ\nBP = BayesianProblem(y, x, s, d)\nBP.set_data(y=y_obs)\nBP.UQ(exact={\"x\": info.exactSolution})\n\n# Random variables can also be used to define JointDistribution. Here we solve the same\n# problem above by explictly forming a target distribution and then drawing samples with\n# the HybridGibbs sampler.\ntarget = JointDistribution(y, x, s, d)(y=y_obs)\n\n# Sampling strategy\nsampling_strategy = {\n    \"x\" : LinearRTO(),\n    \"s\" : Conjugate(),\n    \"d\" : Conjugate()\n}\n\n# Gibbs sampler\nsampler = HybridGibbs(target, sampling_strategy)\n\n# Run sampler\nsampler.warmup(200)\nsampler.sample(1000)\nsamples = sampler.get_samples()\n\n# Plot\nplt.figure()\nsamples[\"x\"].plot_ci(exact=info.exactSolution)"
      ]
    },
    {
      "cell_type": "markdown",
      "metadata": {},
      "source": [
        "Conditioning on random variables (example 1)\n\n"
      ]
    },
    {
      "cell_type": "code",
      "execution_count": null,
      "metadata": {
        "collapsed": false
      },
      "outputs": [],
      "source": [
        "s = Gaussian(0, 1).rv\nx = Gaussian(0, s).rv\ny = Gaussian(0, lambda d: d).rv\n\nz = x+y\n\nz.condition(s=1)\nz.condition(d=2)"
      ]
    },
    {
      "cell_type": "markdown",
      "metadata": {},
      "source": [
        "Or conditioning on the variables s, or d\n\n"
      ]
    },
    {
      "cell_type": "code",
      "execution_count": null,
      "metadata": {
        "collapsed": false
      },
      "outputs": [],
      "source": [
        "z.condition(s=1)"
      ]
    },
    {
      "cell_type": "markdown",
      "metadata": {},
      "source": [
        "Conditioning on random variables (example 2)\n\n"
      ]
    },
    {
      "cell_type": "code",
      "execution_count": null,
      "metadata": {
        "collapsed": false
      },
      "outputs": [],
      "source": [
        "from cuqi.testproblem import Deconvolution1D\nfrom cuqi.distribution import Gaussian, Gamma, GMRF\nfrom cuqi.experimental.algebra import RandomVariable\nfrom cuqi.problem import BayesianProblem\nimport numpy as np\n\n# Forward model\nA, y_obs, info = Deconvolution1D(dim=4).get_components()\n\n# Bayesian Problem (defined using Random Variables)\nd = Gamma(1, 1e-4).rv\ns = Gamma(1, 1e-4).rv\nx = GMRF(np.zeros(A.domain_dim), d).rv\ny = Gaussian(A @ x, 1/s).rv\n\n\nz = x+y\n\nz.condition(x=np.zeros(A.domain_dim))"
      ]
    },
    {
      "cell_type": "markdown",
      "metadata": {},
      "source": [
        "## Sampling from random variables\nRandom variables can be sampled using the `sample` method. The method returns a\nsample from the distribution of the random variable.\n\n"
      ]
    },
    {
      "cell_type": "code",
      "execution_count": null,
      "metadata": {
        "collapsed": false
      },
      "outputs": [],
      "source": [
        "x = RandomVariable(Normal(0, 1))\n\nprint(f\"Sample from x: {x.sample()}\")"
      ]
    },
    {
      "cell_type": "markdown",
      "metadata": {},
      "source": [
        "This can be combined with algebraic operations to sample from more complex\nrandom variables.\n\n"
      ]
    },
    {
      "cell_type": "code",
      "execution_count": null,
      "metadata": {
        "collapsed": false
      },
      "outputs": [],
      "source": [
        "z = x + x**2 + 25\n\nprint(f\"Sample from z: {z.sample()}\")"
      ]
    },
    {
      "cell_type": "markdown",
      "metadata": {},
      "source": [
        "## Constructing a Beta distribution using Gamma random variables\nRandom variables can also be combined to create new distributions.\nThis is primarily useful for sampling at this stage.\nFor example, a Beta distribution can be constructed from two Gamma distributions:\nIf X ~ Gamma(a1, 1) and Y ~ Gamma(a2, 1), then Z = X / (X + Y) ~ Beta(a1, a2).\nWe illustrate this by comparing samples from a Beta distribution to samples\nconstructed using two Gamma distributions.\n\n"
      ]
    },
    {
      "cell_type": "code",
      "execution_count": null,
      "metadata": {
        "collapsed": false
      },
      "outputs": [],
      "source": [
        "from cuqi.distribution import Beta, Gamma\n\n# Define the shape parameters of the Beta distribution\na1, a2 = 3, 2\n\n# Step 1: Directly define a Beta distribution\nz_ref = RandomVariable(Beta(a1, a2))\n\n# Step 2: Construct the Beta distribution using Gamma random variables\nx = RandomVariable(Gamma(a1, 1))  # X ~ Gamma(a1, 1)\ny = RandomVariable(Gamma(a2, 1))  # Y ~ Gamma(a2, 1)\nz = x / (x + y)                   # Z ~ Beta(a1, a2)\n\n# Step 3: Sample from both distributions\nz_samples = z.sample(10000)       # Samples from constructed Beta distribution\nz_ref_samples = z_ref.sample(10000)  # Samples from direct Beta distribution\n\n# Step 4: Plot histograms of the samples for comparison\nz_samples.hist_chain([0], bins=100)\nz_ref_samples.hist_chain([0], bins=100)"
      ]
    }
  ],
  "metadata": {
    "kernelspec": {
      "display_name": "Python 3",
      "language": "python",
      "name": "python3"
    },
    "language_info": {
      "codemirror_mode": {
        "name": "ipython",
        "version": 3
      },
      "file_extension": ".py",
      "mimetype": "text/x-python",
      "name": "python",
      "nbconvert_exporter": "python",
      "pygments_lexer": "ipython3",
      "version": "3.12.3"
    }
  },
  "nbformat": 4,
  "nbformat_minor": 0
}