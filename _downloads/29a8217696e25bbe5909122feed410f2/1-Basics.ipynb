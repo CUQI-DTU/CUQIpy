{
  "cells": [
    {
      "cell_type": "markdown",
      "metadata": {},
      "source": [
        "\n# CUQIpy Basics\n\nIn this tutorial, we will learn about the basic concepts of CUQIpy.\n\nThe aim of this tutorial is to help you get started with CUQIpy and start doing uncertainty quantification in five simple steps.\n\n    * Step 1: Define deterministic model\n    * Step 2: Define prior(s)\n    * Step 3: Define likelihood\n    * Step 4: Sample from the posterior\n    * Step 5: Analyze the results\n"
      ]
    },
    {
      "cell_type": "code",
      "execution_count": null,
      "metadata": {
        "collapsed": false
      },
      "outputs": [],
      "source": [
        "import cuqi"
      ]
    },
    {
      "cell_type": "markdown",
      "metadata": {},
      "source": [
        "## Step 1: Deterministic model\n\nFor the purpose of this tutorial we focus on a simple 1D deconvolution problem.\n\nConsider the deterministic inverse problem\n\n\\begin{align}\\mathbf{y} = \\mathbf{A} \\mathbf{x}\\end{align}\n\nwhere $\\mathbf{A}$ is a matrix representing a 1D convolution operation and\n$\\mathbf{y}$ and $\\mathbf{x}$ are the data and unknown (solution to the inverse problem) respectively.\n\nA linear forward model like $\\mathbf{A}$ is represented by a :class:`~cuqi.model.LinearModel`\nand any data (like some observed data $\\mathbf{y}^\\mathrm{obs}$) as a :class:`~cuqi.array.CUQIarray`.\n\nThe easiest way to get these two components is to use the built-in testproblem module.\nIf you are interested in defining your own model see the how-to guides on that.\n\nLet us extract the model and data for a 1D deconvolution.\nIn this case we use the default settings for the testproblem.\n\n"
      ]
    },
    {
      "cell_type": "code",
      "execution_count": null,
      "metadata": {
        "collapsed": false
      },
      "outputs": [],
      "source": [
        "A, y_obs, info = cuqi.testproblem.Deconvolution1D().get_components()"
      ]
    },
    {
      "cell_type": "markdown",
      "metadata": {},
      "source": [
        ".. todo::\n   Continue tutorial here.\n\n"
      ]
    }
  ],
  "metadata": {
    "kernelspec": {
      "display_name": "Python 3",
      "language": "python",
      "name": "python3"
    },
    "language_info": {
      "codemirror_mode": {
        "name": "ipython",
        "version": 3
      },
      "file_extension": ".py",
      "mimetype": "text/x-python",
      "name": "python",
      "nbconvert_exporter": "python",
      "pygments_lexer": "ipython3",
      "version": "3.12.3"
    }
  },
  "nbformat": 4,
  "nbformat_minor": 0
}