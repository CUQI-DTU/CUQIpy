{
  "cells": [
    {
      "cell_type": "markdown",
      "metadata": {},
      "source": [
        "\n# Uncertainty Quantification in one-dimensional deconvolution\n\n    This tutorial walks through the process of solving a simple 1D \n    deconvolution problem in a Bayesian setting. It also shows how\n    to define such a convolution model in CUQIpy.\n"
      ]
    },
    {
      "cell_type": "markdown",
      "metadata": {},
      "source": [
        "## Setup\nWe start by importing the necessary modules\n\n"
      ]
    },
    {
      "cell_type": "code",
      "execution_count": null,
      "metadata": {
        "collapsed": false
      },
      "outputs": [],
      "source": [
        "import cuqi\nimport numpy as np\nimport matplotlib.pyplot as plt"
      ]
    },
    {
      "cell_type": "markdown",
      "metadata": {},
      "source": [
        "## Setting up the forward model\nWe start by defining the forward model. In this case, we will use a simple\nconvolution model. The forward model is defined by the following equation:\n\n\\begin{align}\\mathbf{y} = \\mathbf{A} \\mathbf{x}\\end{align}\n\nwhere $\\mathbf{y}$ is the data, $\\mathbf{A}$ is the convolution (forward model)\noperator, and $\\mathbf{x}$ is the solution.\n\nThe easiest way to define the forward model is to use the testproblem module.\nThis module contains a number of pre-defined test problems that contain the\nforward model and synthetic data. In this case, we will use the\n:class:`cuqi.testproblem.Deconvolution1D` test problem. We extract the forward model\nand synthetic data from the test problem by calling the :func:`get_components`\nmethod.\n\n"
      ]
    },
    {
      "cell_type": "code",
      "execution_count": null,
      "metadata": {
        "collapsed": false
      },
      "outputs": [],
      "source": [
        "# Forward model and data\nA, y_data, info = cuqi.testproblem.Deconvolution1D().get_components()"
      ]
    },
    {
      "cell_type": "markdown",
      "metadata": {},
      "source": [
        "There are many parameters that can be set when creating the test problem. For more details\nsee the :class:`cuqi.testproblem.Deconvolution1D` documentation. In this case, we will use\nthe default parameters. The :func:`get_components` method returns the forward model, \nsynthetic data, and a :class:`~ProblemInfo` object that contains information about the \ntest problem.\n\nLet's take a look at the forward model\n\n"
      ]
    },
    {
      "cell_type": "code",
      "execution_count": null,
      "metadata": {
        "collapsed": false
      },
      "outputs": [],
      "source": [
        "print(A)"
      ]
    },
    {
      "cell_type": "markdown",
      "metadata": {},
      "source": [
        "We see that the forward model is a a :class:`~cuqi.model.LinearModel` object. This\nobject contains the forward model and the adjoint model. We also see that the domain and\nrange of the forward model are both continuous 1D spaces. Finally, we see that the default\nforward parameters are set to $\\mathbf{x}$.\n\n"
      ]
    },
    {
      "cell_type": "markdown",
      "metadata": {},
      "source": [
        "Let's take a look at the synthetic data and compare with the exact solution\nthat we can find in the :class:`~ProblemInfo` object.\n\n"
      ]
    },
    {
      "cell_type": "code",
      "execution_count": null,
      "metadata": {
        "collapsed": false
      },
      "outputs": [],
      "source": [
        "y_data.plot(label=\"Synthetic data\")\ninfo.exactSolution.plot(label=\"Exact solution\")\nplt.title(\"Deconvolution 1D problem\")\nplt.legend()"
      ]
    },
    {
      "cell_type": "markdown",
      "metadata": {},
      "source": [
        "## Setting up the prior\n\nWe now need to define the prior distribution for the solution. In this case, we will use\na Gaussian Markov Random Field (GMRF) prior. For more details on the GMRF prior, see the\n:class:`cuqi.distribution.GMRF` documentation.\n\n"
      ]
    },
    {
      "cell_type": "code",
      "execution_count": null,
      "metadata": {
        "collapsed": false
      },
      "outputs": [],
      "source": [
        "x = cuqi.distribution.GMRF(np.zeros(A.domain_dim), 200)"
      ]
    },
    {
      "cell_type": "markdown",
      "metadata": {},
      "source": [
        "## Setting up the likelihood\n\nWe now need to define the likelihood. First let us take a look at the information provided\nby the test problem.\n\n"
      ]
    },
    {
      "cell_type": "code",
      "execution_count": null,
      "metadata": {
        "collapsed": false
      },
      "outputs": [],
      "source": [
        "print(info.infoString)"
      ]
    },
    {
      "cell_type": "markdown",
      "metadata": {},
      "source": [
        "We see that the noise level is known and that the noise is Gaussian. We can use this\ninformation to define the likelihood. In this case, we will use a :class:`~cuqi.distribution.Gaussian`\ndistribution.\n\n"
      ]
    },
    {
      "cell_type": "code",
      "execution_count": null,
      "metadata": {
        "collapsed": false
      },
      "outputs": [],
      "source": [
        "y = cuqi.distribution.Gaussian(A @ x, 0.01**2)"
      ]
    },
    {
      "cell_type": "markdown",
      "metadata": {},
      "source": [
        "## Bayesian problem (Joint distribution)\n\nAfter defining the prior and likelihood, we can now define the Bayesian problem. The\nBayesian problem is defined by the joint distribution of the solution and the data.\nThis can be seen when we print the Bayesian problem.\n\n"
      ]
    },
    {
      "cell_type": "code",
      "execution_count": null,
      "metadata": {
        "collapsed": false
      },
      "outputs": [],
      "source": [
        "BP = cuqi.problem.BayesianProblem(y, x)\n\nprint(BP)"
      ]
    },
    {
      "cell_type": "markdown",
      "metadata": {},
      "source": [
        "## Setting the data (posterior)\n\nNow to set the data, we need to call the :func:`~cuqi.problem.BayesianProblem.set_data`\n\n"
      ]
    },
    {
      "cell_type": "code",
      "execution_count": null,
      "metadata": {
        "collapsed": false
      },
      "outputs": [],
      "source": [
        "BP.set_data(y=y_data)\n\nprint(BP)"
      ]
    },
    {
      "cell_type": "markdown",
      "metadata": {},
      "source": [
        "## Sampling from the posterior\n\nWe can then use the automatic sampling method to sample from the posterior distribution.\n\n"
      ]
    },
    {
      "cell_type": "code",
      "execution_count": null,
      "metadata": {
        "collapsed": false
      },
      "outputs": [],
      "source": [
        "samples = BP.sample_posterior(1000)"
      ]
    },
    {
      "cell_type": "markdown",
      "metadata": {},
      "source": [
        "## Plotting the results\n\n"
      ]
    },
    {
      "cell_type": "code",
      "execution_count": null,
      "metadata": {
        "collapsed": false
      },
      "outputs": [],
      "source": [
        "samples.plot_ci(exact=info.exactSolution)"
      ]
    },
    {
      "cell_type": "markdown",
      "metadata": {},
      "source": [
        "## Unknown noise level\nIn the previous example, we assumed that we knew the noise level of the data. In\nmany cases, this is not the case. If we do not know the noise level, we can\nuse a :class:`~cuqi.distribution.Gamma` distribution to model the noise level.\n\n"
      ]
    },
    {
      "cell_type": "code",
      "execution_count": null,
      "metadata": {
        "collapsed": false
      },
      "outputs": [],
      "source": [
        "s = cuqi.distribution.Gamma(1, 1e-4)"
      ]
    },
    {
      "cell_type": "markdown",
      "metadata": {},
      "source": [
        "## Update likelihood with unknown noise level\n\n"
      ]
    },
    {
      "cell_type": "code",
      "execution_count": null,
      "metadata": {
        "collapsed": false
      },
      "outputs": [],
      "source": [
        "y = cuqi.distribution.Gaussian(A @ x, prec=lambda s: s)"
      ]
    },
    {
      "cell_type": "markdown",
      "metadata": {},
      "source": [
        "## Bayesian problem (Joint distribution)\n\n"
      ]
    },
    {
      "cell_type": "code",
      "execution_count": null,
      "metadata": {
        "collapsed": false
      },
      "outputs": [],
      "source": [
        "BP = cuqi.problem.BayesianProblem(y, x, s)\n\nprint(BP)"
      ]
    },
    {
      "cell_type": "markdown",
      "metadata": {},
      "source": [
        "## Setting the data (posterior)\n\n\n"
      ]
    },
    {
      "cell_type": "code",
      "execution_count": null,
      "metadata": {
        "collapsed": false
      },
      "outputs": [],
      "source": [
        "BP.set_data(y=y_data)\n\nprint(BP)"
      ]
    },
    {
      "cell_type": "markdown",
      "metadata": {},
      "source": [
        "## Sampling from the posterior\n\n"
      ]
    },
    {
      "cell_type": "code",
      "execution_count": null,
      "metadata": {
        "collapsed": false
      },
      "outputs": [],
      "source": [
        "samples = BP.sample_posterior(1000)"
      ]
    },
    {
      "cell_type": "markdown",
      "metadata": {},
      "source": [
        "## Plotting the results\n\nLet is first look at the estimated noise level\nand compare it with the true noise level\n\n"
      ]
    },
    {
      "cell_type": "code",
      "execution_count": null,
      "metadata": {
        "collapsed": false
      },
      "outputs": [],
      "source": [
        "samples[\"s\"].plot_trace(exact=1/0.01**2)"
      ]
    },
    {
      "cell_type": "markdown",
      "metadata": {},
      "source": [
        "We see that the estimated noise level is close to the true noise level. Let's\nnow look at the estimated solution\n\n"
      ]
    },
    {
      "cell_type": "code",
      "execution_count": null,
      "metadata": {
        "collapsed": false
      },
      "outputs": [],
      "source": [
        "samples[\"x\"].plot_ci(exact=info.exactSolution)"
      ]
    },
    {
      "cell_type": "markdown",
      "metadata": {},
      "source": [
        "We can even plot traces of \"x\" for a few cases and compare\n\n"
      ]
    },
    {
      "cell_type": "code",
      "execution_count": null,
      "metadata": {
        "collapsed": false
      },
      "outputs": [],
      "source": [
        "samples[\"x\"].plot_trace(exact=info.exactSolution)"
      ]
    },
    {
      "cell_type": "markdown",
      "metadata": {},
      "source": [
        "And finally we note that the UQ method does this analysis automatically and shows a selected number of plots\n\n"
      ]
    },
    {
      "cell_type": "code",
      "execution_count": null,
      "metadata": {
        "collapsed": false
      },
      "outputs": [],
      "source": [
        "BP.UQ(exact={\"x\": info.exactSolution, \"s\": 1/0.01**2})"
      ]
    }
  ],
  "metadata": {
    "kernelspec": {
      "display_name": "Python 3",
      "language": "python",
      "name": "python3"
    },
    "language_info": {
      "codemirror_mode": {
        "name": "ipython",
        "version": 3
      },
      "file_extension": ".py",
      "mimetype": "text/x-python",
      "name": "python",
      "nbconvert_exporter": "python",
      "pygments_lexer": "ipython3",
      "version": "3.12.3"
    }
  },
  "nbformat": 4,
  "nbformat_minor": 0
}