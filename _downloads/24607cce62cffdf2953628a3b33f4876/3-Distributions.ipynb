{
  "cells": [
    {
      "cell_type": "markdown",
      "metadata": {},
      "source": [
        "\n# Distributions\n\nThis tutorial will cover the basic concepts of distributions. In particular how to construct a distributions in various forms.\n\nThe most important concept of distributions in CUQIpy are the fact that they can be conditioned on some variables.\n"
      ]
    },
    {
      "cell_type": "code",
      "execution_count": null,
      "metadata": {
        "collapsed": false
      },
      "outputs": [],
      "source": [
        "import cuqi"
      ]
    },
    {
      "cell_type": "markdown",
      "metadata": {},
      "source": [
        ".. todo::\n   Continue tutorial here.\n\n"
      ]
    }
  ],
  "metadata": {
    "kernelspec": {
      "display_name": "Python 3",
      "language": "python",
      "name": "python3"
    },
    "language_info": {
      "codemirror_mode": {
        "name": "ipython",
        "version": 3
      },
      "file_extension": ".py",
      "mimetype": "text/x-python",
      "name": "python",
      "nbconvert_exporter": "python",
      "pygments_lexer": "ipython3",
      "version": "3.12.3"
    }
  },
  "nbformat": 4,
  "nbformat_minor": 0
}