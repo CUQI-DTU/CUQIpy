{
  "cells": [
    {
      "cell_type": "markdown",
      "metadata": {},
      "source": [
        "\n# How to define a Posterior distribution\n\nThe recommended way to define a posterior distribution in CUQIpy is to use the\n:class:`~cuqi.distribution.JointDistribution` class to define the joint\ndistribution of the parameters and the data and then condition on observed\ndata to obtain the posterior distribution as shown in the examples below.\n"
      ]
    },
    {
      "cell_type": "code",
      "execution_count": null,
      "metadata": {
        "collapsed": false
      },
      "outputs": [],
      "source": [
        "import cuqi\nimport numpy as np"
      ]
    },
    {
      "cell_type": "markdown",
      "metadata": {},
      "source": [
        "## A simple Bayesian inverse problem\n\nConsider a deconvolution inverse problem given by\n\n\\begin{align}\\mathbf{y} = \\mathbf{A}\\mathbf{x}.\\end{align}\n\nSee :class:`~cuqi.testproblem.Deconvolution1D` for more details.\n\n"
      ]
    },
    {
      "cell_type": "code",
      "execution_count": null,
      "metadata": {
        "collapsed": false
      },
      "outputs": [],
      "source": [
        "A, y_obs, _ = cuqi.testproblem.Deconvolution1D().get_components()"
      ]
    },
    {
      "cell_type": "markdown",
      "metadata": {},
      "source": [
        "Then consider the following Bayesian model\n\n\\begin{align}\\begin{align*}\n   \\mathbf{x} &\\sim \\mathcal{N}(\\mathbf{0}, 0.1\\,\\mathbf{I})\\\\\n   \\mathbf{y} &\\sim \\mathcal{N}(\\mathbf{A}\\mathbf{x}, 0.05^2\\,\\mathbf{I})\n   \\end{align*}\\end{align}\n\nwhich can be written in CUQIpy as\n\n"
      ]
    },
    {
      "cell_type": "code",
      "execution_count": null,
      "metadata": {
        "collapsed": false
      },
      "outputs": [],
      "source": [
        "x = cuqi.distribution.Gaussian(np.zeros(A.domain_dim), 0.1)\ny = cuqi.distribution.Gaussian(A(x), 0.05**2)"
      ]
    },
    {
      "cell_type": "markdown",
      "metadata": {},
      "source": [
        "The joint distribution $p(\\mathbf{x}, \\mathbf{y})$ is then obtained by\n\n"
      ]
    },
    {
      "cell_type": "code",
      "execution_count": null,
      "metadata": {
        "collapsed": false
      },
      "outputs": [],
      "source": [
        "joint = cuqi.distribution.JointDistribution(x, y)\nprint(joint)"
      ]
    },
    {
      "cell_type": "markdown",
      "metadata": {},
      "source": [
        "The posterior $p(\\mathbf{x}|\\mathbf{y}=\\mathbf{y}^\\mathrm{obs})$\nis obtained by conditioning on the observed data as follows.\n\n"
      ]
    },
    {
      "cell_type": "code",
      "execution_count": null,
      "metadata": {
        "collapsed": false
      },
      "outputs": [],
      "source": [
        "posterior = joint(y=y_obs)\nprint(posterior)"
      ]
    },
    {
      "cell_type": "markdown",
      "metadata": {},
      "source": [
        "Evaluating the posterior log density is then as simple as\n\n"
      ]
    },
    {
      "cell_type": "code",
      "execution_count": null,
      "metadata": {
        "collapsed": false
      },
      "outputs": [],
      "source": [
        "posterior.logd(np.ones(A.domain_dim))"
      ]
    },
    {
      "cell_type": "markdown",
      "metadata": {},
      "source": [
        "## Posterior with two forward models\n\nSuppose we had two forward models $\\mathbf{A}$ and $\\mathbf{B}$:\n\n\\begin{align}\\begin{align*}\n   \\mathbf{y} &= \\mathbf{A}\\mathbf{x}\\\\\n   \\mathbf{d} &= \\mathbf{B}\\mathbf{x}\\\\\n   \\end{align*}\\end{align}\n\n"
      ]
    },
    {
      "cell_type": "code",
      "execution_count": null,
      "metadata": {
        "collapsed": false
      },
      "outputs": [],
      "source": [
        "# Both observations come from the same unknown x\nA, y_obs, _ = cuqi.testproblem.Deconvolution1D().get_components()\nB, d_obs, _ = cuqi.testproblem.Deconvolution1D(PSF=\"Defocus\", noise_std=0.02).get_components()"
      ]
    },
    {
      "cell_type": "markdown",
      "metadata": {},
      "source": [
        "Then consider the following Bayesian model\n\n\\begin{align}\\begin{align*}\n   \\mathbf{x} &\\sim \\mathcal{N}(\\mathbf{0}, 0.1\\,\\mathbf{I})\\\\\n   \\mathbf{y} &\\sim \\mathcal{N}(\\mathbf{A}\\mathbf{x}, 0.05^2\\mathbf{I})\\\\\n   \\mathbf{d} &\\sim \\mathcal{N}(\\mathbf{B}\\mathbf{x}, 0.01^2\\mathbf{I})\n   \\end{align*}\\end{align}\n\n"
      ]
    },
    {
      "cell_type": "code",
      "execution_count": null,
      "metadata": {
        "collapsed": false
      },
      "outputs": [],
      "source": [
        "x = cuqi.distribution.Gaussian(np.zeros(A.domain_dim), 0.1)\ny = cuqi.distribution.Gaussian(A(x), 0.05**2)\nd = cuqi.distribution.Gaussian(B(x), 0.01**2)"
      ]
    },
    {
      "cell_type": "markdown",
      "metadata": {},
      "source": [
        "The joint distribution $p(\\mathbf{x}, \\mathbf{y}, \\mathbf{d})$ is then\nobtained by\n\n"
      ]
    },
    {
      "cell_type": "code",
      "execution_count": null,
      "metadata": {
        "collapsed": false
      },
      "outputs": [],
      "source": [
        "joint2 = cuqi.distribution.JointDistribution(x, y, d)\nprint(joint2)"
      ]
    },
    {
      "cell_type": "markdown",
      "metadata": {},
      "source": [
        "The posterior $p(\\mathbf{x}|\\mathbf{y}=\\mathbf{y}^\\mathrm{obs},\\mathbf{d}=\\mathbf{d}^\\mathrm{obs})$\nis obtained by conditioning on the observed data as follows.\n\n"
      ]
    },
    {
      "cell_type": "code",
      "execution_count": null,
      "metadata": {
        "collapsed": false
      },
      "outputs": [],
      "source": [
        "posterior2 = joint2(y=y_obs, d=d_obs)\nprint(posterior2)"
      ]
    },
    {
      "cell_type": "markdown",
      "metadata": {},
      "source": [
        "Evaluating the posterior log density is then as simple as\n\n"
      ]
    },
    {
      "cell_type": "code",
      "execution_count": null,
      "metadata": {
        "collapsed": false
      },
      "outputs": [],
      "source": [
        "posterior2.logd(np.ones(A.domain_dim))"
      ]
    },
    {
      "cell_type": "markdown",
      "metadata": {},
      "source": [
        "## Arbitrarily complex posterior distributions\n\nThe :class:`~cuqi.distribution.JointDistribution` class can be used to\nconstruct arbitrarily complex posterior distributions. For example suppose\nwe have the following 3 forward models\n\n\\begin{align}\\begin{align*}\n   \\mathbf{y} &= \\mathbf{A}\\mathbf{x}\\\\\n   \\mathbf{d} &= \\mathbf{B}\\mathbf{x}\\\\\n   \\mathbf{b} &= C(\\mathbf{x})\n   \\end{align*}\\end{align}\n\nwhere $C$ is a nonlinear function.\n\n"
      ]
    },
    {
      "cell_type": "code",
      "execution_count": null,
      "metadata": {
        "collapsed": false
      },
      "outputs": [],
      "source": [
        "# Same x for all 3 observations\nA, y_obs, _ = cuqi.testproblem.Deconvolution1D().get_components()\nB, d_obs, _ = cuqi.testproblem.Deconvolution1D(PSF=\"Defocus\", noise_std=0.02).get_components()\nC = cuqi.model.Model(lambda x: np.linalg.norm(x)**2, 1, A.domain_dim)\nb_obs = 16"
      ]
    },
    {
      "cell_type": "markdown",
      "metadata": {},
      "source": [
        "Then consider the following Bayesian model\n\n\\begin{align}\\begin{align*}\n   q          &\\sim \\mathcal{U}(0.1, 10)\\\\\n   l          &\\sim \\mathrm{Gamma}(1, 1)\\\\\n   s          &\\sim \\mathrm{Gamma}(1, 10^{-2})\\\\\n   \\mathbf{x} &\\sim \\mathcal{N}(\\mathbf{0}, l^{-1}\\mathbf{I})\\\\\n   \\mathbf{y} &\\sim \\mathcal{N}(\\mathbf{A}\\mathbf{x}, s^{-1}\\mathbf{I})\\\\\n   \\mathbf{d} &\\sim \\mathcal{N}(\\mathbf{B}\\mathbf{x}, 0.01\\mathbf{I})\\\\\n   \\mathbf{b} &\\sim \\mathcal{L}(\\mathbf{C}(\\mathbf{x}), q)\n   \\end{align*}\\end{align}\n\n"
      ]
    },
    {
      "cell_type": "code",
      "execution_count": null,
      "metadata": {
        "collapsed": false
      },
      "outputs": [],
      "source": [
        "q = cuqi.distribution.Uniform(0.1, 10)\nl = cuqi.distribution.Gamma(1, 1)\ns = cuqi.distribution.Gamma(1, 1e-2)\nx = cuqi.distribution.Gaussian(np.zeros(A.domain_dim), lambda l: 1/l)\ny = cuqi.distribution.Gaussian(A(x), lambda s: 1/s)\nd = cuqi.distribution.Gaussian(B(x), 0.01**2)\nb = cuqi.distribution.Laplace(C(x), lambda q: q)"
      ]
    },
    {
      "cell_type": "markdown",
      "metadata": {},
      "source": [
        "The joint distribution $p(q, l, s, \\mathbf{x}, \\mathbf{y}, \\mathbf{d}, \\mathbf{b})$\nis then obtained by\n\n"
      ]
    },
    {
      "cell_type": "code",
      "execution_count": null,
      "metadata": {
        "collapsed": false
      },
      "outputs": [],
      "source": [
        "joint3 = cuqi.distribution.JointDistribution(q, l, s, x, y, d, b)\nprint(joint3)"
      ]
    },
    {
      "cell_type": "markdown",
      "metadata": {},
      "source": [
        "The posterior $p(q, l, s, \\mathbf{x}|\\mathbf{y}=\\mathbf{y}^\\mathrm{obs},\\mathbf{d}=\\mathbf{d}^\\mathrm{obs},\\mathbf{b}=\\mathbf{b}^\\mathrm{obs})$\nis obtained by conditioning on the observed data as follows.\n\n"
      ]
    },
    {
      "cell_type": "code",
      "execution_count": null,
      "metadata": {
        "collapsed": false
      },
      "outputs": [],
      "source": [
        "posterior3 = joint3(y=y_obs, d=d_obs, b=b_obs)\nprint(posterior3)"
      ]
    },
    {
      "cell_type": "markdown",
      "metadata": {},
      "source": [
        "Evaluating the posterior log density jointly over p, l, s, and $\\mathbf{x}$\nis then as simple as\n\n"
      ]
    },
    {
      "cell_type": "code",
      "execution_count": null,
      "metadata": {
        "collapsed": false
      },
      "outputs": [],
      "source": [
        "posterior3.logd(q=1, l=1, s=1, x=np.ones(A.domain_dim))"
      ]
    }
  ],
  "metadata": {
    "kernelspec": {
      "display_name": "Python 3",
      "language": "python",
      "name": "python3"
    },
    "language_info": {
      "codemirror_mode": {
        "name": "ipython",
        "version": 3
      },
      "file_extension": ".py",
      "mimetype": "text/x-python",
      "name": "python",
      "nbconvert_exporter": "python",
      "pygments_lexer": "ipython3",
      "version": "3.12.3"
    }
  },
  "nbformat": 4,
  "nbformat_minor": 0
}