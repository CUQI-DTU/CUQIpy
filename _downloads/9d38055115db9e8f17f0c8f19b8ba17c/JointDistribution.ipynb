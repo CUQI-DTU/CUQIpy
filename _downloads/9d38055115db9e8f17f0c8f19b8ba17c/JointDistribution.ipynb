{
  "cells": [
    {
      "cell_type": "markdown",
      "metadata": {},
      "source": [
        "\n# Joint Distribution technical details\n\n    This shows technical aspects of the JointDistribution class.\n    These are mostly relevant for developers and advanced users.\n    See :doc:`Joint distribution tutorial <../../user/_auto_tutorials/JointDistribution>`\n    for a more user-friendly introduction.\n"
      ]
    },
    {
      "cell_type": "markdown",
      "metadata": {},
      "source": [
        "## Setup\n\n"
      ]
    },
    {
      "cell_type": "code",
      "execution_count": null,
      "metadata": {
        "collapsed": false
      },
      "outputs": [],
      "source": [
        "import sys; sys.path.append(\"../..\")\nimport numpy as np\nfrom cuqi.distribution import Gaussian, Gamma, JointDistribution\nfrom cuqi.testproblem import Deconvolution1D\n\n# Model and data\nA, y_obs, _ = Deconvolution1D().get_components()\n\n# Model dimensions\nn = A.domain_dim\nm = A.range_dim"
      ]
    },
    {
      "cell_type": "markdown",
      "metadata": {},
      "source": [
        "## Defining hierarchical Bayesian models\n\nThe joint distribution is general enough to allow us to define hierarchical\nBayesian models.\n\nFor example, consider the following extension of the Bayesian model earlier:\n\n\\begin{align}\\begin{align}\n        d &\\sim \\mathrm{Gamma}(1, 10^{-4}) \\\\\n        l &\\sim \\mathrm{Gamma}(1,10^{-4}) \\\\\n        \\mathbf{x} &\\sim \\mathcal{N}(\\mathbf{0}, d^{-1} \\mathbf{I}_n) \\\\\n        \\mathbf{y} &\\sim \\mathcal{N}(\\mathbf{A} \\mathbf{x}, s^{-1} \\mathbf{I}_m)\n    \\end{align}\\end{align}\n\nWe can write this model in CUQIpy as follows:\n\n"
      ]
    },
    {
      "cell_type": "code",
      "execution_count": null,
      "metadata": {
        "collapsed": false
      },
      "outputs": [],
      "source": [
        "# Define distribution\nd = Gamma(1, 1e-4)\nl = Gamma(1, 1e-4)\nx = Gaussian(np.zeros(n), lambda d: 1/d)\ny = Gaussian(lambda x: A@x, lambda l: 1/l, geometry=m)"
      ]
    },
    {
      "cell_type": "markdown",
      "metadata": {},
      "source": [
        "Define joint distribution p(d,l,x,y)\n\n"
      ]
    },
    {
      "cell_type": "code",
      "execution_count": null,
      "metadata": {
        "collapsed": false
      },
      "outputs": [],
      "source": [
        "joint = JointDistribution(d, l, x, y)\nprint(joint)"
      ]
    },
    {
      "cell_type": "markdown",
      "metadata": {},
      "source": [
        "Define posterior\n\n"
      ]
    },
    {
      "cell_type": "code",
      "execution_count": null,
      "metadata": {
        "collapsed": false
      },
      "outputs": [],
      "source": [
        "posterior = joint(y=y_obs)\nprint(posterior)"
      ]
    },
    {
      "cell_type": "markdown",
      "metadata": {},
      "source": [
        "## Enabling Gibbs sampling\n\nOne of the main purposes of the joint distribution is to be able to sample\nusing a Gibbs scheme. For this to work we need to be able to define the\ndistribution of each variable conditioned on the other variables.\n\nThat is, we need to define\n\n\\begin{align}C_\\mathbf{x}&=p(\\mathbf{x} \\mid \\hat{\\mathbf{y}}, \\hat{d}, \\hat{l})\\\\\n      C_d&=p(d \\mid \\hat{\\mathbf{y}}, \\hat{\\mathbf{x}}, \\hat{l})\\\\\n      C_l&=p(l \\mid \\hat{\\mathbf{y}}, \\hat{\\mathbf{x}}, \\hat{d})\\end{align}\n\nAssuming we have some fixed values for $\\mathbf{x}$, $d$ and $l$,\nwhich we have denoted with the hat symbol. These simply indicate any fixed value.\n\nThen we can simply condition the joint distribution on these values and it will\nhandle the rest.\n\n"
      ]
    },
    {
      "cell_type": "code",
      "execution_count": null,
      "metadata": {
        "collapsed": false
      },
      "outputs": [],
      "source": [
        "# Assume we want to condition on these values\nyh = y_obs\nxh = np.ones(n)\ndh = 1\nlh = 1\n\n# The conditionals can be computed as follows:\nCx = joint(y=yh, d=dh, l=lh)\nCd = joint(y=yh, x=xh, l=lh)\nCl = joint(y=yh, x=xh, d=dh)\n\n# We can try inspecting one of these conditional distributions.\n# Notice how conditional distributions changed into a posterior distribution.\nprint(Cd)"
      ]
    },
    {
      "cell_type": "markdown",
      "metadata": {},
      "source": [
        "## Going into the internals of the joint distribution\n\nA useful \"hack\" is to have the joint distribution act as if it were a single\nparameter density. This is achieved by calling the `._as_stacked()` method.\nThis returns a new \"stacked\" joint distribution that the samplers/solvers\ncan use as if it were any other Density.\n\n"
      ]
    },
    {
      "cell_type": "code",
      "execution_count": null,
      "metadata": {
        "collapsed": false
      },
      "outputs": [],
      "source": [
        "posterior_stacked = posterior._as_stacked()\n\nprint(posterior_stacked)"
      ]
    },
    {
      "cell_type": "markdown",
      "metadata": {},
      "source": [
        "Here the dimension is the sum of the dimensions of the individual variables.\nThe geometry is assumed as a default geometry matching the dimension.\n\n"
      ]
    },
    {
      "cell_type": "code",
      "execution_count": null,
      "metadata": {
        "collapsed": false
      },
      "outputs": [],
      "source": [
        "print(f\"Stacked Posterior dimension: {posterior_stacked.dim}\")\nprint(f\"Stacked Posterior geometry: {posterior_stacked.geometry}\")"
      ]
    },
    {
      "cell_type": "markdown",
      "metadata": {},
      "source": [
        "Finally you can evaluate the log density of the stacked using a single vector\nof parameters.\n\n"
      ]
    },
    {
      "cell_type": "code",
      "execution_count": null,
      "metadata": {
        "collapsed": false
      },
      "outputs": [],
      "source": [
        "logd = posterior_stacked.logd(np.ones(posterior_stacked.dim))\n\nprint(logd)"
      ]
    }
  ],
  "metadata": {
    "kernelspec": {
      "display_name": "Python 3",
      "language": "python",
      "name": "python3"
    },
    "language_info": {
      "codemirror_mode": {
        "name": "ipython",
        "version": 3
      },
      "file_extension": ".py",
      "mimetype": "text/x-python",
      "name": "python",
      "nbconvert_exporter": "python",
      "pygments_lexer": "ipython3",
      "version": "3.12.3"
    }
  },
  "nbformat": 4,
  "nbformat_minor": 0
}