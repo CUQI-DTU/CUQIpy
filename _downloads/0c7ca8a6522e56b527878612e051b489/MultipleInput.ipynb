{
  "cells": [
    {
      "cell_type": "markdown",
      "metadata": {},
      "source": [
        "\n# Multiple input model: bathtub demo\n\nThis is a demo for bathtub water temperature and volume model using CUQIpy. \nWe have measurements of the temperature and volume of the water in the bathtub\nand want to infer the temperature and volume of the hot water and the cold water\nthat were used to fill in the bathtub\n"
      ]
    },
    {
      "cell_type": "markdown",
      "metadata": {},
      "source": [
        "## Import libraries\n\n"
      ]
    },
    {
      "cell_type": "code",
      "execution_count": null,
      "metadata": {
        "collapsed": false
      },
      "outputs": [],
      "source": [
        "import cuqi\nimport numpy as np"
      ]
    },
    {
      "cell_type": "markdown",
      "metadata": {},
      "source": [
        "## Define the forward map\n\n`h_v` is the volume of hot water, `h_t` is the temperature of hot water,\n`c_v` is the volume of cold water, and `c_t` is the temperature of cold water.\n\n"
      ]
    },
    {
      "cell_type": "code",
      "execution_count": null,
      "metadata": {
        "collapsed": false
      },
      "outputs": [],
      "source": [
        "def forward_map(h_v, h_t, c_v, c_t): \n    # volume\n    volume = h_v + c_v\n    # temperature\n    temp = (h_v * h_t + c_v * c_t) / (h_v + c_v)\n\n    return np.array([volume, temp]).reshape(2,)"
      ]
    },
    {
      "cell_type": "markdown",
      "metadata": {},
      "source": [
        "## Define gradient functions with respect to the unknown parameters\n\n"
      ]
    },
    {
      "cell_type": "code",
      "execution_count": null,
      "metadata": {
        "collapsed": false
      },
      "outputs": [],
      "source": [
        "# Define the gradient with respect to h_v\ndef gradient_h_v(direction, h_v, h_t, c_v, c_t):\n    return (\n        direction[0]\n        + (h_t / (h_v + c_v) - (h_v * h_t + c_v * c_t) / (h_v + c_v) ** 2)\n        * direction[1]\n    )\n\n# Define the gradient with respect to h_t\ndef gradient_h_t(direction, h_v, h_t, c_v, c_t):\n    return (h_v / (h_v + c_v)) * direction[1]\n\n# Define the gradient with respect to c_v\ndef gradient_c_v(direction, h_v, h_t, c_v, c_t):\n    return (\n        direction[0]\n        + (c_t / (h_v + c_v) - (h_v * h_t + c_v * c_t) / (h_v + c_v) ** 2)\n        * direction[1]\n    )\n\n# Define the gradient with respect to c_t\ndef gradient_c_t(direction, h_v, h_t, c_v, c_t):\n    return (c_v / (h_v + c_v)) * direction[1]"
      ]
    },
    {
      "cell_type": "markdown",
      "metadata": {},
      "source": [
        "## Define domain geometry and range geometry\n\n"
      ]
    },
    {
      "cell_type": "code",
      "execution_count": null,
      "metadata": {
        "collapsed": false
      },
      "outputs": [],
      "source": [
        "domain_geometry = (\n    cuqi.geometry.Discrete(['h_v']),\n    cuqi.geometry.Discrete(['h_t']),\n    cuqi.geometry.Discrete(['c_v']),\n    cuqi.geometry.Discrete(['c_t'])\n)\n\nrange_geometry = cuqi.geometry.Discrete(['temperature','volume'])"
      ]
    },
    {
      "cell_type": "markdown",
      "metadata": {},
      "source": [
        "## Define the forward model object\n\n"
      ]
    },
    {
      "cell_type": "code",
      "execution_count": null,
      "metadata": {
        "collapsed": false
      },
      "outputs": [],
      "source": [
        "model = cuqi.model.Model(\n    forward=forward_map,\n    gradient=(gradient_h_v, gradient_h_t, gradient_c_v, gradient_c_t),\n    domain_geometry=domain_geometry,\n    range_geometry=range_geometry\n)"
      ]
    },
    {
      "cell_type": "markdown",
      "metadata": {},
      "source": [
        "## Experiment with partial evaluation of the model\n\n"
      ]
    },
    {
      "cell_type": "code",
      "execution_count": null,
      "metadata": {
        "collapsed": false
      },
      "outputs": [],
      "source": [
        "print(\"\\nmodel()\\n\", model())\nprint(\"\\nmodel(h_v = 50)\\n\", model(h_v=50))\nprint(\"\\nmodel(h_v = 50, h_t = 60)\\n\", model(h_v=50, h_t=60))\nprint(\"\\nmodel(h_v = 50, h_t = 60, c_v = 30)\\n\", model(h_v=50, h_t=60, c_v=30))\nprint(\n    \"\\nmodel(h_v = 50, h_t = 60, c_v = 30, c_t = 10)\\n\",\n    model(h_v=50, h_t=60, c_v=30, c_t=10),\n)"
      ]
    },
    {
      "cell_type": "markdown",
      "metadata": {},
      "source": [
        "## Define prior distributions for the unknown parameters\n\n"
      ]
    },
    {
      "cell_type": "code",
      "execution_count": null,
      "metadata": {
        "collapsed": false
      },
      "outputs": [],
      "source": [
        "h_v_dist = cuqi.distribution.Uniform(0, 60, geometry=domain_geometry[0])\nh_t_dist = cuqi.distribution.Uniform(40, 70, geometry=domain_geometry[1])\nc_v_dist = cuqi.distribution.Uniform(0, 60, geometry=domain_geometry[2])\nc_t_dist = cuqi.distribution.TruncatedNormal(\n    10, 2**2, 7, 15, geometry=domain_geometry[3]\n)"
      ]
    },
    {
      "cell_type": "markdown",
      "metadata": {},
      "source": [
        "## Define a data distribution\n\n"
      ]
    },
    {
      "cell_type": "code",
      "execution_count": null,
      "metadata": {
        "collapsed": false
      },
      "outputs": [],
      "source": [
        "data_dist = cuqi.distribution.Gaussian(\n    mean=model(h_v_dist, h_t_dist, c_v_dist, c_t_dist),\n    cov=np.array([[1**2, 0], [0, 0.5**2]])\n)"
      ]
    },
    {
      "cell_type": "markdown",
      "metadata": {},
      "source": [
        "## Define a joint distribution of prior and data distributions\n\n"
      ]
    },
    {
      "cell_type": "code",
      "execution_count": null,
      "metadata": {
        "collapsed": false
      },
      "outputs": [],
      "source": [
        "joint_dist = cuqi.distribution.JointDistribution(\n    data_dist,\n    h_v_dist,\n    h_t_dist,\n    c_v_dist,\n    c_t_dist\n)"
      ]
    },
    {
      "cell_type": "markdown",
      "metadata": {},
      "source": [
        "## Define the posterior distribution by setting the observed data\n\n"
      ]
    },
    {
      "cell_type": "code",
      "execution_count": null,
      "metadata": {
        "collapsed": false
      },
      "outputs": [],
      "source": [
        "# Assume measured volume is 60 gallons and measured temperature is 38 degrees\n# celsius\nposterior = joint_dist(data_dist=np.array([60, 38]))"
      ]
    },
    {
      "cell_type": "markdown",
      "metadata": {},
      "source": [
        "## Experiment with conditioning the posterior distribution\n\n"
      ]
    },
    {
      "cell_type": "code",
      "execution_count": null,
      "metadata": {
        "collapsed": false
      },
      "outputs": [],
      "source": [
        "print(\"posterior\", posterior)\nprint(\"\\nposterior(h_v_dist = 50)\\n\", posterior(h_v_dist=50))\nprint(\"\\nposterior(h_v_dist = 50, h_t_dist = 60)\\n\", posterior(h_v_dist=50, h_t_dist=60))\nprint(\n    \"\\nposterior(h_v_dist = 50, h_t_dist = 60, c_v_dist = 30)\\n\",\n    posterior(h_v_dist=50, h_t_dist=60, c_v_dist=30),\n)"
      ]
    },
    {
      "cell_type": "markdown",
      "metadata": {},
      "source": [
        "## Sample from the joint (posterior) distribution\n\nFirst define sampling strategy for Gibbs sampling\n\n"
      ]
    },
    {
      "cell_type": "code",
      "execution_count": null,
      "metadata": {
        "collapsed": false
      },
      "outputs": [],
      "source": [
        "sampling_strategy = {\n    \"h_v_dist\": cuqi.sampler.MH(\n        scale=0.2, initial_point=np.array([30])),\n    \"h_t_dist\": cuqi.sampler.MALA(\n        scale=0.6, initial_point=np.array([50])),\n    \"c_v_dist\": cuqi.sampler.MALA(\n        scale=0.6, initial_point=np.array([30])),\n    \"c_t_dist\": cuqi.sampler.MALA(\n        scale=0.6, initial_point=np.array([10])),\n}"
      ]
    },
    {
      "cell_type": "markdown",
      "metadata": {},
      "source": [
        "Then create the sampler and sample the posterior distribution\n\n"
      ]
    },
    {
      "cell_type": "code",
      "execution_count": null,
      "metadata": {
        "collapsed": false
      },
      "outputs": [],
      "source": [
        "hybridGibbs = cuqi.sampler.HybridGibbs(\n    posterior,\n    sampling_strategy=sampling_strategy)\n\nhybridGibbs.warmup(100)\nhybridGibbs.sample(2000)\nsamples = hybridGibbs.get_samples()"
      ]
    },
    {
      "cell_type": "markdown",
      "metadata": {},
      "source": [
        "## Show results (mean and trace plots)\n\n"
      ]
    },
    {
      "cell_type": "code",
      "execution_count": null,
      "metadata": {
        "collapsed": false
      },
      "outputs": [],
      "source": [
        "# Compute mean values\nmean_h_v = samples['h_v_dist'].mean()\nmean_h_t = samples['h_t_dist'].mean()\nmean_c_v = samples['c_v_dist'].mean()\nmean_c_t = samples['c_t_dist'].mean()\n\n# Print mean values\nprint(f\"Mean h_v: {mean_h_v}, Mean h_t: {mean_h_t}, Mean c_v: {mean_c_v}, Mean c_t: {mean_c_t}\")\nprint(\"Measured volume:\", 60)\nprint(\"Mean predicted volume:\", mean_h_v + mean_c_v)\nprint()\nprint(\"Measured temperature:\", 38)\nprint(\"Mean predicted temperature:\", (mean_h_v * mean_h_t + mean_c_v * mean_c_t) / (mean_h_v + mean_c_v))\n\n# Plot trace of samples\nsamples['h_v_dist'].plot_trace();\nsamples['h_t_dist'].plot_trace();\nsamples['c_v_dist'].plot_trace();\nsamples['c_t_dist'].plot_trace();"
      ]
    }
  ],
  "metadata": {
    "kernelspec": {
      "display_name": "Python 3",
      "language": "python",
      "name": "python3"
    },
    "language_info": {
      "codemirror_mode": {
        "name": "ipython",
        "version": 3
      },
      "file_extension": ".py",
      "mimetype": "text/x-python",
      "name": "python",
      "nbconvert_exporter": "python",
      "pygments_lexer": "ipython3",
      "version": "3.12.3"
    }
  },
  "nbformat": 4,
  "nbformat_minor": 0
}