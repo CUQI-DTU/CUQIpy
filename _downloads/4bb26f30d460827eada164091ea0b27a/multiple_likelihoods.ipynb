{
  "cells": [
    {
      "cell_type": "markdown",
      "metadata": {},
      "source": [
        "\n# Setting a Bayesian model with multiple likelihoods \n\nIn this example we build a PDE-based Bayesian inverse problem where the Bayesian\nmodel has multiple likelihood functions (two different likelihood functions in\nthis case, but it can be readily extended to more functions) for the same \nBayesian parameter `theta`, which represents the conductivity parameters in a\n1D Poisson problem. Each likelihood is associated with a different model set\nup. The models we use here are obtained from the test problem \n:class:`cuqi.testproblem.Poisson1D`. See the class\n:class:`cuqi.testproblem.Poisson1D` documentation for more details about the\nforward model.\n"
      ]
    },
    {
      "cell_type": "markdown",
      "metadata": {},
      "source": [
        "First we import the python libraries needed.\n\n"
      ]
    },
    {
      "cell_type": "code",
      "execution_count": null,
      "metadata": {
        "collapsed": false
      },
      "outputs": [],
      "source": [
        "import cuqi\nimport numpy as np\nimport matplotlib.pyplot as plt\nfrom math import ceil"
      ]
    },
    {
      "cell_type": "markdown",
      "metadata": {},
      "source": [
        "## Choose one of the two cases we study in this demo \n\nWe can choose between two cases:\nChoose `set_up = set_ups[0]` for the case where we have two 1D Poisson models\nthat differ in the observation operator only. And choose `set_up = set_ups[1]`\nfor the case where we have two 1D Poisson models that differ in the source \nterm only. Here we demonstrate the first case, `set_up = set_ups[0]`.\n\n"
      ]
    },
    {
      "cell_type": "code",
      "execution_count": null,
      "metadata": {
        "collapsed": false
      },
      "outputs": [],
      "source": [
        "set_ups = [\"multi_observation\", \"multi_source\"]\nset_up = set_ups[0]\n\nassert set_up == \"multi_observation\" or set_up == \"multi_source\",\\\n    \"set_up must be either 'multi_observation' or 'multi_source'\""
      ]
    },
    {
      "cell_type": "markdown",
      "metadata": {},
      "source": [
        "## Set up the parameters used in both models\n\n"
      ]
    },
    {
      "cell_type": "code",
      "execution_count": null,
      "metadata": {
        "collapsed": false
      },
      "outputs": [],
      "source": [
        "dim = 50  # Number of the model grid points\nendpoint = 1  # The model domain is the interval [0, endpoint]\nfield_type = \"Step\"  # The conductivity (or diffusivity) field type.\n                     # We choose step function parameterization here.\nSNR = 400  # Signal-to-noise ratio\nn_steps = 2  # Number of steps in the conductivity (or diffusivity) step field\nmagnitude = 100 # Magnitude of the source term in the Poisson problem\n\n# Exact solution\nx_exact = np.empty(dim)\nx_exact[:ceil(dim/2)] = 2\nx_exact[ceil(dim/2):] = 3"
      ]
    },
    {
      "cell_type": "markdown",
      "metadata": {},
      "source": [
        "## Set up the first model\n\nWe set up the first forward model to have observations at the first half of \nthe domain (or observation everywhere if `set_up = set_ups[1]`). We then plot\nthe true conductivity field (the exact solution), the exact data and the noisy\ndata.\n\n"
      ]
    },
    {
      "cell_type": "code",
      "execution_count": null,
      "metadata": {
        "collapsed": false
      },
      "outputs": [],
      "source": [
        "observation_grid_map1 = None\nif set_up == \"multi_observation\":\n\t# Observe on the first half of the domain\n\tobservation_grid_map1 = lambda x: x[np.where(x<.5)] \n\n# The source term signal\nsource1 = lambda xs: magnitude*np.sin(xs*2*np.pi/endpoint)+magnitude\n\n# Obtain the forward model from the test problem\nmodel1, data1, problemInfo1 = cuqi.testproblem.Poisson1D(dim=dim,\n    endpoint=endpoint,\n    field_type=field_type,\n    field_params={\"n_steps\": n_steps},\n    observation_grid_map=observation_grid_map1,\n    exactSolution=x_exact,\n    source=source1,\n    SNR=SNR).get_components()\n\n# Plot data, exact data and exact solution\nplt.figure()\ndata1.plot(label='data')\nproblemInfo1.exactData.plot(label='exact data')\nproblemInfo1.exactSolution.plot(label='exact solution')\nplt.legend()"
      ]
    },
    {
      "cell_type": "markdown",
      "metadata": {},
      "source": [
        "## Set up the second model\n\nWe set up the second forward model to have observations at the second half of\nthe domain (or observation everywhere and and different source term if\n`set_up = set_ups[1]`). We then plot the true conductivity field (the exact\nsolution), the exact data and the noisy data.\n\n"
      ]
    },
    {
      "cell_type": "code",
      "execution_count": null,
      "metadata": {
        "collapsed": false
      },
      "outputs": [],
      "source": [
        "observation_grid_map2 = None\nif set_up == \"multi_observation\":\n        # Observe on the second half of the domain\n\tobservation_grid_map2 = lambda x: x[np.where(x>=.5)]\n\n# The source term signal\nif set_up == \"multi_source\":\n\tsource2 = lambda xs: magnitude*np.sin(2*xs*2*np.pi/endpoint)+magnitude\nelse:\n\tsource2 = source1\n\n# Obtain the forward model from the test problem\nmodel2, data2, problemInfo2 = cuqi.testproblem.Poisson1D(dim=dim,\n    endpoint=endpoint,\n    field_type=field_type,\n    field_params={\"n_steps\": n_steps},\n    observation_grid_map=observation_grid_map2,\n    exactSolution=x_exact,\n    source=source2,\n    SNR=SNR).get_components()\n\n# Plot data, exact data and exact solution\nplt.figure()\ndata2.plot(label='data2')\nproblemInfo2.exactData.plot(label='exact data2')\nproblemInfo2.exactSolution.plot(label='exact solution2')\nplt.legend()"
      ]
    },
    {
      "cell_type": "markdown",
      "metadata": {},
      "source": [
        "## Create the prior\n\nCreate the prior for the Bayesian parameter `theta`, which is the expansion \ncoefficients of the conductivity (or diffusivity) step function. We use a \nGaussian prior.\n\n"
      ]
    },
    {
      "cell_type": "code",
      "execution_count": null,
      "metadata": {
        "collapsed": false
      },
      "outputs": [],
      "source": [
        "theta = cuqi.distribution.Gaussian(\n    mean=np.zeros(model1.domain_dim),\n    cov=3,\n    geometry=model1.domain_geometry,\n)"
      ]
    },
    {
      "cell_type": "markdown",
      "metadata": {},
      "source": [
        "## Create the data distributions using the two forward models\n\n"
      ]
    },
    {
      "cell_type": "code",
      "execution_count": null,
      "metadata": {
        "collapsed": false
      },
      "outputs": [],
      "source": [
        "# Estimate the data noise standard deviation\nsigma_noise1 = np.linalg.norm(problemInfo1.exactData)/SNR\nsigma_noise2 = np.linalg.norm(problemInfo2.exactData)/SNR\n\n# Create the data distributions\ny1 = cuqi.distribution.Gaussian(\n    mean=model1(theta),\n    cov=sigma_noise1**2,\n    geometry=model1.range_geometry,\n)\ny2 = cuqi.distribution.Gaussian(\n    mean=model2(theta),\n    cov=sigma_noise2**2,\n    geometry=model2.range_geometry,\n)"
      ]
    },
    {
      "cell_type": "markdown",
      "metadata": {},
      "source": [
        "## Formulate the Bayesian inverse problem using the first data distribution (single likelihood)\nWe first formulate the Bayesian inverse problem using the first data distribution and analyze the posterior samples.\n\n"
      ]
    },
    {
      "cell_type": "markdown",
      "metadata": {},
      "source": [
        "### Create the posterior \n\n"
      ]
    },
    {
      "cell_type": "code",
      "execution_count": null,
      "metadata": {
        "collapsed": false
      },
      "outputs": [],
      "source": [
        "z1 = cuqi.distribution.JointDistribution(theta,y1)(y1=data1)"
      ]
    },
    {
      "cell_type": "markdown",
      "metadata": {},
      "source": [
        "We print the joint distribution `z1`:\n\n"
      ]
    },
    {
      "cell_type": "code",
      "execution_count": null,
      "metadata": {
        "collapsed": false
      },
      "outputs": [],
      "source": [
        "print(z1)"
      ]
    },
    {
      "cell_type": "markdown",
      "metadata": {},
      "source": [
        "We see that we obtain a :class:`cuqi.distribution.Posterior` object, which\nrepresents the posterior distribution of the parameters `theta` given the data\n`y1`. The posterior distribution in this case is proportional to the product\nof the likelihood obtained from the first data distribution and the prior.\n\n"
      ]
    },
    {
      "cell_type": "markdown",
      "metadata": {},
      "source": [
        "### Sample from the posterior\n\n"
      ]
    },
    {
      "cell_type": "code",
      "execution_count": null,
      "metadata": {
        "collapsed": false
      },
      "outputs": [],
      "source": [
        "# Sample from the posterior\nsampler = cuqi.legacy.sampler.MH(z1)\nsamples = sampler.sample_adapt(8000)\n\n# Plot the credible interval and compute the ESS\nsamples.burnthin(1000).plot_ci(95, exact=problemInfo1.exactSolution)\nsamples.compute_ess()"
      ]
    },
    {
      "cell_type": "markdown",
      "metadata": {},
      "source": [
        "## Formulate the Bayesian inverse problem using the second data distribution (single likelihood)\nWe then formulate the Bayesian inverse problem using the second data distribution and analyze the posterior samples.\n\n"
      ]
    },
    {
      "cell_type": "markdown",
      "metadata": {},
      "source": [
        "### Create the posterior \n\n"
      ]
    },
    {
      "cell_type": "code",
      "execution_count": null,
      "metadata": {
        "collapsed": false
      },
      "outputs": [],
      "source": [
        "z2 = cuqi.distribution.JointDistribution(theta,y2)(y2=data2)"
      ]
    },
    {
      "cell_type": "markdown",
      "metadata": {},
      "source": [
        "We print the joint distribution `z2`:\n\n"
      ]
    },
    {
      "cell_type": "code",
      "execution_count": null,
      "metadata": {
        "collapsed": false
      },
      "outputs": [],
      "source": [
        "print(z2)"
      ]
    },
    {
      "cell_type": "markdown",
      "metadata": {},
      "source": [
        "We see that we obtain a :class:`cuqi.distribution.Posterior` object, which\nrepresents the posterior distribution of the parameters `theta` given the data\n`y2`. The posterior distribution in this case is proportional to the product\nof the likelihood obtained from the second data distribution and the prior.\n\n"
      ]
    },
    {
      "cell_type": "markdown",
      "metadata": {},
      "source": [
        "### Sample from the posterior\n\n"
      ]
    },
    {
      "cell_type": "code",
      "execution_count": null,
      "metadata": {
        "collapsed": false
      },
      "outputs": [],
      "source": [
        "# Sample from the posterior\nsampler = cuqi.legacy.sampler.MH(z2)\nsamples = sampler.sample_adapt(8000)\n\n# Plot the credible interval and compute the ESS\nsamples.burnthin(1000).plot_ci(95, exact=problemInfo1.exactSolution)\nsamples.compute_ess()"
      ]
    },
    {
      "cell_type": "markdown",
      "metadata": {},
      "source": [
        "## Formulate the Bayesian inverse problem using both data distributions (multiple likelihoods)\nWe then formulate the Bayesian inverse problem using both data distributions and analyze the posterior samples.\n\n"
      ]
    },
    {
      "cell_type": "markdown",
      "metadata": {},
      "source": [
        "### Create the posterior \n\n"
      ]
    },
    {
      "cell_type": "code",
      "execution_count": null,
      "metadata": {
        "collapsed": false
      },
      "outputs": [],
      "source": [
        "z_joint = cuqi.distribution.JointDistribution(theta,y1,y2)(y1=data1, y2=data2)"
      ]
    },
    {
      "cell_type": "markdown",
      "metadata": {},
      "source": [
        "We print the joint distribution `z_joint`:\n\n"
      ]
    },
    {
      "cell_type": "code",
      "execution_count": null,
      "metadata": {
        "collapsed": false
      },
      "outputs": [],
      "source": [
        "print(z_joint)"
      ]
    },
    {
      "cell_type": "markdown",
      "metadata": {},
      "source": [
        "We see that in this case we obtain a :class:`MultipleLikelihoodPosterior` \nobject, which represents the posterior distribution of the parameters `theta`\ngiven the data `y1` and `y2`. The posterior distribution in this case is \nproportional to the product of the two likelihoods and the prior.\n\n"
      ]
    },
    {
      "cell_type": "markdown",
      "metadata": {},
      "source": [
        "### Sample from the posterior \n\n"
      ]
    },
    {
      "cell_type": "code",
      "execution_count": null,
      "metadata": {
        "collapsed": false
      },
      "outputs": [],
      "source": [
        "# Sample from the posterior\nsampler = cuqi.legacy.sampler.MH(z_joint)\nsamples = sampler.sample_adapt(8000)\n\n# Plot the credible interval and compute the ESS\nsamples.burnthin(1000).plot_ci(95, exact=problemInfo1.exactSolution)\nsamples.compute_ess()"
      ]
    },
    {
      "cell_type": "markdown",
      "metadata": {},
      "source": [
        "We notice that combining the two data distributions leads to a more certain \nestimate of the conductivity (using the same number of MCMC iterations).\nThis is because including the two different data sets in the inversion is more\ninformative than the single data set case. Also, the effective sample size is\nlarger than (or comparable to) what is obtained in any of the single data\ndistribution case.\n\n"
      ]
    }
  ],
  "metadata": {
    "kernelspec": {
      "display_name": "Python 3",
      "language": "python",
      "name": "python3"
    },
    "language_info": {
      "codemirror_mode": {
        "name": "ipython",
        "version": 3
      },
      "file_extension": ".py",
      "mimetype": "text/x-python",
      "name": "python",
      "nbconvert_exporter": "python",
      "pygments_lexer": "ipython3",
      "version": "3.12.3"
    }
  },
  "nbformat": 4,
  "nbformat_minor": 0
}