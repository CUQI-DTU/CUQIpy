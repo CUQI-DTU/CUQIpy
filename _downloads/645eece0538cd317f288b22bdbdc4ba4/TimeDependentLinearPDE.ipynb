{
  "cells": [
    {
      "cell_type": "markdown",
      "metadata": {},
      "source": [
        "\n# Time Dependent Linear PDE\n\nIn this example we show how to set up various Time Dependent Linear PDE models.\n"
      ]
    },
    {
      "cell_type": "markdown",
      "metadata": {},
      "source": [
        "First we import the modules needed.\n\n"
      ]
    },
    {
      "cell_type": "code",
      "execution_count": null,
      "metadata": {
        "collapsed": false
      },
      "outputs": [],
      "source": [
        "import sys\nsys.path.append(\"..\")\nimport matplotlib.pyplot as plt\nfrom cuqi.array import CUQIarray\nfrom cuqi.model import PDEModel\nfrom cuqi.geometry import Continuous1D\nfrom cuqi.pde import TimeDependentLinearPDE\nimport numpy as np"
      ]
    },
    {
      "cell_type": "markdown",
      "metadata": {},
      "source": [
        "## Model 1: Heat equation with initial condition as the Bayesian parameter\n\n"
      ]
    },
    {
      "cell_type": "code",
      "execution_count": null,
      "metadata": {
        "collapsed": false
      },
      "outputs": [],
      "source": [
        "# 1.1 Prepare PDE form\n\ndim = 200   # Number of solution nodes\nL = 5  # 1D domain length\nmax_time = 1  # Final time\ndx = L/(dim+1)   # Space step size\ncfl = 5/11  # The cfl condition to have a stable solution\nmax_iter = int(max_time/(cfl*dx**2))  # Number of time steps\ntime_steps = np.linspace(0, max_time, max_iter+1,\n                         endpoint=True)  # Time steps array\n\nDxx = (np.diag(-2*np.ones(dim)) + np.diag(np.ones(dim-1), -1) +\n       np.diag(np.ones(dim-1), 1))/dx**2  # Finite difference diffusion operator\n\n# PDE form function, returns a tuple of (differential operator, source_term, initial_condition)\ndef PDE_form(initial_condition, t): return (\n    Dxx, np.zeros(dim), initial_condition)\n\n# 1.2 Create a PDE object\n\n\nPDE = TimeDependentLinearPDE(\n    PDE_form, time_steps, method=\"forward_euler\")\n\n# 1.3 Create the PDE model\n\n# Set up geometries for the model\ngrid = np.linspace(dx, L, dim, endpoint=False)\ndomain_geometry = Continuous1D(grid)\nrange_geometry = Continuous1D(grid)\n\n# Create the model\nmodel = PDEModel(PDE, range_geometry, domain_geometry)\n\n# 1.4 Look at the solution for some initial condition\n\nparameters = CUQIarray(np.ones(model.domain_dim), geometry=domain_geometry)\nsolution_case1 = model.forward(parameters)\n\nparameters.plot(label=\"Initial Condition (t=0)\")\nsolution_case1.plot(label=f\"Final Solution (t={max_time})\")\nplt.legend()"
      ]
    },
    {
      "cell_type": "markdown",
      "metadata": {},
      "source": [
        "## Model 2: Same as Model 1 but using Backward Euler method for time stepping\n\n"
      ]
    },
    {
      "cell_type": "code",
      "execution_count": null,
      "metadata": {
        "collapsed": false
      },
      "outputs": [],
      "source": [
        "# 1.1 Create a PDE object\n\ndt_approx = 0.006  # Approximate time step\nmax_iter = int(max_time/dt_approx)  # Number of time steps\ntime_steps = np.linspace(0, max_time, max_iter+1,\n                         endpoint=True)  # Time steps array\n\nPDE = TimeDependentLinearPDE(\n    PDE_form, time_steps, method=\"backward_euler\")\n\n# 1.2 Create the PDE model\n\nmodel = PDEModel(PDE, range_geometry, domain_geometry)\n\n# 1.3 Look at the solution for the same initial condition as in `Model 1`\n\nparameters = CUQIarray(np.ones(model.domain_dim), geometry=domain_geometry)\nsolution_case2 = model.forward(parameters)\n\nparameters.plot(label=\"Initial Condition (t=0)\")\nsolution_case2.plot(label=f\"Final Solution (t={max_time})\")\nplt.legend()\n\n# 1.4 Print the relative error between the two solutions\n\nprint(\"Relative error between the forward and backward Euler solution:\"),\nprint(np.linalg.norm(solution_case2-solution_case1) /\n      np.linalg.norm(solution_case1))"
      ]
    },
    {
      "cell_type": "markdown",
      "metadata": {},
      "source": [
        "## Model 3: Same as Model 2, but using varying time step size\n\n"
      ]
    },
    {
      "cell_type": "code",
      "execution_count": null,
      "metadata": {
        "collapsed": false
      },
      "outputs": [],
      "source": [
        "# 1.1 Create a PDE object\n\n# Time steps array\ntime_steps1 = np.linspace(0, max_time/2, max_iter+1, endpoint=True)\ntime_steps2 = np.linspace(max_time/2, max_time,\n                          int(max_iter/2)+1, endpoint=True)\ntime_steps = np.hstack((time_steps1[:-1], time_steps2))\n\nPDE = TimeDependentLinearPDE(\n    PDE_form, time_steps, method=\"backward_euler\")\n\n# 1.2 Create the PDE model\n\nmodel = PDEModel(PDE, range_geometry, domain_geometry)\n\n# 1.3 Look at the solution for the same initial condition as in Model 2 & 1\n\nparameters = CUQIarray(np.ones(model.domain_dim), geometry=domain_geometry)\nsolution_case3 = model.forward(parameters)\n\nparameters.plot(label=\"Initial Condition (t=0)\")\nsolution_case3.plot(label=f\"Final Solution (t={max_time})\")\nplt.legend()\n\n# 1.4 Print the relative error between this solution and the forward Euler solution\n\nprint(\"Relative error between the forward and the time-step-varying backward Euler solution:\"),\nprint(np.linalg.norm(solution_case3-solution_case1) /\n      np.linalg.norm(solution_case1))"
      ]
    },
    {
      "cell_type": "markdown",
      "metadata": {},
      "source": [
        "## Model 4: Same as model 2 but the source term is the Bayesian parameter\n\n"
      ]
    },
    {
      "cell_type": "code",
      "execution_count": null,
      "metadata": {
        "collapsed": false
      },
      "outputs": [],
      "source": [
        "# 1.1 Prepare PDE form\ntime_steps = np.linspace(0, max_time, max_iter+1, endpoint=True)\n\n# PDE form function, returns a tuple of (differential operator, source_term, initial_condition)\ninitial_condition = np.ones(dim)\ndef PDE_form(source_term, t): return (Dxx, source_term, initial_condition)\n\n\n# 1.2 Create a PDE object\nPDE = TimeDependentLinearPDE(\n    PDE_form, time_steps, method=\"backward_euler\")\n\n# 1.3 Create the PDE model\n\nmodel = PDEModel(PDE, range_geometry, domain_geometry)\n\n# 1.4 Look at the solution for zero source term\n\nparameters = CUQIarray(np.zeros(model.domain_dim), geometry=domain_geometry)\nsolution_case4_a = model.forward(parameters)\n\nparameters.plot(label=\"Source term\")\nsolution_case4_a.plot(label=f\"Final Solution (t={max_time})\")\n\ninitial_condition = CUQIarray(initial_condition, geometry=domain_geometry)\ninitial_condition.plot(label=\"Initial Condition (t=0)\",\n                       linestyle='--', color='black')\nplt.legend()\n\n# 1.5 Print the relative error between this solution and the solution from Model 2\n\nprint(\"Relative error between Model 2 and Model 4 solutions:\"),\nprint(np.linalg.norm(solution_case4_a-solution_case2) /\n      np.linalg.norm(solution_case2))\n\n# 1.6 Set the source term to a non-zero value\n\nparameters = CUQIarray(np.ones(model.domain_dim), geometry=domain_geometry)\nsolution_case4_b = model.forward(parameters)\n\nplt.figure()\nparameters.plot(label=\"Source term\")\nsolution_case4_b.plot(label=f\"Final Solution (t={max_time})\")\ninitial_condition.plot(label=\"Initial Condition (t=0)\",\n                       linestyle='--', color='black')\nplt.legend()"
      ]
    },
    {
      "cell_type": "markdown",
      "metadata": {},
      "source": [
        "## Model 5: First order wave equation with initial condition as the Bayesian parameter\n\nThe model set up is similar to the one presented in https://aquaulb.github.io/book_solving_pde_mooc/solving_pde_mooc/notebooks/04_PartialDifferentialEquations/04_01_Advection.html\n\n"
      ]
    },
    {
      "cell_type": "code",
      "execution_count": null,
      "metadata": {
        "collapsed": false
      },
      "outputs": [],
      "source": [
        "# 1.1 Prepare PDE form\n\ndim = 100   # Number of solution nodes\nL = 1  # 1D domain length\nmax_time = .2  # Final time\ndx = L/(dim+1)   # Space step size\ndt_approx = .005  # Approximate time step\nmax_iter = int(max_time/dt_approx)  # Number of time steps\nDx = -(np.diag(1*np.ones(dim-1), 1) - np.diag(np.ones(dim), 0)) / \\\n    dx  # FD advection operator\nDx[0, :] = 0  # Setting boundary conditions\ntime_steps = np.linspace(0, max_time, max_iter+1,\n                         endpoint=True)  # Time steps array\n\n# PDE form function, returns a tuple of (differential operator, source_term, initial_condition)\ndef PDE_form(initial_condition, t): return (\n    Dx, np.zeros(dim), initial_condition)\n\n# 1.2 Create a PDE object\n\n\nPDE = TimeDependentLinearPDE(\n    PDE_form, time_steps, method=\"forward_euler\")\n\n# 1.3 Create the PDE model\n\n# Set up geometries for the model\ngrid = np.linspace(dx, L, dim, endpoint=True)\ndomain_geometry = Continuous1D(grid)\nrange_geometry = Continuous1D(grid)\n\n# Create the model\nmodel = PDEModel(PDE, range_geometry, domain_geometry)\n\n# 1.4 Look at the solution for some initial condition\n\ndef initial_condition_func(x): return np.exp(-200*(x-L/4)**2)\n\ninitial_condition = initial_condition_func(grid)\nparameters = CUQIarray(initial_condition, geometry=domain_geometry)\nsolution_case5 = model.forward(parameters)\n\nparameters.plot(label=\"Initial Condition (t=0)\")\nsolution_case5.plot(label=f\"Final Solution (t={max_time})\")\nplt.legend()"
      ]
    }
  ],
  "metadata": {
    "kernelspec": {
      "display_name": "Python 3",
      "language": "python",
      "name": "python3"
    },
    "language_info": {
      "codemirror_mode": {
        "name": "ipython",
        "version": 3
      },
      "file_extension": ".py",
      "mimetype": "text/x-python",
      "name": "python",
      "nbconvert_exporter": "python",
      "pygments_lexer": "ipython3",
      "version": "3.12.3"
    }
  },
  "nbformat": 4,
  "nbformat_minor": 0
}