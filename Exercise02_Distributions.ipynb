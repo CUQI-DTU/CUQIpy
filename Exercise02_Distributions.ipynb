{
 "cells": [
  {
   "cell_type": "markdown",
   "metadata": {},
   "source": [
    "# Exercise 02:  Introduction to distributions and basic sampling in CUQIpy\n",
    "\n",
    "This notebooks describes basic usage of distributions including visualing their PDF/CDF and generating samples.  It also describes how distributions can be equipped with geometry to represent sampling in nontrivial spaces. Finally conditional distributions are demonstrated along with an application of implementing a hierarchical Gibbs sampler.\n",
    "\n",
    "## Learning objectives of this notebook:\n",
    "- Set up random variables following uni- and multivariate distributions in CUQIpy.\n",
    "- Generate samples from distributions and use CUQIpy tools to inspect visually.\n",
    "- Explain the use of Geometry in distributions and samples.\n",
    "- \\* Set up conditional distributions in CUQIpy - simple and using lambda functions.\n",
    "- \\* Use conditional distributions to set up a Hierarchical Gibbs sampler.\n",
    "\n",
    "## Table of contents: \n",
    "* [1. Normal distribution (univariate)](#Normal)\n",
    "* [2. Multivariate distributions](#Multivariate)\n",
    "* [3. Geometry in distribution and Samples](#Geometry)\n",
    "* [4. Conditional distributions ★](#Conditional)\n",
    "* [5. Gibbs sampler ★](#Gibbs)\n",
    "\n",
    "## References\n",
    "[1] *Bardsley, Johnathan. 2018. Computational Uncertainty Quantification for Inverse Problems. SIAM, Society for Industrial and Applied Mathematics.*\n",
    "\n"
   ]
  },
  {
   "cell_type": "markdown",
   "metadata": {},
   "source": [
    "\n",
    "First we need to import any Python packages needed, here Numpy for array computations and matplotlib for plotting."
   ]
  },
  {
   "cell_type": "code",
   "execution_count": null,
   "metadata": {},
   "outputs": [],
   "source": [
    "import numpy as np\n",
    "import matplotlib.pyplot as plt"
   ]
  },
  {
   "cell_type": "markdown",
   "metadata": {},
   "source": [
    "We import CUQIpy. In the previous notebook we imported upfront the specific tools we needed, like `from cuqi.distribution import Gaussian` to get the Gaussian distribution from CUQIpy's distribution module. We now simply import the complete package and then specify the complete name such as `cuqi.distribution.Gaussian` when using it. Both approaches are fine, each with pros and cons."
   ]
  },
  {
   "cell_type": "code",
   "execution_count": null,
   "metadata": {},
   "outputs": [],
   "source": [
    "import cuqi"
   ]
  },
  {
   "cell_type": "markdown",
   "metadata": {},
   "source": [
    "A few more settings to make the notebook behave nicely:"
   ]
  },
  {
   "cell_type": "code",
   "execution_count": null,
   "metadata": {},
   "outputs": [],
   "source": [
    "%load_ext autoreload\n",
    "%autoreload 2\n",
    "\n",
    "%matplotlib inline"
   ]
  },
  {
   "cell_type": "markdown",
   "metadata": {},
   "source": [
    "## 1. Normal distribution  (univariate)  <a class=\"anchor\" id=\"Normal\"></a> "
   ]
  },
  {
   "cell_type": "markdown",
   "metadata": {},
   "source": [
    "The first thing we can do is define a simple normal distribution of a single variable, e.g.,\n",
    "\n",
    "$$ X \\sim \\mathcal{N}(0,1^2) $$\n",
    "\n",
    "This is done using the following syntax:"
   ]
  },
  {
   "cell_type": "code",
   "execution_count": null,
   "metadata": {},
   "outputs": [],
   "source": [
    "X = cuqi.distribution.Normal(mean=0, std=1)"
   ]
  },
  {
   "cell_type": "markdown",
   "metadata": {},
   "source": [
    "More information on the distribtion can be found by typing `help(X)`. Try that in the next cell:"
   ]
  },
  {
   "cell_type": "code",
   "execution_count": null,
   "metadata": {},
   "outputs": [],
   "source": [
    "# Type code here:\n",
    "\n"
   ]
  },
  {
   "cell_type": "markdown",
   "metadata": {},
   "source": [
    "Distributions in CUQIpy have commonly used methods that one might expect like *pdf*, *logpdf*, *cdf*, etc. We demonstrate this here by evaluating and plotting the cumulative distribution function (CDF) on an interval:"
   ]
  },
  {
   "cell_type": "code",
   "execution_count": null,
   "metadata": {},
   "outputs": [],
   "source": [
    "grid = np.linspace(-10, 10, 1001)\n",
    "plt.plot(grid, X.cdf(grid))"
   ]
  },
  {
   "cell_type": "markdown",
   "metadata": {},
   "source": [
    "CUQIpy distributions also have `sample` method which returns one or more samples from the distribution:"
   ]
  },
  {
   "cell_type": "code",
   "execution_count": null,
   "metadata": {},
   "outputs": [],
   "source": [
    "X.sample()"
   ]
  },
  {
   "cell_type": "markdown",
   "metadata": {},
   "source": [
    "By default a single sample is returned. More samples can easily be requested:"
   ]
  },
  {
   "cell_type": "code",
   "execution_count": null,
   "metadata": {},
   "outputs": [],
   "source": [
    "s = X.sample(10000)\n",
    "type(s)"
   ]
  },
  {
   "cell_type": "markdown",
   "metadata": {},
   "source": [
    "When more than one sample is generated, a CUQIpy `Samples` object is returned. This is essentially an array in which each column contains one sample, and further equipped with a number of methods for example for plotting."
   ]
  },
  {
   "cell_type": "markdown",
   "metadata": {},
   "source": [
    "For example one can make a \"chain plot\", i.e., the sampled values of selected parameter(s) of interest. Here we have a single parameter and with Python being zero-indexed we specify this parameter as follows:"
   ]
  },
  {
   "cell_type": "code",
   "execution_count": null,
   "metadata": {},
   "outputs": [],
   "source": [
    "s.plot_chain(0)"
   ]
  },
  {
   "cell_type": "markdown",
   "metadata": {},
   "source": [
    "Another possibility is a histogram of the parameter chain: (The keyword arguments are passed directly to the underlying matplotlib `hist` function for full control)"
   ]
  },
  {
   "cell_type": "code",
   "execution_count": null,
   "metadata": {},
   "outputs": [],
   "source": [
    "s.hist_chain(0, bins=100, density=True)"
   ]
  },
  {
   "cell_type": "markdown",
   "metadata": {},
   "source": [
    "#### Try yourself (optional):  \n",
    " - Create a new random variable `Y` following a normal distribution with mean 2 and standard deviation 3.\n",
    " - Generate 100 samples and display a histogram.\n",
    " - Compare with the theoretical distribution by plotting the probability density function of `Y` on top of the histogram.\n",
    " - Increase the number of samples and (hopefully) see the histogram approach the theoretical PDF."
   ]
  },
  {
   "cell_type": "code",
   "execution_count": null,
   "metadata": {},
   "outputs": [],
   "source": [
    "# Type code here:\n",
    "\n"
   ]
  },
  {
   "cell_type": "markdown",
   "metadata": {},
   "source": [
    "## 2. Multivariate distributions <a class=\"anchor\" id=\"Multivariate\"></a> "
   ]
  },
  {
   "cell_type": "markdown",
   "metadata": {},
   "source": [
    "CUQIpy currently implements a number multivariate distributions in the `cuqi.distribution` module:\n",
    "\n",
    "- Cauchy_diff\n",
    "- Gamma\n",
    "- Gaussian\n",
    "- GaussianCov\n",
    "- GaussianPrec\n",
    "- GaussianSqrtPrec\n",
    "- GMRF\n",
    "- Laplace\n",
    "- Laplace_diff\n",
    "- LMRF\n",
    "- Uniform\n",
    "\n",
    "and more can easily be added when needed.\n"
   ]
  },
  {
   "cell_type": "markdown",
   "metadata": {},
   "source": [
    "We here demonstrate using a Gaussian distribution and start by looking at the help:"
   ]
  },
  {
   "cell_type": "code",
   "execution_count": null,
   "metadata": {},
   "outputs": [],
   "source": [
    "help(cuqi.distribution.Gaussian)"
   ]
  },
  {
   "cell_type": "markdown",
   "metadata": {},
   "source": [
    "We specify here a 5-element random varible `Z` following a Gaussian distribution with independent elements:\n",
    "\n",
    "$$Z \\sim \\mathcal{N}(\\mu,\\mathrm{diag}(\\mu^2)) \\quad \\text{for} \\quad \\mu = [1, 2, 3, 4, 5]^T$$"
   ]
  },
  {
   "cell_type": "code",
   "execution_count": null,
   "metadata": {},
   "outputs": [],
   "source": [
    "true_mu = np.array([1,2,3,4,5])\n",
    "Z = cuqi.distribution.Gaussian(mean=true_mu, std=true_mu)"
   ]
  },
  {
   "cell_type": "markdown",
   "metadata": {},
   "source": [
    "We generate a single sample which produces a 5-element CUQIarray:"
   ]
  },
  {
   "cell_type": "code",
   "execution_count": null,
   "metadata": {},
   "outputs": [],
   "source": [
    "Z.sample()"
   ]
  },
  {
   "cell_type": "markdown",
   "metadata": {},
   "source": [
    "If we ask for more than one sample, say 1000, we get a `Samples` object with 1000 columns each holding a 5-element sample:"
   ]
  },
  {
   "cell_type": "code",
   "execution_count": null,
   "metadata": {},
   "outputs": [],
   "source": [
    "sZ = Z.sample(1000)"
   ]
  },
  {
   "cell_type": "code",
   "execution_count": null,
   "metadata": {},
   "outputs": [],
   "source": [
    "sZ.shape"
   ]
  },
  {
   "cell_type": "markdown",
   "metadata": {},
   "source": [
    "We can plot chains of a few of these variable samples:"
   ]
  },
  {
   "cell_type": "code",
   "execution_count": null,
   "metadata": {},
   "outputs": [],
   "source": [
    "sZ.plot_chain([4,1,0])"
   ]
  },
  {
   "cell_type": "markdown",
   "metadata": {},
   "source": [
    "As well as plot a few individal 5-element samples:"
   ]
  },
  {
   "cell_type": "code",
   "execution_count": null,
   "metadata": {
    "scrolled": true
   },
   "outputs": [],
   "source": [
    "sZ.plot();"
   ]
  },
  {
   "cell_type": "markdown",
   "metadata": {},
   "source": [
    "By default 5 random samples are plotted, but we can also specify indices of specific samples we wish to plot, like every 100th sample:"
   ]
  },
  {
   "cell_type": "code",
   "execution_count": null,
   "metadata": {},
   "outputs": [],
   "source": [
    "sZ.plot([0, 100, 200, 300, 400, 500, 600, 700, 800, 900]);"
   ]
  },
  {
   "cell_type": "markdown",
   "metadata": {},
   "source": [
    "We can also plot the sample mean:"
   ]
  },
  {
   "cell_type": "code",
   "execution_count": null,
   "metadata": {},
   "outputs": [],
   "source": [
    "sZ.plot_mean()"
   ]
  },
  {
   "cell_type": "markdown",
   "metadata": {},
   "source": [
    "and sample standard deviation:"
   ]
  },
  {
   "cell_type": "code",
   "execution_count": null,
   "metadata": {},
   "outputs": [],
   "source": [
    "sZ.plot_std()"
   ]
  },
  {
   "cell_type": "markdown",
   "metadata": {},
   "source": [
    "#### Try yourself (optional):  \n",
    " - Plot mean with 95% credibility interval, hint: `help(plot_ci)`.\n",
    " - Include in the credibility interval plot a comparison with the true mean using the `exact` keyword argument of `plot_ci`.\n",
    " - Reduce and increase the number of samples and study the effect on the mean and credibility interval.\n",
    " - Try also 50% and 99% credibility intervals."
   ]
  },
  {
   "cell_type": "code",
   "execution_count": null,
   "metadata": {},
   "outputs": [],
   "source": [
    "# Type code here:\n",
    "\n"
   ]
  },
  {
   "cell_type": "markdown",
   "metadata": {},
   "source": [
    "## 3. Geometry in distribution and Samples <a class=\"anchor\" id=\"Geometry\"></a> "
   ]
  },
  {
   "cell_type": "markdown",
   "metadata": {},
   "source": [
    "By default no particular structure or space is assumed of the parameters. If we want to express that parameters constitute for example a 2D image or are a set of discrete named parameters we can specify this by means of a CUQIpy geometry. \n",
    "\n",
    "By default distributions contain a default (trivial) geometry."
   ]
  },
  {
   "cell_type": "code",
   "execution_count": null,
   "metadata": {},
   "outputs": [],
   "source": [
    "Z.geometry"
   ]
  },
  {
   "cell_type": "markdown",
   "metadata": {},
   "source": [
    "We may equip the distribution with a different geometry, either when creating it, or afterwards. For example if the five parameters represent labelled quantities such as height, width, depth, weight and density we can use a `Discrete` geometry:"
   ]
  },
  {
   "cell_type": "code",
   "execution_count": null,
   "metadata": {},
   "outputs": [],
   "source": [
    "geom = cuqi.geometry.Discrete(['height','width','depth','weight','density'])"
   ]
  },
  {
   "cell_type": "markdown",
   "metadata": {},
   "source": [
    "We can update the distribution's geometry and generate some new samples:"
   ]
  },
  {
   "cell_type": "code",
   "execution_count": null,
   "metadata": {},
   "outputs": [],
   "source": [
    "Z.geometry = geom"
   ]
  },
  {
   "cell_type": "code",
   "execution_count": null,
   "metadata": {},
   "outputs": [],
   "source": [
    "sZ2 = Z.sample(100)"
   ]
  },
  {
   "cell_type": "markdown",
   "metadata": {},
   "source": [
    "The samples will now know about their new `Discrete` geometry and the plotting style will be changed:"
   ]
  },
  {
   "cell_type": "code",
   "execution_count": null,
   "metadata": {},
   "outputs": [],
   "source": [
    "sZ2.plot();"
   ]
  },
  {
   "cell_type": "markdown",
   "metadata": {},
   "source": [
    "The credibility interval plot style is also updated to show errorbars for the `Discrete` geometry:"
   ]
  },
  {
   "cell_type": "code",
   "execution_count": null,
   "metadata": {},
   "outputs": [],
   "source": [
    "sZ2.plot_ci(95, exact=true_mu)"
   ]
  },
  {
   "cell_type": "markdown",
   "metadata": {},
   "source": [
    "And the similarly in the chain plot the legend reflects the particular labels:"
   ]
  },
  {
   "cell_type": "code",
   "execution_count": null,
   "metadata": {},
   "outputs": [],
   "source": [
    "sZ2.plot_chain([1,4])"
   ]
  },
  {
   "cell_type": "markdown",
   "metadata": {},
   "source": [
    "Another use of geometry is to represent 1D or 2D versions of the same distribution (prior). A Gaussian Markov Random Field (GMRF) can be used in 1 or 2 spatial dimensions, which is represented using `Continuous1D` and `Continuous2D` geometries:"
   ]
  },
  {
   "cell_type": "code",
   "execution_count": null,
   "metadata": {},
   "outputs": [],
   "source": [
    "N = 100     # number of pixels\n",
    "dom = 1     # 1D or 2D domain\n",
    "\n",
    "if (dom == 1):\n",
    "    geometry = cuqi.geometry.Continuous1D(np.linspace(0,1,N))\n",
    "elif (dom == 2):\n",
    "    geometry = cuqi.geometry.Continuous2D((np.linspace(0,1,N), np.linspace(0,1,N)))"
   ]
  },
  {
   "cell_type": "markdown",
   "metadata": {},
   "source": [
    "In this example in 1D there will be N parameters and in 2D there will be N^2 parameters. We can check the number of parameters of the geometry as well as its type:"
   ]
  },
  {
   "cell_type": "code",
   "execution_count": null,
   "metadata": {},
   "outputs": [],
   "source": [
    "geometry.dim"
   ]
  },
  {
   "cell_type": "code",
   "execution_count": null,
   "metadata": {},
   "outputs": [],
   "source": [
    "type(geometry)"
   ]
  },
  {
   "cell_type": "markdown",
   "metadata": {},
   "source": [
    "We can now specify a GMRF distribution (with some chosen mean, precision, boundary conditions etc.) The same exact code will work in 1D and 2D due to the geometry:"
   ]
  },
  {
   "cell_type": "code",
   "execution_count": null,
   "metadata": {},
   "outputs": [],
   "source": [
    "mean = np.zeros(geometry.dim)\n",
    "prec = 4\n",
    "pX = cuqi.distribution.GMRF(mean, prec, dom, 'neumann', geometry=geometry)"
   ]
  },
  {
   "cell_type": "markdown",
   "metadata": {},
   "source": [
    "With the distribution set up, we are ready to generate some samples"
   ]
  },
  {
   "cell_type": "code",
   "execution_count": null,
   "metadata": {},
   "outputs": [],
   "source": [
    "# call method to sample\n",
    "sampleX = pX.sample(50)"
   ]
  },
  {
   "cell_type": "code",
   "execution_count": null,
   "metadata": {},
   "outputs": [],
   "source": [
    "sampleX.shape"
   ]
  },
  {
   "cell_type": "markdown",
   "metadata": {},
   "source": [
    "We plot a couple of samples:"
   ]
  },
  {
   "cell_type": "code",
   "execution_count": null,
   "metadata": {},
   "outputs": [],
   "source": [
    "sampleX.plot()   "
   ]
  },
  {
   "cell_type": "markdown",
   "metadata": {},
   "source": [
    "#### Try yourself (optional):  \n",
    " - Go back and change `dom` to 2 to get the 2D case and rerun the subsequent cells.\n",
    " - Play with the number of pixels `N` as well as parameters of the GMRF and see the effect on the samples."
   ]
  },
  {
   "cell_type": "markdown",
   "metadata": {},
   "source": [
    "## 4. Conditional distributions ★ <a class=\"anchor\" id=\"Conditional\"></a> \n",
    "\n",
    "In cuqipy defining conditional distributions is simple. Assume we are interested in defining the Normal distribution condtioned on the standard deviation, e.g.\n",
    "\n",
    "$$ X_2 \\mid \\mathrm{std} \\sim \\mathcal{N}(0,\\mathrm{std}^2) $$\n",
    "\n",
    "This can simply be achieved by *omitting* the keyword argument for the standard deviation as shown in the following code"
   ]
  },
  {
   "cell_type": "code",
   "execution_count": null,
   "metadata": {},
   "outputs": [],
   "source": [
    "X2 = cuqi.distribution.Normal(mean=0)"
   ]
  },
  {
   "cell_type": "markdown",
   "metadata": {},
   "source": [
    "Because $X_2$ is a conditional distribution, we cannot evaluate the logpdf or sample it directly without specifying the value of the conditioning variable (the standard deviation in this case). Hence the first line in the code cell below would fail.\n",
    "\n",
    "However, we can specify the conditioning variable using the \"call\" syntax, i.e., `X2(std=2)` to specify the value of the standard deviation in the conditional distribution as shown below."
   ]
  },
  {
   "cell_type": "code",
   "execution_count": null,
   "metadata": {},
   "outputs": [],
   "source": [
    "# X2.sample() #This code would fail\n",
    "X2(std=2).sample()"
   ]
  },
  {
   "cell_type": "markdown",
   "metadata": {},
   "source": [
    "In general one may need more flexibility than simply conditioning directly on the attributes of the distribution. Let us assume we want to condition on the variance - denoted d - rather than the standard deviation of the normal distribution, i.e.\n",
    "\n",
    "$$ X_3 \\mid d \\sim \\mathcal{N}(0,d) $$\n",
    "\n",
    "In cuqipy this is handled by *lambda* functions as follows."
   ]
  },
  {
   "cell_type": "code",
   "execution_count": null,
   "metadata": {},
   "outputs": [],
   "source": [
    "X3 = cuqi.distribution.Normal(mean=0,std=lambda d: np.sqrt(d))\n",
    "X3(d=2).sample()"
   ]
  },
  {
   "cell_type": "markdown",
   "metadata": {},
   "source": [
    "What actually happens behind the scenes is that writing `X3(d=2)` defined a new cuqi distribution, where the standard deviation is defined by evaluating the lambda function. This can be seen by storing the new distribution as follows."
   ]
  },
  {
   "cell_type": "code",
   "execution_count": null,
   "metadata": {},
   "outputs": [],
   "source": [
    "X4 = X3(d=2)\n",
    "X4.std"
   ]
  },
  {
   "cell_type": "markdown",
   "metadata": {},
   "source": [
    "One can even go crazy and define lambda functions for all attributes e.g."
   ]
  },
  {
   "cell_type": "code",
   "execution_count": null,
   "metadata": {},
   "outputs": [],
   "source": [
    "#Functions for mean and std with various (shared) inputs\n",
    "mean = lambda sigma,gamma: sigma+gamma\n",
    "std  = lambda delta,gamma: np.sqrt(delta+gamma)\n",
    "\n",
    "z = cuqi.distribution.Normal(mean,std)\n",
    "Z = z(sigma=3,delta=5,gamma=-2)\n",
    "\n",
    "Z.sample()"
   ]
  },
  {
   "cell_type": "markdown",
   "metadata": {},
   "source": [
    "## 5. Gibbs sampler in CUQIpy ★ <a class=\"anchor\" id=\"Gibbs\"></a> \n",
    "\n",
    "In the following we aim to implement a Hierarchical Gibbs sampler for a posterior related to an inverse problem based on algorithm 5.1 in [1]. For completeness we state the problem and posterior first.\n",
    "\n",
    "We are interested in the inverse problem\n",
    "\n",
    "$$ \\mathbf{b} = \\mathbf{A}\\mathbf{x}+\\mathbf{e},$$\n",
    "where $\\mathbf{A}\\in\\mathbb{R}^{m\\times n}$, $\\mathbf{x}\\in\\mathbb{R}^n$ and $\\mathbf{b}\\in\\mathbb{R}^m$ \n",
    "and \n",
    "$$\n",
    "\\mathbf{e}\\sim\\mathcal{N}(\\mathbf{0},\\lambda^{-1}\\mathbf{I}_m), \\\\ \\mathbf{x}\\sim\\mathcal{N}(\\mathbf{0},\\delta^{-1}\\mathbf{I}_n)$$\n",
    "\n",
    "and where $\\lambda,\\delta\\in\\mathbb{R}_+$ are considered hyper-parameters.\n",
    "\n",
    "The posterior is given by\n",
    "\n",
    "$$ p(\\mathbf{x} \\mid \\mathbf{b},\\lambda,\\delta) \\propto L(\\mathbf{x},\\lambda\\mid\\mathbf{b})p(\\mathbf{x}\\mid\\delta), $$\n",
    "\n",
    "where the likelihood is\n",
    "\n",
    "$$ L(\\mathbf{x},\\lambda\\mid\\mathbf{b}) = \\left(\\frac{\\lambda}{2\\pi}\\right)^{m/2}\\exp\\left( -\\frac{\\lambda}{2}\\| \\mathbf{A}\\mathbf{x}-\\mathbf{b}\\|_2^2 \\right), $$\n",
    "\n",
    "and prior pdf is\n",
    "\n",
    "$$ p(\\mathbf{x}\\mid\\delta) = \\left(\\frac{\\delta}{2\\pi}\\right)^{n/2}\\exp\\left( -\\frac{\\delta}{2}\\|\\mathbf{x}\\|_2^2\\right) $$\n",
    "\n",
    "It is commonly the case that hyper-parameters are defined as Gamma distributions, e.g.,\n",
    "\n",
    "$$ p(\\lambda)\\propto \\lambda^{\\alpha-1}\\exp(\\beta \\lambda) $$\n",
    "\n",
    "$$ p(\\delta) \\propto \\delta^{\\alpha-1}\\exp(\\beta \\delta) $$\n",
    "\n",
    "In CUQIpy this problem can be implemented and sampled using a Gibbs sampler with the code below."
   ]
  },
  {
   "cell_type": "code",
   "execution_count": null,
   "metadata": {},
   "outputs": [],
   "source": [
    "#Load model + data from testproblem\n",
    "TP = cuqi.testproblem.Deconvolution1D() #Default values\n",
    "model = TP.model\n",
    "b = TP.data\n",
    "\n",
    "# Extract dimensions\n",
    "n = model.domain_dim\n",
    "m = model.range_dim\n",
    "\n",
    "# Parameters for hyper-parameters\n",
    "alpha = 1\n",
    "beta = 1e-4\n",
    "\n",
    "# Hyper-parameters\n",
    "d = cuqi.distribution.Gamma(shape=alpha, rate=beta)\n",
    "l = cuqi.distribution.Gamma(shape=alpha, rate=beta)\n",
    "\n",
    "#Prior\n",
    "x = cuqi.distribution.GaussianCov(mean=np.zeros(n), cov=lambda d: 1/d, geometry=int(n))\n",
    "\n",
    "# Likelihood\n",
    "L = cuqi.distribution.GaussianCov(mean=model, cov=lambda l: 1/l).to_likelihood(b)"
   ]
  },
  {
   "cell_type": "markdown",
   "metadata": {},
   "source": [
    "Unfurtunately there are no hierachical samplers implemented in CUQIpy yet. Hence code like (**not final syntax**)\n",
    "\n",
    "`cuqi.problem.BayesianProblem(likelihood=L, prior=x, hyper_para = [d,l])`\n",
    "\n",
    "or \n",
    "\n",
    "`cuqi.sampler.Gibbs(likelihood=L, prior=x, hyper_para = [d,l])`\n",
    "\n",
    "is not supported yet."
   ]
  },
  {
   "cell_type": "markdown",
   "metadata": {},
   "source": [
    "Instead for now we would have to implement our own Gibbs sampler in cuqipy while taking advantage of the conditional distribution framework. In [1] a Gibbs sampler is proposed for exactly the problem we defined with $\\mathbf{L}=\\mathbf{I}$ and we restate the Gibbs sampler here."
   ]
  },
  {
   "cell_type": "markdown",
   "metadata": {},
   "source": [
    "### Algorithm 5.1. The Gibbs Sampler.\n",
    "\n",
    "0. Initialize $\\left(\\lambda_{0}, \\delta_{0}\\right), \\mathbf{x}^{0}=\\left(\\lambda_{0} \\mathbf{A}^{T} \\mathbf{A}+\\delta_{0} \\mathbf{L}\\right)^{-1} \\lambda_{0} \\mathbf{A}^{T} \\mathbf{b}$, set $k=1$, define $k_{\\text {total }}.$\n",
    "1. Compute $\\left(\\lambda_{k}, \\delta_{k}\\right) \\sim p\\left(\\lambda, \\delta \\mid \\mathbf{b}, \\mathbf{x}^{k-1}\\right)$ as follows.\n",
    "    - a) Compute $\\lambda_{k} \\sim \\Gamma\\left(M / 2+\\alpha_{\\lambda}, \\frac{1}{2}\\left\\|\\mathbf{A} \\mathbf{x}^{k-1}-\\mathbf{b}\\right\\|^{2}+\\beta_{\\lambda}\\right)$.\n",
    "    - b) Compute $\\delta_{k} \\sim \\Gamma\\left(\\bar{N} / 2+\\alpha_{\\delta}, \\frac{1}{2}\\left(\\mathbf{x}^{k-1}\\right)^{T} \\mathbf{L} \\mathbf{x}^{k-1}+\\beta_{\\delta}\\right)$.\n",
    "2. Compute $\\mathbf{x}^{k} \\sim \\mathcal{N}\\left(\\left(\\lambda_{k} \\mathbf{A}^{T} \\mathbf{A}+\\delta_{k} \\mathbf{L}\\right)^{-1} \\lambda_{k} \\mathbf{A}^{T} \\mathbf{b},\\left(\\lambda_{k} \\mathbf{A}^{T} \\mathbf{A}+\\delta_{k} \\mathbf{L}\\right)^{-1}\\right)$\n",
    "3. If $k=k_{\\text {total }}$ stop, otherwise, set $k=k+1$ and return to Step 1 ."
   ]
  },
  {
   "cell_type": "markdown",
   "metadata": {},
   "source": [
    "To implement the above-mentioned sampler we would need to define the conditional distributions in steps 1a, 1b and 2. This is simply carried out as shown below."
   ]
  },
  {
   "cell_type": "code",
   "execution_count": null,
   "metadata": {},
   "outputs": [],
   "source": [
    "#Matricies\n",
    "A = model.get_matrix()\n",
    "L = np.eye(n)\n",
    "\n",
    "# Define hyperpriors\n",
    "l = cuqi.distribution.Gamma(shape=m/2+alpha,rate=lambda x: .5*np.linalg.norm(A@x-b)**2+beta)\n",
    "d = cuqi.distribution.Gamma(shape=n/2+alpha,rate=lambda x: .5*x.T@(L@x)+beta)\n",
    "\n",
    "# Define posterior\n",
    "AtA = A.T@A\n",
    "Atb = A.T@b\n",
    "mean_func = lambda l,d: np.linalg.solve(l*AtA+d*L, l*Atb)\n",
    "prec_func  = lambda l,d: l*AtA+d*L\n",
    "x = cuqi.distribution.GaussianPrec(mean=mean_func,prec=prec_func)"
   ]
  },
  {
   "cell_type": "markdown",
   "metadata": {},
   "source": [
    "The Gibbs sampler is then implemented as follows."
   ]
  },
  {
   "cell_type": "code",
   "execution_count": null,
   "metadata": {},
   "outputs": [],
   "source": [
    "# Example from Johns book. Algorithm 5.1\n",
    "n_samp = 1000\n",
    "\n",
    "# Preallocate sample vectors\n",
    "ls = np.zeros(n_samp+1)\n",
    "ds = np.zeros(n_samp+1)\n",
    "xs = np.zeros((n,n_samp+1))\n",
    "\n",
    "# Initial parameters\n",
    "ls[0] = 20; ds[0]=100\n",
    "xs[:,0] = x(l=ls[0], d=ds[0]).mean\n",
    "\n",
    "# Gibbs sampler\n",
    "for k in range(n_samp):\n",
    "\n",
    "    #Sample hyperparameters conditioned on x\n",
    "    ls[k+1] = l(x=xs[:,k]).sample()\n",
    "    ds[k+1] = d(x=xs[:,k]).sample()\n",
    "\n",
    "    # Sample x conditioned on l,d\n",
    "    xs[:,k+1] = x(l=ls[k+1], d=ds[k+1]).sample()"
   ]
  },
  {
   "cell_type": "markdown",
   "metadata": {},
   "source": [
    "Using the cuqi `Samples` and `Geometry` classes we can store the samples and plot e.g. the chains of the hyperparameters."
   ]
  },
  {
   "cell_type": "code",
   "execution_count": null,
   "metadata": {},
   "outputs": [],
   "source": [
    "hp_s = cuqi.samples.Samples(np.vstack((ls,ds)),geometry=cuqi.geometry.Discrete([\"lambda\",\"delta\"])) #Discrete geometry\n",
    "x_s  = cuqi.samples.Samples(xs)                                                                     #Default geometry"
   ]
  },
  {
   "cell_type": "code",
   "execution_count": null,
   "metadata": {},
   "outputs": [],
   "source": [
    "hp_s.plot_chain(0)"
   ]
  },
  {
   "cell_type": "code",
   "execution_count": null,
   "metadata": {},
   "outputs": [],
   "source": [
    "hp_s.plot_chain(1)"
   ]
  },
  {
   "cell_type": "code",
   "execution_count": null,
   "metadata": {},
   "outputs": [],
   "source": [
    "x_s.plot_ci(95, exact=TP.exactSolution)"
   ]
  }
 ],
 "metadata": {
  "interpreter": {
   "hash": "8a2a2a6f000eefafb6ab14e86e333a3522b00875ca02312d09d70808f888a31d"
  },
  "kernelspec": {
   "display_name": "Python 3.9 CUQI w. ASTRA",
   "language": "python",
   "name": "python3"
  },
  "language_info": {
   "codemirror_mode": {
    "name": "ipython",
    "version": 3
   },
   "file_extension": ".py",
   "mimetype": "text/x-python",
   "name": "python",
   "nbconvert_exporter": "python",
   "pygments_lexer": "ipython3",
   "version": "3.8.8"
  }
 },
 "nbformat": 4,
 "nbformat_minor": 2
}
