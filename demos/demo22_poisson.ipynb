{
 "cells": [
  {
   "cell_type": "markdown",
   "metadata": {},
   "source": [
    "# Introducing Generic PDE Support in CUQI\n",
    "\n",
    "Here we build a simple Bayesian problem in which the forward model is a differential equation model, 1D Poisson problem in particular.\n",
    "\n",
    "## Learning objectives of this notebook:\n",
    "- Build a differential equation forward model in CUQIpy.\n",
    "- Solve the differential equation-constrained Bayesian problem using the defined model.\n",
    "- Explore the effect of changing noise and observations.\n"
   ]
  },
  {
   "cell_type": "markdown",
   "metadata": {},
   "source": [
    "## The forward model\n",
    "\n",
    "The PDE model we consider here is a Poisson problem with heterogeneous coefficients:\n",
    "\n",
    "$$ \\nabla \\cdot (\\kappa(x) \\nabla u(x)) = f(x) \\in \\Omega,$$\n",
    "\n",
    "where $\\kappa$ is the diffusivity coefficient, $u(x)$ is the PDE solution (potential), and $f(x)$ is the source term. This equation, for example, can model a steady-state heat conductivity problem where $\\kappa(x)$ is the thermal diffusivity and $u(x)$ is the temperature. $f(x)$ can be a heat source or sink term.\n",
    "\n",
    "We assume the domain $\\Omega$ is the 1D interval $[0,L]$, where $L$ is the domain length. We can think of this as heat conductivity problem in a 1D rod and we assume a zero Dirichlet boundary conditions on the boundaries. In the 1D case, the PDE system reduces to an ODE of the form\n",
    "$$ \\frac{d}{dx} \\left(\\kappa(x) \\frac{d}{dx} u(x)\\right) = f(x) \\in [0,L],$$\n",
    "\n",
    "$$u(0)=u(L)=0$$\n",
    "\n",
    "\n",
    "\n"
   ]
  },
  {
   "cell_type": "markdown",
   "metadata": {},
   "source": [
    "## The Bayesian parameters\n",
    "\n",
    "We assume that we know that the source term $f(x)$ is a Gaussian pulse with unknown location $x_0$ and unknown magnitude $a$:\n",
    "\n",
    "$$f(x) = a e^{ - 50\\left(\\frac{(x - x_0)}{L}\\right)^2} $$\n",
    "\n",
    "And we are after inferring $\\theta = (a,x_0)$ (2 scalar parameters) given the measurement of the temperature $u$ everywhere in the domain (or alternatively in part of the domain).\n",
    "\n",
    "The data $d$ is then given by:\n",
    "\n",
    "$$ d = \\mathcal{G}(\\theta) + \\eta$$\n",
    "\n",
    "\n",
    "where $\\eta$ is the measurement noise and $\\mathcal{G}$ is the forward model operator which maps the source term to the observations. We assume that the prior distribution of $\\theta$ is uniform and the noise distribution is Gaussian. \n"
   ]
  },
  {
   "cell_type": "markdown",
   "metadata": {},
   "source": [
    "## The discretization \n",
    "\n",
    "We discretize the differential operator $ \\frac{d}{dx} \\left(\\kappa(x) \\frac{d}{dx} . \\right)$ using the finite difference method (forward difference discretization in particular). The result discretized system is of the form \n",
    "\n",
    "$$\\mathbf{A}\\mathbf{u} = \\mathbf{f}(\\theta)$$\n",
    "\n",
    "where $\\mathbf{A}$, $\\mathbf{u}$, and $\\mathbf{f}$ are the differential operator, discretized temperature, and the discretized source term respectively."
   ]
  },
  {
   "cell_type": "markdown",
   "metadata": {},
   "source": [
    "## The code\n",
    "\n",
    "To solve this problem in CUQIpy we need to perform the following steps:\n",
    "- Create the forward problem:\n",
    "    - Create the PDE form\n",
    "    - Create a cuqi.pde.SteadyStateLinearPDE object\n",
    "    - Create a cuqi.model.PDEModel object\n",
    "- Create and solve the inverse problem:\n",
    "    - Create the likelihood\n",
    "    - Create synthetic data\n",
    "    - Create the prior\n",
    "    - Create the posterior\n",
    "    - Sample the posterior"
   ]
  },
  {
   "cell_type": "markdown",
   "metadata": {},
   "source": [
    "We start by importing the libraries we need"
   ]
  },
  {
   "cell_type": "code",
   "execution_count": null,
   "metadata": {},
   "outputs": [],
   "source": [
    "import numpy as np\n",
    "import matplotlib.pyplot as plt\n",
    "import sys\n",
    "sys.path.append(\"..\")\n",
    "import cuqi"
   ]
  },
  {
   "cell_type": "markdown",
   "metadata": {},
   "source": [
    "We set the finite difference grid parameters and construct the source term (the gaussian pulse):"
   ]
  },
  {
   "cell_type": "code",
   "execution_count": null,
   "metadata": {},
   "outputs": [],
   "source": [
    "dim = 50 #Number of nodes\n",
    "L = 10 # Length of the domain\n",
    "dx = L/(dim-1) # grid spacing\n",
    "\n",
    "grid_sol = np.linspace(dx, L, dim-1, endpoint=False)\n",
    "grid_obs = grid_sol\n",
    "\n",
    "source = lambda a, x0: a*np.exp( -50 * ( (grid_sol - x0)/L)**2 )"
   ]
  },
  {
   "cell_type": "markdown",
   "metadata": {},
   "source": [
    "Then we create the discretized differential operator using `cuqi.operator.FirstOrderFiniteDifference`. We choose the diffusivity $\\kappa$ to be a step function."
   ]
  },
  {
   "cell_type": "code",
   "execution_count": null,
   "metadata": {},
   "outputs": [],
   "source": [
    "FOFD_operator = cuqi.operator.FirstOrderFiniteDifference(dim-1,bc_type='zero').get_matrix().todense()\n",
    "\n",
    "kappa = np.ones(dim)\n",
    "kappa[np.where(grid_sol>L/2)] = 2\n",
    "\n",
    "diff_operator = FOFD_operator.T @np.diag(kappa) @ FOFD_operator"
   ]
  },
  {
   "cell_type": "markdown",
   "metadata": {},
   "source": [
    "We create the PDE form which consists of the differential operator and the right hand side, and is a function of the Bayesian parameter x. "
   ]
  },
  {
   "cell_type": "code",
   "execution_count": null,
   "metadata": {},
   "outputs": [],
   "source": [
    "poisson_form = lambda x: (diff_operator, dx**2*source(x[0],x[1]))"
   ]
  },
  {
   "cell_type": "markdown",
   "metadata": {},
   "source": [
    "We create the CUQI PDEModel, in this case a `SteadyStateLinearPDE` model."
   ]
  },
  {
   "cell_type": "code",
   "execution_count": null,
   "metadata": {},
   "outputs": [],
   "source": [
    "CUQI_pde = cuqi.pde.SteadyStateLinearPDE(poisson_form, grid_sol=grid_sol, grid_obs=grid_obs)"
   ]
  },
  {
   "cell_type": "markdown",
   "metadata": {},
   "source": [
    "Lets take a look at the object CUQI_pde"
   ]
  },
  {
   "cell_type": "code",
   "execution_count": null,
   "metadata": {},
   "outputs": [],
   "source": [
    "CUQI_pde"
   ]
  },
  {
   "cell_type": "code",
   "execution_count": null,
   "metadata": {},
   "outputs": [],
   "source": [
    "help(CUQI_pde)"
   ]
  },
  {
   "cell_type": "markdown",
   "metadata": {},
   "source": [
    "The model `CUQI_pde` has three main methods: \n",
    "\n",
    "1. assemble, which assembles the differential operator and the RHS given the Bayesian parameter x.\n",
    "2. solve, which solves the PDE.\n",
    "3. observe, which applies an observation operators on the PDE solution (e.g. extracting final temperature at specific or random points).\n",
    "\n",
    "In the following we assemble, solve and apply the observation operator for this Poisson problem for an exact solution `x_exact`."
   ]
  },
  {
   "cell_type": "code",
   "execution_count": null,
   "metadata": {},
   "outputs": [],
   "source": [
    "x_exact = np.array([10,3])\n",
    "CUQI_pde.assemble(x_exact)\n",
    "sol = CUQI_pde.solve()\n",
    "observed_sol = CUQI_pde.observe(sol)"
   ]
  },
  {
   "cell_type": "markdown",
   "metadata": {},
   "source": [
    "And we plot the solution, observed solution and the source term:"
   ]
  },
  {
   "cell_type": "code",
   "execution_count": null,
   "metadata": {},
   "outputs": [],
   "source": [
    "plt.plot(grid_sol,source(x_exact[0], x_exact[1]), label = 'source term')\n",
    "plt.plot(grid_sol, sol, color='k', label= 'solution')\n",
    "plt.plot(grid_obs, observed_sol, linestyle='--', color='orange' ,label='observed solution')\n",
    "plt.legend()"
   ]
  },
  {
   "cell_type": "markdown",
   "metadata": {},
   "source": [
    "We build the CUQI forward model including creating the domain and range geometries"
   ]
  },
  {
   "cell_type": "code",
   "execution_count": null,
   "metadata": {},
   "outputs": [],
   "source": [
    "domain_geometry = cuqi.distribution.Discrete(variables=['magnitude','location'])\n",
    "range_geometry = cuqi.distribution.Continuous1D(grid_obs)\n",
    "\n",
    "model = cuqi.model.PDEModel(CUQI_pde,range_geometry,domain_geometry)"
   ]
  },
  {
   "cell_type": "markdown",
   "metadata": {},
   "source": [
    "We can look at the model:"
   ]
  },
  {
   "cell_type": "code",
   "execution_count": null,
   "metadata": {},
   "outputs": [],
   "source": [
    "model"
   ]
  },
  {
   "cell_type": "markdown",
   "metadata": {},
   "source": [
    "We then create the likelihood and the synthetic data:"
   ]
  },
  {
   "cell_type": "code",
   "execution_count": null,
   "metadata": {},
   "outputs": [],
   "source": [
    "SNR = 100\n",
    "sigma = np.linalg.norm(observed_sol)/SNR\n",
    "\n",
    "likelihood = cuqi.distribution.GaussianCov(model, sigma**2*np.eye(range_geometry.dim))\n",
    "data = likelihood(x=x_exact).sample()"
   ]
  },
  {
   "cell_type": "markdown",
   "metadata": {},
   "source": [
    "We can now look at the data, solution, observed solution and the source term:"
   ]
  },
  {
   "cell_type": "code",
   "execution_count": null,
   "metadata": {},
   "outputs": [],
   "source": [
    "plt.plot(grid_sol,source(x_exact[0], x_exact[1]), label = 'source term')\n",
    "plt.plot(grid_sol, sol, color='k', label= 'solution')\n",
    "plt.plot(grid_obs, observed_sol, linestyle='--', color='orange' ,label='observed solution')\n",
    "plt.plot(grid_obs, data, linestyle='-', color='g' ,label='observed solution')\n",
    "plt.legend()"
   ]
  },
  {
   "cell_type": "markdown",
   "metadata": {},
   "source": [
    "We the create the prior, and the posterior:"
   ]
  },
  {
   "cell_type": "code",
   "execution_count": null,
   "metadata": {},
   "outputs": [],
   "source": [
    "prior = cuqi.distribution.Uniform(np.array([1,0]), np.array([15,L]))\n",
    "posterior = cuqi.distribution.Posterior(likelihood,prior,data)"
   ]
  },
  {
   "cell_type": "markdown",
   "metadata": {},
   "source": [
    "And sample the posterior:"
   ]
  },
  {
   "cell_type": "code",
   "execution_count": null,
   "metadata": {},
   "outputs": [],
   "source": [
    "np.random.seed(0)\n",
    "mySampler = cuqi.sampler.MetropolisHastings(posterior)\n",
    "samples = mySampler.sample_adapt(5000)\n",
    "samples.plot_ci(95,exact=x_exact)"
   ]
  },
  {
   "cell_type": "markdown",
   "metadata": {},
   "source": [
    "Let's look at the chains:"
   ]
  },
  {
   "cell_type": "code",
   "execution_count": null,
   "metadata": {},
   "outputs": [],
   "source": [
    "samples.plot_chain([0,1])"
   ]
  },
  {
   "cell_type": "markdown",
   "metadata": {},
   "source": [
    "We can apply `burnthin` to remove the burn-in and plot the confidence interval again:"
   ]
  },
  {
   "cell_type": "code",
   "execution_count": null,
   "metadata": {},
   "outputs": [],
   "source": [
    "new_samples = samples.burnthin(500)\n",
    "new_samples.plot_ci(95,exact=x_exact)"
   ]
  },
  {
   "cell_type": "markdown",
   "metadata": {},
   "source": [
    "* We can try a case where SNR is 10, for example `SNR = 10`."
   ]
  },
  {
   "cell_type": "markdown",
   "metadata": {},
   "source": [
    "* We can also try observing only in the right half of the domain by setting `grid_obs = grid_sol[int(dim/2.):]` (keeping `SNR=100`)"
   ]
  }
 ],
 "metadata": {
  "kernelspec": {
   "display_name": "Python 3",
   "language": "python",
   "name": "python3"
  },
  "language_info": {
   "codemirror_mode": {
    "name": "ipython",
    "version": 3
   },
   "file_extension": ".py",
   "mimetype": "text/x-python",
   "name": "python",
   "nbconvert_exporter": "python",
   "pygments_lexer": "ipython3",
   "version": "3.8.2"
  }
 },
 "nbformat": 4,
 "nbformat_minor": 2
}
