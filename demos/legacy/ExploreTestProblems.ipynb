{
 "cells": [
  {
   "attachments": {},
   "cell_type": "markdown",
   "metadata": {},
   "source": [
    "# Explore CUQIpy Test Problems\n",
    "\n",
    "This notebook demonstrates the different test problems provided by CUQIpy.\n"
   ]
  },
  {
   "attachments": {},
   "cell_type": "markdown",
   "metadata": {},
   "source": [
    "First we import any python packages we need, here simply NumPy to handle array computations:"
   ]
  },
  {
   "cell_type": "code",
   "execution_count": null,
   "metadata": {},
   "outputs": [],
   "source": [
    "import sys\n",
    "sys.path.append(\"..\")\n",
    "import numpy as np"
   ]
  },
  {
   "attachments": {},
   "cell_type": "markdown",
   "metadata": {},
   "source": [
    "Then we import the functionality we need from CUQIpy:"
   ]
  },
  {
   "cell_type": "code",
   "execution_count": null,
   "metadata": {},
   "outputs": [],
   "source": [
    "from cuqi.distribution import Gaussian, LMRF\n",
    "from cuqi.problem import BayesianProblem\n",
    "from cuqi.testproblem import Deconvolution1D, Heat1D, Poisson1D, Abel1D, _Deconv_1D\n",
    "from cuqi.array import CUQIarray"
   ]
  },
  {
   "attachments": {},
   "cell_type": "markdown",
   "metadata": {},
   "source": [
    "In the following sections of this notebook we break it down and take a slightly closer look at each step. The subsequent notebooks provide additional details."
   ]
  },
  {
   "attachments": {},
   "cell_type": "markdown",
   "metadata": {},
   "source": [
    "## 2. Loading a test problem  <a class=\"anchor\" id=\"TestProblem\"></a> "
   ]
  },
  {
   "attachments": {},
   "cell_type": "markdown",
   "metadata": {},
   "source": [
    "We choose a test problem from CUQIpy's collection:"
   ]
  },
  {
   "cell_type": "code",
   "execution_count": null,
   "metadata": {},
   "outputs": [],
   "source": [
    "# 0  Deconvolution1D\n",
    "# 1  _Deconv_1D\n",
    "# 2  Heat1D\n",
    "# 3  Poisson1D\n",
    "# 4  Abel1D\n",
    "\n",
    "testprob = 0\n",
    "\n",
    "if testprob == 0:\n",
    "    model, data, probInfo = Deconvolution1D(dim=50, phantom=\"Square\").get_components()\n",
    "elif testprob == 1:\n",
    "    model, data, probInfo = _Deconv_1D().get_components()\n",
    "elif testprob == 2:\n",
    "    model, data, probInfo = Heat1D().get_components()\n",
    "elif testprob == 3:\n",
    "    model, data, probInfo = Poisson1D().get_components()\n",
    "elif testprob == 4:\n",
    "    model, data, probInfo = Abel1D().get_components()"
   ]
  },
  {
   "attachments": {},
   "cell_type": "markdown",
   "metadata": {},
   "source": [
    "We take a look at the model and see that it is a CUQIpy LinearModel:"
   ]
  },
  {
   "cell_type": "code",
   "execution_count": null,
   "metadata": {},
   "outputs": [],
   "source": [
    "model"
   ]
  },
  {
   "attachments": {},
   "cell_type": "markdown",
   "metadata": {},
   "source": [
    "We take a look at the data:"
   ]
  },
  {
   "cell_type": "code",
   "execution_count": null,
   "metadata": {},
   "outputs": [],
   "source": [
    "data"
   ]
  },
  {
   "attachments": {},
   "cell_type": "markdown",
   "metadata": {},
   "source": [
    "The data is a `CUQIarray`, which is a normal NumPy array further equipped with a few utilities, such as Geometry, which allows us to do plotting conveniently:"
   ]
  },
  {
   "cell_type": "code",
   "execution_count": null,
   "metadata": {},
   "outputs": [],
   "source": [
    "data.plot()\n",
    "data.shape"
   ]
  },
  {
   "attachments": {},
   "cell_type": "markdown",
   "metadata": {},
   "source": [
    "The last thing returned by the test problem was `probInfo` which contains additional information about the test problem, typically it includes the exact solution (phantom) and the exact data. We take a look at both:"
   ]
  },
  {
   "cell_type": "code",
   "execution_count": null,
   "metadata": {},
   "outputs": [],
   "source": [
    "probInfo"
   ]
  },
  {
   "cell_type": "code",
   "execution_count": null,
   "metadata": {},
   "outputs": [],
   "source": [
    "probInfo.exactSolution.plot()"
   ]
  },
  {
   "cell_type": "code",
   "execution_count": null,
   "metadata": {},
   "outputs": [],
   "source": [
    "probInfo.exactData.plot()"
   ]
  },
  {
   "attachments": {},
   "cell_type": "markdown",
   "metadata": {},
   "source": [
    "Since `CUQIarray` is a NumPy array (technically subclassed from NumPy ndarray), we can do all computations that NumPy admits and still get a `CUQIarray`, for example take the difference between the data and exact data and call the plot method:"
   ]
  },
  {
   "cell_type": "code",
   "execution_count": null,
   "metadata": {},
   "outputs": [],
   "source": [
    "(data-probInfo.exactData).plot()"
   ]
  },
  {
   "attachments": {},
   "cell_type": "markdown",
   "metadata": {},
   "source": [
    "## 3. Specifying the Bayesian inverse problem  <a class=\"anchor\" id=\"Bayesian\"></a> "
   ]
  },
  {
   "attachments": {},
   "cell_type": "markdown",
   "metadata": {},
   "source": [
    "The deconvolution test problem is a linear problem with additive noise:\n",
    "\n",
    "$$ \\mathbf{b} = \\mathbf{A}\\mathbf{x}+\\mathbf{e},$$\n",
    "where $\\mathbf{A}\\in\\mathbb{R}^{n\\times n}$, $\\mathbf{x}, \\mathbf{b}\\in\\mathbb{R}^n$ \n",
    "and \n",
    "$$\n",
    "\\mathbf{x}\\sim\\mathcal{N}(\\mathbf{0},\\sigma_x^2\\mathbf{I}_n), \\\\\n",
    "\\mathbf{e}\\sim\\mathcal{N}(\\mathbf{0},\\sigma_e^2\\mathbf{I}_n).$$"
   ]
  },
  {
   "attachments": {},
   "cell_type": "markdown",
   "metadata": {},
   "source": [
    "We need two components to specify a Bayesian problem: The prior and the likelihood.\n",
    "\n",
    "The prior we specify as a simple IID Gaussian:"
   ]
  },
  {
   "cell_type": "code",
   "execution_count": null,
   "metadata": {},
   "outputs": [],
   "source": [
    "std_prior = 0.2\n",
    "prior = Gaussian(mean=np.zeros(model.domain_dim), std=std_prior)"
   ]
  },
  {
   "attachments": {},
   "cell_type": "markdown",
   "metadata": {},
   "source": [
    "The noise is also Gaussian and combining with the model we specify this as the likelihood:"
   ]
  },
  {
   "cell_type": "code",
   "execution_count": null,
   "metadata": {},
   "outputs": [],
   "source": [
    "std_noise = 0.05\n",
    "likelihood = Gaussian(mean=model, std=std_noise).to_likelihood(data)"
   ]
  },
  {
   "attachments": {},
   "cell_type": "markdown",
   "metadata": {},
   "source": [
    "The prior and likelihood are combined in a Bayesian inverse problem:"
   ]
  },
  {
   "cell_type": "code",
   "execution_count": null,
   "metadata": {},
   "outputs": [],
   "source": [
    "IP = BayesianProblem(likelihood, prior)"
   ]
  },
  {
   "attachments": {},
   "cell_type": "markdown",
   "metadata": {},
   "source": [
    "The \"completely non-expert approach\" to solving (more detailed approaches described in later notebooks) is to simply run the UQ method:"
   ]
  },
  {
   "cell_type": "code",
   "execution_count": null,
   "metadata": {},
   "outputs": [],
   "source": [
    "IP.UQ()"
   ]
  },
  {
   "attachments": {},
   "cell_type": "markdown",
   "metadata": {},
   "source": [
    "The `UQ` method looks at the components of the inverse problem, chooses a suitable sampler, samples the posterior and presents results visually."
   ]
  },
  {
   "attachments": {},
   "cell_type": "markdown",
   "metadata": {},
   "source": [
    "To compare with the exact solution (if available) one can pass it as an input:"
   ]
  },
  {
   "cell_type": "code",
   "execution_count": null,
   "metadata": {},
   "outputs": [],
   "source": [
    "IP.UQ(exact=probInfo.exactSolution)"
   ]
  },
  {
   "attachments": {},
   "cell_type": "markdown",
   "metadata": {},
   "source": [
    "## 4. Changing the prior  <a class=\"anchor\" id=\"ChangingPrior\"></a> "
   ]
  },
  {
   "attachments": {},
   "cell_type": "markdown",
   "metadata": {},
   "source": [
    "It is straightforward to change components of the BayesianProblem. For example if we want to experiment with a different prior we can easily swap it out.\n",
    "\n",
    "We specify a `LMRF` prior, which is a Laplace distribution on differences between neighbouring function values:"
   ]
  },
  {
   "cell_type": "code",
   "execution_count": null,
   "metadata": {},
   "outputs": [],
   "source": [
    "prior_lap = LMRF(location=0, scale=0.01, bc_type='zero', geometry=model.domain_geometry)"
   ]
  },
  {
   "attachments": {},
   "cell_type": "markdown",
   "metadata": {},
   "source": [
    "We update the prior of the inverse problem:"
   ]
  },
  {
   "cell_type": "code",
   "execution_count": null,
   "metadata": {},
   "outputs": [],
   "source": [
    "IP.prior = prior_lap"
   ]
  },
  {
   "attachments": {},
   "cell_type": "markdown",
   "metadata": {},
   "source": [
    "And rerun the `UQ` method:"
   ]
  },
  {
   "cell_type": "code",
   "execution_count": null,
   "metadata": {},
   "outputs": [],
   "source": [
    "IP.UQ(exact=probInfo.exactSolution)"
   ]
  },
  {
   "attachments": {},
   "cell_type": "markdown",
   "metadata": {},
   "source": [
    "Note how a different sampler was chosen due to the change of prior, and how the prior has changed the solution to be more similar to the exact solution."
   ]
  },
  {
   "attachments": {},
   "cell_type": "markdown",
   "metadata": {},
   "source": [
    "#### Try yourself (optional):  \n",
    "- Change phantom to another of the options provided by the TestProblem. Hint: use `help(Deconvolution1D)` to see which phantoms are available.\n",
    "- Play with the parameters of the Gaussian and Laplace priors to see if a better solution can be obtained."
   ]
  },
  {
   "cell_type": "code",
   "execution_count": null,
   "metadata": {},
   "outputs": [],
   "source": []
  }
 ],
 "metadata": {
  "kernelspec": {
   "display_name": "Python 3",
   "language": "python",
   "name": "python3"
  },
  "language_info": {
   "codemirror_mode": {
    "name": "ipython",
    "version": 3
   },
   "file_extension": ".py",
   "mimetype": "text/x-python",
   "name": "python",
   "nbconvert_exporter": "python",
   "pygments_lexer": "ipython3",
   "version": "3.10.5"
  },
  "vscode": {
   "interpreter": {
    "hash": "f83c72a7c5d885a4a7f43561cb77434137f6f5cf21a7418d4732e18616218db3"
   }
  }
 },
 "nbformat": 4,
 "nbformat_minor": 2
}
