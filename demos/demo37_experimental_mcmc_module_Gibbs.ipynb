{
 "cells": [
  {
   "cell_type": "code",
   "execution_count": 44,
   "metadata": {},
   "outputs": [],
   "source": [
    "from cuqi.distribution import DistributionGallery\n",
    "from cuqi.experimental.mcmc import MHNew"
   ]
  },
  {
   "cell_type": "code",
   "execution_count": 45,
   "metadata": {},
   "outputs": [],
   "source": [
    "target = DistributionGallery(\"BivariateGaussian\")"
   ]
  },
  {
   "cell_type": "markdown",
   "metadata": {},
   "source": [
    "### Initialization\n",
    "The new sampler is initialized same as the old one"
   ]
  },
  {
   "cell_type": "code",
   "execution_count": 46,
   "metadata": {},
   "outputs": [
    {
     "name": "stdout",
     "output_type": "stream",
     "text": [
      " Sampler: \n",
      "\t MHNew \n",
      " Target: \n",
      " \t CUQI DistributionGallery. \n",
      " Current state: \n",
      "\t current_point: [1. 1.] \n",
      "\t current_target_logd: [-3.99857481] \n",
      "\t scale: 0.1 \n",
      "\t _scale_temp: 0.1 \n",
      "\n"
     ]
    }
   ],
   "source": [
    "sampler = MHNew(target, scale=0.1)\n",
    "print(sampler)"
   ]
  },
  {
   "cell_type": "markdown",
   "metadata": {},
   "source": [
    "### Tuning\n",
    "However, the user API is now different and more object-oriented.\n",
    "For example, we can \"warm up\" (tune) the sampler as follows"
   ]
  },
  {
   "cell_type": "code",
   "execution_count": 47,
   "metadata": {},
   "outputs": [
    {
     "name": "stderr",
     "output_type": "stream",
     "text": [
      "  0% (0 of 1000) |                       | Elapsed Time: 0:00:00 ETA:  --:--:--\n",
      "  7% (76 of 1000) |#                     | Elapsed Time: 0:00:00 ETA:  00:00:00\n",
      " 25% (254 of 1000) |#####                | Elapsed Time: 0:00:00 ETA:   0:00:00\n",
      " 39% (393 of 1000) |########             | Elapsed Time: 0:00:00 ETA:   0:00:00\n",
      " 53% (532 of 1000) |###########          | Elapsed Time: 0:00:00 ETA:   0:00:00\n",
      " 65% (659 of 1000) |#############        | Elapsed Time: 0:00:00 ETA:   0:00:00\n",
      " 76% (760 of 1000) |###############      | Elapsed Time: 0:00:00 ETA:   0:00:00\n",
      " 93% (937 of 1000) |###################  | Elapsed Time: 0:00:00 ETA:   0:00:00\n",
      "100% (1000 of 1000) |####################| Elapsed Time: 0:00:00 Time:  0:00:00\n"
     ]
    },
    {
     "data": {
      "text/plain": [
       " Sampler: \n",
       "\t MHNew \n",
       " Target: \n",
       " \t CUQI DistributionGallery. \n",
       " Current state: \n",
       "\t current_point: [0.34454574 0.5486393 ] \n",
       "\t current_target_logd: [-0.5652573] \n",
       "\t scale: 0.5840663911231305 \n",
       "\t _scale_temp: 0.5840663911231305 "
      ]
     },
     "execution_count": 47,
     "metadata": {},
     "output_type": "execute_result"
    }
   ],
   "source": [
    "sampler.warmup(1000)"
   ]
  },
  {
   "cell_type": "markdown",
   "metadata": {},
   "source": [
    "### Sampling\n",
    "The sampling is also done in a more object-oriented way also. (Note the samples are NOT returned)"
   ]
  },
  {
   "cell_type": "code",
   "execution_count": 48,
   "metadata": {},
   "outputs": [
    {
     "name": "stderr",
     "output_type": "stream",
     "text": [
      "  0% (0 of 1000) |                       | Elapsed Time: 0:00:00 ETA:  --:--:--\n",
      " 10% (102 of 1000) |##                   | Elapsed Time: 0:00:00 ETA:  00:00:00\n",
      " 24% (241 of 1000) |#####                | Elapsed Time: 0:00:00 ETA:   0:00:00\n",
      " 41% (418 of 1000) |########             | Elapsed Time: 0:00:00 ETA:   0:00:00\n",
      " 50% (507 of 1000) |##########           | Elapsed Time: 0:00:00 ETA:   0:00:00\n",
      " 59% (595 of 1000) |############         | Elapsed Time: 0:00:00 ETA:   0:00:00\n",
      " 73% (735 of 1000) |###############      | Elapsed Time: 0:00:00 ETA:   0:00:00\n",
      " 88% (887 of 1000) |##################   | Elapsed Time: 0:00:00 ETA:   0:00:00\n",
      "100% (1000 of 1000) |####################| Elapsed Time: 0:00:00 Time:  0:00:00\n"
     ]
    },
    {
     "data": {
      "text/plain": [
       " Sampler: \n",
       "\t MHNew \n",
       " Target: \n",
       " \t CUQI DistributionGallery. \n",
       " Current state: \n",
       "\t current_point: [0.58291236 0.01706046] \n",
       "\t current_target_logd: [-3.79762012] \n",
       "\t scale: 0.5840663911231305 \n",
       "\t _scale_temp: 0.5840663911231305 "
      ]
     },
     "execution_count": 48,
     "metadata": {},
     "output_type": "execute_result"
    }
   ],
   "source": [
    "sampler.sample(1000)"
   ]
  },
  {
   "cell_type": "code",
   "execution_count": 49,
   "metadata": {},
   "outputs": [
    {
     "name": "stderr",
     "output_type": "stream",
     "text": [
      "  0% (0 of 200) |                        | Elapsed Time: 0:00:00 ETA:  --:--:--\n",
      " 48% (97 of 200) |###########            | Elapsed Time: 0:00:00 ETA:  00:00:00\n",
      "100% (200 of 200) |######################| Elapsed Time: 0:00:00 Time:  0:00:00\n"
     ]
    },
    {
     "data": {
      "text/plain": [
       " Sampler: \n",
       "\t MHNew \n",
       " Target: \n",
       " \t CUQI DistributionGallery. \n",
       " Current state: \n",
       "\t current_point: [-0.27510572  0.01297955] \n",
       "\t current_target_logd: [-1.14530061] \n",
       "\t scale: 0.7970554668469051 \n",
       "\t _scale_temp: 0.7970554668469051 "
      ]
     },
     "execution_count": 49,
     "metadata": {},
     "output_type": "execute_result"
    }
   ],
   "source": [
    "sampler.warmup(200)"
   ]
  },
  {
   "cell_type": "markdown",
   "metadata": {},
   "source": [
    "### Getting the samples\n",
    "The samples are obtained by calling the `get_samples` method"
   ]
  },
  {
   "cell_type": "code",
   "execution_count": 50,
   "metadata": {},
   "outputs": [],
   "source": [
    "samples = sampler.get_samples()"
   ]
  },
  {
   "cell_type": "code",
   "execution_count": 51,
   "metadata": {},
   "outputs": [
    {
     "data": {
      "text/plain": [
       "array([[<AxesSubplot:title={'center':'v0'}>,\n",
       "        <AxesSubplot:title={'center':'v0'}>],\n",
       "       [<AxesSubplot:title={'center':'v1'}>,\n",
       "        <AxesSubplot:title={'center':'v1'}>]], dtype=object)"
      ]
     },
     "execution_count": 51,
     "metadata": {},
     "output_type": "execute_result"
    },
    {
     "data": {
      "image/png": "[encoded data removed]",
      "text/plain": [
       "<Figure size 864x288 with 4 Axes>"
      ]
     },
     "metadata": {
      "needs_background": "light"
     },
     "output_type": "display_data"
    }
   ],
   "source": [
    "samples.plot_trace()"
   ]
  },
  {
   "cell_type": "code",
   "execution_count": null,
   "metadata": {},
   "outputs": [],
   "source": [
    "samples.burnthin(1000).plot_pair()"
   ]
  },
  {
   "cell_type": "markdown",
   "metadata": {},
   "source": [
    "### Checkpointing\n",
    "The sampler can be checkpointed and restored as follows"
   ]
  },
  {
   "cell_type": "code",
   "execution_count": 52,
   "metadata": {},
   "outputs": [
    {
     "data": {
      "text/plain": [
       " Sampler: \n",
       "\t MHNew \n",
       " Target: \n",
       " \t CUQI DistributionGallery. \n",
       " Current state: \n",
       "\t current_point: [-0.27510572  0.01297955] \n",
       "\t current_target_logd: [-1.14530061] \n",
       "\t scale: 0.7970554668469051 \n",
       "\t _scale_temp: 0.7970554668469051 "
      ]
     },
     "execution_count": 52,
     "metadata": {},
     "output_type": "execute_result"
    }
   ],
   "source": [
    "sampler.save_checkpoint('my_checkpoint.pickle')\n",
    "sampler"
   ]
  },
  {
   "cell_type": "code",
   "execution_count": 53,
   "metadata": {},
   "outputs": [
    {
     "name": "stderr",
     "output_type": "stream",
     "text": [
      "  0% (0 of 200) |                        | Elapsed Time: 0:00:00 ETA:  --:--:--\n",
      " 35% (71 of 200) |########               | Elapsed Time: 0:00:00 ETA:  00:00:00\n",
      " 85% (170 of 200) |##################    | Elapsed Time: 0:00:00 ETA:   0:00:00\n",
      "100% (200 of 200) |######################| Elapsed Time: 0:00:00 Time:  0:00:00\n"
     ]
    },
    {
     "data": {
      "text/plain": [
       " Sampler: \n",
       "\t MHNew \n",
       " Target: \n",
       " \t CUQI DistributionGallery. \n",
       " Current state: \n",
       "\t current_point: [0.29125042 0.8588542 ] \n",
       "\t current_target_logd: [-0.77864805] \n",
       "\t scale: 0.9620206839511813 \n",
       "\t _scale_temp: 0.9620206839511813 "
      ]
     },
     "execution_count": 53,
     "metadata": {},
     "output_type": "execute_result"
    }
   ],
   "source": [
    "sampler.warmup(200)"
   ]
  },
  {
   "cell_type": "code",
   "execution_count": 54,
   "metadata": {},
   "outputs": [
    {
     "data": {
      "text/plain": [
       " Sampler: \n",
       "\t MHNew \n",
       " Target: \n",
       " \t CUQI DistributionGallery. \n",
       " Current state: \n",
       "\t current_point: [-0.27510572  0.01297955] \n",
       "\t current_target_logd: [-1.14530061] \n",
       "\t scale: 0.7970554668469051 \n",
       "\t _scale_temp: 0.7970554668469051 "
      ]
     },
     "execution_count": 54,
     "metadata": {},
     "output_type": "execute_result"
    }
   ],
   "source": [
    "sampler.load_checkpoint('my_checkpoint.pickle')\n",
    "sampler"
   ]
  },
  {
   "cell_type": "markdown",
   "metadata": {},
   "source": [
    "### Batching\n",
    "The sampler run can be \"batched\" as follows (names to be decided)"
   ]
  },
  {
   "cell_type": "code",
   "execution_count": null,
   "metadata": {},
   "outputs": [],
   "source": [
    "sampler.sample(500, batch_size=100)"
   ]
  },
  {
   "cell_type": "code",
   "execution_count": null,
   "metadata": {},
   "outputs": [],
   "source": [
    "!dir CUQI_samples"
   ]
  },
  {
   "cell_type": "markdown",
   "metadata": {},
   "source": [
    "### Gibbs use-case\n",
    "One feature we get from the new sampler design is more flexibility in our Gibbs sampling.\n",
    "Now we can for example run NUTS-within-Gibbs as follows"
   ]
  },
  {
   "cell_type": "code",
   "execution_count": null,
   "metadata": {},
   "outputs": [],
   "source": [
    "import numpy as np\n",
    "from cuqi.distribution import Gamma, Gaussian, GMRF, JointDistribution\n",
    "from cuqi.experimental.mcmc import MHNew, NUTSNew, GibbsNew, ConjugateNew\n",
    "from cuqi.sampler import Gibbs, Conjugate, LinearRTO, NUTS\n",
    "from cuqi.testproblem import Deconvolution1D"
   ]
  },
  {
   "cell_type": "code",
   "execution_count": null,
   "metadata": {},
   "outputs": [],
   "source": [
    "# Forward problem\n",
    "A, y_data, info = Deconvolution1D(dim=128, phantom='sinc', noise_std=0.001).get_components()"
   ]
  },
  {
   "cell_type": "code",
   "execution_count": null,
   "metadata": {},
   "outputs": [],
   "source": [
    "# Target\n",
    "s = Gamma(1, 1e-4)\n",
    "x = GMRF(np.zeros(A.domain_dim), 50)\n",
    "y = Gaussian(A@x, lambda s: 1/s)\n",
    "\n",
    "# %%\n",
    "target = JointDistribution(y, x, s)(y=y_data)\n"
   ]
  },
  {
   "cell_type": "code",
   "execution_count": null,
   "metadata": {},
   "outputs": [],
   "source": [
    "# Old-style Gibbs. Only supports \"Static\" (non-adaptive) samplers\n",
    "sampling_strategy = {\n",
    "    \"x\" : LinearRTO,\n",
    "    \"s\" : Conjugate\n",
    "}\n",
    "\n",
    "sampler = Gibbs(target, sampling_strategy)\n",
    "\n",
    "# %%\n",
    "\n",
    "samples = sampler.sample(200, 50)"
   ]
  },
  {
   "cell_type": "code",
   "execution_count": null,
   "metadata": {},
   "outputs": [],
   "source": [
    "# New-style Gibbs. Supports object-oriented that maintain state through iterations\n",
    "\n",
    "sampling_strategy_new = {\n",
    "    \"x\" : NUTSNew(),     # <--- Notice class instance\n",
    "    \"s\" : ConjugateNew() # <--- Notice class instance\n",
    "}\n",
    "\n",
    "sampler_new = GibbsNew(target, sampling_strategy_new)\n",
    "\n",
    "# Sampling will be a slower for NUTS here because of the target distribution\n",
    "samples_new = sampler_new.sample(200, 50)\n"
   ]
  },
  {
   "cell_type": "code",
   "execution_count": null,
   "metadata": {},
   "outputs": [],
   "source": [
    "samples_new[\"x\"].plot_ci()"
   ]
  },
  {
   "cell_type": "code",
   "execution_count": null,
   "metadata": {},
   "outputs": [],
   "source": []
  }
 ],
 "metadata": {
  "kernelspec": {
   "display_name": "base",
   "language": "python",
   "name": "python3"
  },
  "language_info": {
   "codemirror_mode": {
    "name": "ipython",
    "version": 3
   },
   "file_extension": ".py",
   "mimetype": "text/x-python",
   "name": "python",
   "nbconvert_exporter": "python",
   "pygments_lexer": "ipython3",
   "version": "3.8.5"
  }
 },
 "nbformat": 4,
 "nbformat_minor": 2
}
