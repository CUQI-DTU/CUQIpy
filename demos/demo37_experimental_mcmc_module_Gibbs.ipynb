{
 "cells": [
  {
   "cell_type": "markdown",
   "metadata": {},
   "source": [
    "### GibbsNew\n",
    "One feature we get from the new sampler design is more flexibility in our Gibbs sampling.\n",
    "Now we can for example run with sampler instances, which allows us to set parameters and also use all samplers in Gibbs sampling."
   ]
  },
  {
   "cell_type": "code",
   "execution_count": null,
   "metadata": {},
   "outputs": [],
   "source": [
    "import numpy as np\n",
    "from cuqi.distribution import Gamma, Gaussian, GMRF, JointDistribution\n",
    "from cuqi.experimental.mcmc import MHNew, NUTSNew, GibbsNew, ConjugateNew, LinearRTONew\n",
    "from cuqi.sampler import Gibbs, Conjugate, LinearRTO\n",
    "from cuqi.testproblem import Deconvolution1D"
   ]
  },
  {
   "cell_type": "code",
   "execution_count": null,
   "metadata": {},
   "outputs": [],
   "source": [
    "# Forward problem\n",
    "A, y_data, info = Deconvolution1D(dim=128, phantom='sinc', noise_std=0.001).get_components()"
   ]
  },
  {
   "cell_type": "code",
   "execution_count": null,
   "metadata": {},
   "outputs": [],
   "source": [
    "# Target\n",
    "s = Gamma(1, 1e-4)\n",
    "x = GMRF(np.zeros(A.domain_dim), 50)\n",
    "y = Gaussian(A@x, lambda s: 1/s)\n",
    "\n",
    "# %%\n",
    "target = JointDistribution(y, x, s)(y=y_data)\n"
   ]
  },
  {
   "cell_type": "code",
   "execution_count": null,
   "metadata": {},
   "outputs": [],
   "source": [
    "# Old-style Gibbs. Only supports \"Static\" (non-adaptive) samplers\n",
    "sampling_strategy = {\n",
    "    \"x\" : LinearRTO,\n",
    "    \"s\" : Conjugate\n",
    "}\n",
    "\n",
    "sampler = Gibbs(target, sampling_strategy)\n",
    "\n",
    "# %%\n",
    "\n",
    "samples = sampler.sample(200, 50)"
   ]
  },
  {
   "cell_type": "code",
   "execution_count": null,
   "metadata": {},
   "outputs": [],
   "source": [
    "samples[\"x\"].plot_ci()"
   ]
  },
  {
   "cell_type": "code",
   "execution_count": null,
   "metadata": {},
   "outputs": [],
   "source": [
    "# New-style Gibbs. Supports object-oriented that maintain state through iterations\n",
    "\n",
    "sampling_strategy_new = {\n",
    "    \"x\" : LinearRTONew(maxit=25), # <--- Notice instance of class with set parameters\n",
    "    \"s\" : ConjugateNew()          # <--- Notice instance of class with default parameters\n",
    "}\n",
    "\n",
    "sampler_new = GibbsNew(target, sampling_strategy_new)\n",
    "\n",
    "# Sample using new-style Gibbs\n",
    "sampler_new.warmup(50)\n",
    "sampler_new.sample(200)\n",
    "samples_new = sampler_new.get_samples()\n"
   ]
  },
  {
   "cell_type": "code",
   "execution_count": null,
   "metadata": {},
   "outputs": [],
   "source": [
    "samples_new[\"x\"].plot_ci()"
   ]
  },
  {
   "cell_type": "code",
   "execution_count": null,
   "metadata": {},
   "outputs": [],
   "source": [
    "# Try with NUTS\n",
    "sampling_strategy_NUTS = {\n",
    "    \"x\" : NUTSNew(max_depth=10),\n",
    "    \"s\" : ConjugateNew()\n",
    "}\n",
    "\n",
    "sampler_NUTS = GibbsNew(target, sampling_strategy_NUTS)\n",
    "\n",
    "sampler_NUTS.warmup(50)\n",
    "sampler_NUTS.sample(200)\n",
    "samples_NUTS = sampler_new.get_samples()"
   ]
  },
  {
   "cell_type": "code",
   "execution_count": null,
   "metadata": {},
   "outputs": [],
   "source": [
    "samples_NUTS[\"x\"].plot_ci()"
   ]
  },
  {
   "cell_type": "code",
   "execution_count": null,
   "metadata": {},
   "outputs": [],
   "source": []
  }
 ],
 "metadata": {
  "kernelspec": {
   "display_name": "base",
   "language": "python",
   "name": "python3"
  },
  "language_info": {
   "codemirror_mode": {
    "name": "ipython",
    "version": 3
   },
   "file_extension": ".py",
   "mimetype": "text/x-python",
   "name": "python",
   "nbconvert_exporter": "python",
   "pygments_lexer": "ipython3",
   "version": "3.11.4"
  }
 },
 "nbformat": 4,
 "nbformat_minor": 2
}
