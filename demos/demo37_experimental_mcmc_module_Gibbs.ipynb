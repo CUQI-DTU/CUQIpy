{
 "cells": [
  {
   "cell_type": "markdown",
   "metadata": {},
   "source": [
    "## HybridGibbs\n",
    "One feature we get from the new sampler design is more flexibility in our Gibbs sampling.\n",
    "Now we can for example run with sampler instances, which allows us to set parameters and also use all samplers in Gibbs sampling.\n",
    "\n",
    "We call this new sampler HybridGibbs to distinguish it from classical Gibbs sampling.\n",
    "\n",
    "### Old Gibbs sampler\n",
    "First let us showcase the old Gibbs sampler:"
   ]
  },
  {
   "cell_type": "code",
   "execution_count": null,
   "metadata": {},
   "outputs": [],
   "source": [
    "import cuqi\n",
    "import numpy as np\n",
    "from cuqi.distribution import Gamma, Gaussian, GMRF, JointDistribution, LMRF\n",
    "from cuqi.experimental.mcmc import NUTS, HybridGibbs, Conjugate, LinearRTO, ConjugateApprox, UGLA\n",
    "from cuqi.testproblem import Deconvolution1D\n",
    "\n",
    "# Forward problem\n",
    "A, y_data, info = Deconvolution1D(dim=128, phantom='sinc', noise_std=0.001).get_components()\n",
    "\n",
    "# Bayesian Inverse Problem\n",
    "s = Gamma(1, 1e-4)\n",
    "x = GMRF(np.zeros(A.domain_dim), 50)\n",
    "y = Gaussian(A@x, lambda s: 1/s)\n",
    "\n",
    "# Posterior\n",
    "target = JointDistribution(y, x, s)(y=y_data)\n"
   ]
  },
  {
   "cell_type": "code",
   "execution_count": null,
   "metadata": {},
   "outputs": [],
   "source": [
    "# Old-style Gibbs. Only supports \"Static\" (non-adaptive) samplers\n",
    "sampling_strategy = {\n",
    "    \"x\" : cuqi.sampler.LinearRTO,\n",
    "    \"s\" : cuqi.sampler.Conjugate\n",
    "}\n",
    "\n",
    "sampler = cuqi.sampler.Gibbs(target, sampling_strategy)\n",
    "\n",
    "# Sample\n",
    "samples = sampler.sample(200, 50)\n",
    "\n",
    "# Plot results\n",
    "samples[\"x\"].plot_ci()"
   ]
  },
  {
   "cell_type": "markdown",
   "metadata": {},
   "source": [
    "The new HybridGibbs sampler is a generalization of the old Gibbs sampler which supported object-oriented sampler classes.\n",
    "\n",
    "This means we can use more elaborate Gibbs sampling schemes like NUTS-within-Gibbs or similar.\n",
    "\n",
    "First let us explore how the interface has changed by replicating the previous case:"
   ]
  },
  {
   "cell_type": "code",
   "execution_count": null,
   "metadata": {},
   "outputs": [],
   "source": [
    "# New-style Hybrid Gibbs. Supports object-oriented that maintain state through iterations\n",
    "\n",
    "sampling_strategy = {\n",
    "    \"x\" : LinearRTO(maxit=25), # <--- Notice instance of class with set parameters\n",
    "    \"s\" : Conjugate()          # <--- Notice instance of class with default parameters\n",
    "}\n",
    "\n",
    "sampler = HybridGibbs(target, sampling_strategy)\n",
    "\n",
    "# Sample using new-style Gibbs\n",
    "sampler.warmup(50)\n",
    "sampler.sample(200)\n",
    "samples = sampler.get_samples()\n",
    "\n",
    "# Plot results\n",
    "samples[\"x\"].plot_ci()\n"
   ]
  },
  {
   "cell_type": "markdown",
   "metadata": {},
   "source": [
    "Now let us try the NUTS-within-Gibbs sampler."
   ]
  },
  {
   "cell_type": "code",
   "execution_count": null,
   "metadata": {},
   "outputs": [],
   "source": [
    "sampling_strategy = {\n",
    "    \"x\" : NUTS(max_depth=10),\n",
    "    \"s\" : Conjugate()\n",
    "}\n",
    "\n",
    "# Here we do 10 internal steps with NUTS for each Gibbs step\n",
    "num_sampling_steps = {\n",
    "    \"x\" : 10,\n",
    "    \"s\" : 1\n",
    "}\n",
    "\n",
    "sampler = HybridGibbs(target, sampling_strategy, num_sampling_steps)\n",
    "\n",
    "sampler.warmup(50)\n",
    "sampler.sample(200)\n",
    "samples = sampler.get_samples()\n",
    "\n",
    "samples[\"x\"].plot_ci()"
   ]
  },
  {
   "cell_type": "markdown",
   "metadata": {},
   "source": [
    "The approximate conjugate case (from the webpage) also works"
   ]
  },
  {
   "cell_type": "code",
   "execution_count": null,
   "metadata": {},
   "outputs": [],
   "source": [
    "# Try with ConjugateApprox (LMRF prior)\n",
    "\n",
    "# Forward problem\n",
    "A, y_data, info = Deconvolution1D(dim=128, phantom='square', noise_std=0.001).get_components()\n",
    "\n",
    "# Bayesian Inverse Problem\n",
    "d = Gamma(1, 1e-4)\n",
    "s = Gamma(1, 1e-4)\n",
    "x = LMRF(0, lambda d: 1/d, geometry=A.domain_geometry)\n",
    "y = Gaussian(A@x, lambda s: 1/s)\n",
    "\n",
    "# Posterior\n",
    "target = JointDistribution(y, x, s, d)(y=y_data)\n",
    "\n",
    "# Sampling strategy\n",
    "sampling_strategy = {\n",
    "    \"x\" : UGLA(),\n",
    "    \"s\" : Conjugate(),\n",
    "    \"d\" : ConjugateApprox()\n",
    "}\n",
    "\n",
    "# Gibbs sampler\n",
    "sampler = HybridGibbs(target, sampling_strategy)\n",
    "\n",
    "# Run sampler\n",
    "sampler.warmup(50)\n",
    "sampler.sample(200)\n",
    "samples = sampler.get_samples()\n",
    "\n",
    "# Plot\n",
    "samples[\"x\"].plot_ci()"
   ]
  },
  {
   "cell_type": "markdown",
   "metadata": {},
   "source": [
    "## Ensuring conjugacy safety and flexibility\n",
    "One important feature of the new Conjugate samplers is that they check the parameter relations to ensure an actual conjugate distribution is defined in the model. This was previously not checked in the older sampler module.\n",
    "\n",
    "This will help users not accidentally using the conjugate sampler for cases that are not actually conjugate."
   ]
  },
  {
   "cell_type": "code",
   "execution_count": null,
   "metadata": {},
   "outputs": [],
   "source": [
    "# Forward problem\n",
    "A, y_data, info = Deconvolution1D(dim=128, phantom='sinc', noise_std=0.001).get_components()\n",
    "\n",
    "# Baysian Inverse Problem\n",
    "s = Gamma(1, 1e-4)\n",
    "x = GMRF(np.zeros(A.domain_dim), 50)\n",
    "y = Gaussian(A@x, lambda s: s) # Accidentally using wrong conjugate relation (should have been 1/s)\n",
    "\n",
    "# Posterior\n",
    "target = JointDistribution(y, x, s)(y=y_data)\n",
    "\n",
    "# Sampling strategy\n",
    "sampling_strategy = {\n",
    "    \"x\" : LinearRTO(maxit=25),\n",
    "    \"s\" : Conjugate()\n",
    "}\n",
    "\n",
    "# Gibbs sampler (this should print an error)\n",
    "try:\n",
    "    sampler = HybridGibbs(target, sampling_strategy)\n",
    "except ValueError as e:\n",
    "    print(\"Sampler error thrown: \", e)\n"
   ]
  }
 ],
 "metadata": {
  "kernelspec": {
   "display_name": "base",
   "language": "python",
   "name": "python3"
  },
  "language_info": {
   "codemirror_mode": {
    "name": "ipython",
    "version": 3
   },
   "file_extension": ".py",
   "mimetype": "text/x-python",
   "name": "python",
   "nbconvert_exporter": "python",
   "pygments_lexer": "ipython3",
   "version": "3.12.0"
  }
 },
 "nbformat": 4,
 "nbformat_minor": 2
}
