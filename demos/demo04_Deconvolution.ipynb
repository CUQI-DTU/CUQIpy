{
 "cells": [
  {
   "attachments": {},
   "cell_type": "markdown",
   "metadata": {},
   "source": [
    "# MWE of PCH: Periodic deblurring problem"
   ]
  },
  {
   "attachments": {},
   "cell_type": "markdown",
   "metadata": {},
   "source": [
    "First import packages required"
   ]
  },
  {
   "cell_type": "code",
   "execution_count": null,
   "metadata": {},
   "outputs": [],
   "source": [
    "import sys\n",
    "\n",
    "sys.path.append(\"..\") \n",
    "import numpy as np\n",
    "from scipy.sparse import diags\n",
    "import matplotlib.pyplot as plt\n",
    "import inspect\n",
    "\n",
    "# Set rng seed \n",
    "np.random.seed(0)"
   ]
  },
  {
   "attachments": {},
   "cell_type": "markdown",
   "metadata": {},
   "source": [
    "Then import tools needed from CUQIpy:"
   ]
  },
  {
   "cell_type": "code",
   "execution_count": null,
   "metadata": {},
   "outputs": [],
   "source": [
    "from cuqi.testproblem import Deconvolution1D\n",
    "from cuqi.model import LinearModel\n",
    "from cuqi.distribution import Gaussian, LMRF, CMRF\n",
    "from cuqi.sampler import CWMH\n",
    "from cuqi.problem import BayesianProblem\n",
    "from cuqi.samples import Samples"
   ]
  },
  {
   "attachments": {},
   "cell_type": "markdown",
   "metadata": {},
   "source": [
    "## 1. Loading the Deconvolution problem"
   ]
  },
  {
   "attachments": {},
   "cell_type": "markdown",
   "metadata": {},
   "source": [
    "We want to experiment with the Deconvolution test problem; we first take a look at how to call it:"
   ]
  },
  {
   "cell_type": "code",
   "execution_count": null,
   "metadata": {},
   "outputs": [],
   "source": [
    "help(Deconvolution1D)"
   ]
  },
  {
   "attachments": {},
   "cell_type": "markdown",
   "metadata": {},
   "source": [
    "Specify parameters and create Deconvolution TestProblem:"
   ]
  },
  {
   "cell_type": "code",
   "execution_count": null,
   "metadata": {},
   "outputs": [],
   "source": [
    "dim = 128\n",
    "kernel = [\"Gauss\",\"Sinc\",\"vonMises\"]\n",
    "phantom = [\"Gauss\",\"Sinc\",\"vonMises\",\"Square\",\"Hat\",\"Bumps\",\"DerivGauss\"]\n",
    "noise_type = [\"Gaussian\",\"ScaledGaussian\"]\n",
    "noise_std = 0.05\n",
    "\n",
    "# Test problem\n",
    "prob = Deconvolution1D(\n",
    "    dim = dim,\n",
    "    kernel=kernel[0],\n",
    "    phantom=phantom[3],\n",
    "    noise_type=noise_type[0],\n",
    "    noise_std = noise_std\n",
    ")"
   ]
  },
  {
   "attachments": {},
   "cell_type": "markdown",
   "metadata": {},
   "source": [
    "A CUQI TestProblem already contains everything apart from a prior to do UQ, so we could simply specify a prior and then run the UQ method directly on the test problem. This is because TestProblem is a subclass of BayesianProblem, so the UQ method is inherited. But, here we will \"unpack\" the main ingredients (the linear operator and the original clean signal) and build our problem from scratch."
   ]
  },
  {
   "cell_type": "code",
   "execution_count": null,
   "metadata": {},
   "outputs": [],
   "source": [
    "A = prob.model.get_matrix()\n",
    "phantom = prob.exactSolution     # We may later return and generate phantom as a sample from a prior distribution."
   ]
  },
  {
   "attachments": {},
   "cell_type": "markdown",
   "metadata": {},
   "source": [
    "We can show the matrix and the \"original clean signal\" directly using python matplotlib plotting methods:"
   ]
  },
  {
   "cell_type": "code",
   "execution_count": null,
   "metadata": {},
   "outputs": [],
   "source": [
    "plt.figure()\n",
    "plt.imshow(A)\n",
    "plt.figure()\n",
    "plt.plot(phantom)"
   ]
  },
  {
   "attachments": {},
   "cell_type": "markdown",
   "metadata": {},
   "source": [
    "## 2. Set up problem in CUQIpy with IID Gaussian prior"
   ]
  },
  {
   "attachments": {},
   "cell_type": "markdown",
   "metadata": {},
   "source": [
    "We first set up a CUQI LinearModel:"
   ]
  },
  {
   "cell_type": "code",
   "execution_count": null,
   "metadata": {},
   "outputs": [],
   "source": [
    "# Define as linear model\n",
    "model = LinearModel(A)"
   ]
  },
  {
   "attachments": {},
   "cell_type": "markdown",
   "metadata": {},
   "source": [
    "With the CUQI model we can for example apply it to the clean signal and obtain clean data and plot it:"
   ]
  },
  {
   "cell_type": "code",
   "execution_count": null,
   "metadata": {},
   "outputs": [],
   "source": [
    "data_clean = model(phantom)\n",
    "plt.plot(data_clean)"
   ]
  },
  {
   "attachments": {},
   "cell_type": "markdown",
   "metadata": {},
   "source": [
    "We can use the geometries of the domain and range of the model for the dedicated plot type (for a simple 1D signal like this, the default Continuous1D geometry is automatically employed and its plotting method simply add the xlabel)"
   ]
  },
  {
   "cell_type": "code",
   "execution_count": null,
   "metadata": {},
   "outputs": [],
   "source": [
    "model.domain_geometry.plot(phantom)\n",
    "plt.figure()\n",
    "model.range_geometry.plot(data_clean)"
   ]
  },
  {
   "attachments": {},
   "cell_type": "markdown",
   "metadata": {},
   "source": [
    "Define data distribution as Gaussian with model as mean and i.i.d. noise with 0.05 std.  Note how the CUQIpy object \"model\" is given as the mean. Thus data distribution is a conditional distribution, which can only be sampled once the conditioning variable is specified."
   ]
  },
  {
   "cell_type": "code",
   "execution_count": null,
   "metadata": {},
   "outputs": [],
   "source": [
    "noise_std = 0.05\n",
    "data_dist = Gaussian(model, noise_std, np.eye(dim))"
   ]
  },
  {
   "attachments": {},
   "cell_type": "markdown",
   "metadata": {},
   "source": [
    "Generate and plot samples of noise by conditioning on the zero image:"
   ]
  },
  {
   "cell_type": "code",
   "execution_count": null,
   "metadata": {},
   "outputs": [],
   "source": [
    "data_dist(np.zeros(dim)).sample(5).plot()\n",
    "plt.title('Noise samples'); plt.show()"
   ]
  },
  {
   "attachments": {},
   "cell_type": "markdown",
   "metadata": {},
   "source": [
    "In the same way, by conditioning on the true phantom, we generate (noisy) samples of simulated data:"
   ]
  },
  {
   "cell_type": "code",
   "execution_count": null,
   "metadata": {},
   "outputs": [],
   "source": [
    "data_dist(phantom).sample(5).plot()\n",
    "plt.title('Simulated data'); plt.show()"
   ]
  },
  {
   "attachments": {},
   "cell_type": "markdown",
   "metadata": {},
   "source": [
    "Now generate single realization of data to be used in inverse problem:"
   ]
  },
  {
   "cell_type": "code",
   "execution_count": null,
   "metadata": {},
   "outputs": [],
   "source": [
    "data = data_dist(phantom).sample()"
   ]
  },
  {
   "attachments": {},
   "cell_type": "markdown",
   "metadata": {},
   "source": [
    "Specify the prior distribution and generate and plot 5 samples:"
   ]
  },
  {
   "cell_type": "code",
   "execution_count": null,
   "metadata": {},
   "outputs": [],
   "source": [
    "prior_std = 0.2\n",
    "prior = Gaussian(np.zeros(dim), prior_std, np.eye(dim), name=\"x\") # Set name to \"x\" to match model input\n",
    "\n",
    "# Plot samples of prior\n",
    "prior.sample(5).plot()\n",
    "plt.title('Realizations from prior'); plt.show()"
   ]
  },
  {
   "attachments": {},
   "cell_type": "markdown",
   "metadata": {},
   "source": [
    "Combine likelihood, prior and the observed data into \"BayesianProblem\" object representing the inverse problem. No solving yet."
   ]
  },
  {
   "cell_type": "code",
   "execution_count": null,
   "metadata": {},
   "outputs": [],
   "source": [
    "likelihood = data_dist.to_likelihood(data)\n",
    "\n",
    "IP = BayesianProblem(likelihood, prior)"
   ]
  },
  {
   "attachments": {},
   "cell_type": "markdown",
   "metadata": {},
   "source": [
    "## 3. Solving the inverse problem"
   ]
  },
  {
   "attachments": {},
   "cell_type": "markdown",
   "metadata": {},
   "source": [
    "We can ask for the MAP estimate:  (for small fully Gaussian problems we use analytical expression; for more complicated problems support is underway using numerical optimization. Prototype support implemented at hackathon using gradients of logpdf and LBFGS from scipy)"
   ]
  },
  {
   "cell_type": "code",
   "execution_count": null,
   "metadata": {},
   "outputs": [],
   "source": [
    "x_MAP = IP.MAP() \n",
    "\n",
    "# Plot\n",
    "plt.plot(phantom,'.-')\n",
    "plt.plot(x_MAP,'.-')\n",
    "plt.title(\"Map estimate\")\n",
    "plt.legend([\"Exact\",\"MAP\"])\n",
    "plt.show()"
   ]
  },
  {
   "attachments": {},
   "cell_type": "markdown",
   "metadata": {},
   "source": [
    "Instead of MAP, we can sample the posterior:"
   ]
  },
  {
   "cell_type": "code",
   "execution_count": null,
   "metadata": {},
   "outputs": [],
   "source": [
    "Ns = 5000   # Number of samples\n",
    "result = IP.sample_posterior(Ns)"
   ]
  },
  {
   "attachments": {},
   "cell_type": "markdown",
   "metadata": {},
   "source": [
    "The output is a cuqi.samples.Samples object containing the samples and various utilities such as plotting methods:"
   ]
  },
  {
   "cell_type": "code",
   "execution_count": null,
   "metadata": {},
   "outputs": [],
   "source": [
    "type(result)"
   ]
  },
  {
   "attachments": {},
   "cell_type": "markdown",
   "metadata": {},
   "source": [
    "For example we can plot credibility interval around the exact:"
   ]
  },
  {
   "cell_type": "code",
   "execution_count": null,
   "metadata": {},
   "outputs": [],
   "source": [
    "result.plot_ci(95, exact=phantom)"
   ]
  },
  {
   "attachments": {},
   "cell_type": "markdown",
   "metadata": {},
   "source": [
    "And the posterior sample std:"
   ]
  },
  {
   "cell_type": "code",
   "execution_count": null,
   "metadata": {},
   "outputs": [],
   "source": [
    "result.plot_std()"
   ]
  },
  {
   "attachments": {},
   "cell_type": "markdown",
   "metadata": {},
   "source": [
    "As well as chains of the individual parameters, here three shown:"
   ]
  },
  {
   "cell_type": "code",
   "execution_count": null,
   "metadata": {},
   "outputs": [],
   "source": [
    "idx = [20,55,60]\n",
    "result.plot_chain(idx)\n",
    "plt.legend(idx)"
   ]
  },
  {
   "attachments": {},
   "cell_type": "markdown",
   "metadata": {},
   "source": [
    "Diagnostics of the sampling is ongoing work, some information is available currently in result:"
   ]
  },
  {
   "cell_type": "code",
   "execution_count": null,
   "metadata": {},
   "outputs": [],
   "source": [
    "result.diagnostics()"
   ]
  },
  {
   "attachments": {},
   "cell_type": "markdown",
   "metadata": {},
   "source": [
    "## 4. Change to a Gaussian with correlation"
   ]
  },
  {
   "attachments": {},
   "cell_type": "markdown",
   "metadata": {},
   "source": [
    "Define correlation matrix where 30 closest neighbours are correlated"
   ]
  },
  {
   "cell_type": "code",
   "execution_count": null,
   "metadata": {},
   "outputs": [],
   "source": [
    "l = 30\n",
    "corr = np.linspace(0,1,int(l/2)+1)\n",
    "corr = np.hstack((corr,np.flipud(corr[:-1])))\n",
    "indexes = np.linspace(-l/2,l/2,l+1,dtype=int)\n",
    "corrmat = diags(corr, indexes, shape=(dim,dim)).toarray()\n",
    "\n",
    "plt.imshow(corrmat)"
   ]
  },
  {
   "attachments": {},
   "cell_type": "markdown",
   "metadata": {},
   "source": [
    "Set new prior and plot a few samples:"
   ]
  },
  {
   "cell_type": "code",
   "execution_count": null,
   "metadata": {},
   "outputs": [],
   "source": [
    "IP.prior = Gaussian(np.zeros(dim), prior_std, corrmat, name=\"x\")\n",
    "\n",
    "# Plot samples from prior\n",
    "IP.prior.sample(5).plot() \n",
    "plt.title('Realizations from prior'); plt.show()"
   ]
  },
  {
   "attachments": {},
   "cell_type": "markdown",
   "metadata": {},
   "source": [
    "We have already updated the \"prior\" attribute of the IP, so we are ready to solve for the MAP and sample:"
   ]
  },
  {
   "cell_type": "code",
   "execution_count": null,
   "metadata": {},
   "outputs": [],
   "source": [
    "x_MAP_corr = IP.MAP()\n",
    "\n",
    "# Plot\n",
    "plt.plot(phantom,'.-')\n",
    "plt.plot(x_MAP_corr,'.-')\n",
    "plt.title(\"Map estimate\")\n",
    "plt.legend([\"Exact\",\"MAP\"])\n",
    "plt.show()"
   ]
  },
  {
   "cell_type": "code",
   "execution_count": null,
   "metadata": {},
   "outputs": [],
   "source": [
    "result_corr = IP.sample_posterior(Ns)\n",
    "\n",
    "# plot mean + 95% of samples\n",
    "result_corr.plot_ci(95, exact=phantom)"
   ]
  },
  {
   "attachments": {},
   "cell_type": "markdown",
   "metadata": {},
   "source": [
    "## 5. Change to a Cauchy prior"
   ]
  },
  {
   "attachments": {},
   "cell_type": "markdown",
   "metadata": {},
   "source": [
    "The correlated Gaussian gives a narrow credibility interval so was better than the IID Gaussian, but still cannot reproduce the sharp edges. We try a Cauchy prior."
   ]
  },
  {
   "cell_type": "code",
   "execution_count": null,
   "metadata": {},
   "outputs": [],
   "source": [
    "scale = 2/dim\n",
    "IP.prior = CMRF(np.zeros(dim), scale, 'neumann', name=\"x\")"
   ]
  },
  {
   "attachments": {},
   "cell_type": "markdown",
   "metadata": {},
   "source": [
    "MAP for Cauchy."
   ]
  },
  {
   "cell_type": "code",
   "execution_count": null,
   "metadata": {},
   "outputs": [],
   "source": [
    "x_MAP_cau = IP.MAP()\n",
    "\n",
    "# Plot\n",
    "plt.plot(phantom,'.-')\n",
    "plt.plot(x_MAP_cau[0],'.-')\n",
    "plt.title(\"Map estimate\")\n",
    "plt.legend([\"Exact\",\"MAP\"])\n",
    "plt.show()"
   ]
  },
  {
   "attachments": {},
   "cell_type": "markdown",
   "metadata": {},
   "source": [
    "Sampling of posterior for Cauchy. Different sampling method than Gaussian and this is slower."
   ]
  },
  {
   "cell_type": "code",
   "execution_count": null,
   "metadata": {},
   "outputs": [],
   "source": [
    "result_cau = IP.sample_posterior(Ns//10) #We dont need as many samples when the sampler is NUTS."
   ]
  },
  {
   "attachments": {},
   "cell_type": "markdown",
   "metadata": {},
   "source": [
    "Plot mean + 95% of samples"
   ]
  },
  {
   "cell_type": "code",
   "execution_count": null,
   "metadata": {},
   "outputs": [],
   "source": [
    "result_cau.plot_ci(95, exact=phantom)"
   ]
  },
  {
   "cell_type": "code",
   "execution_count": null,
   "metadata": {},
   "outputs": [],
   "source": [
    "result_cau.plot_std()"
   ]
  },
  {
   "attachments": {},
   "cell_type": "markdown",
   "metadata": {},
   "source": [
    "## 6. Change to Laplace prior"
   ]
  },
  {
   "attachments": {},
   "cell_type": "markdown",
   "metadata": {},
   "source": [
    "Cauchy is known to be very edge-preserving but difficult to work with for example sample. Another edge-preserving prior is Laplace which typically is more well-behaved but not quite as strongly edge-preserving"
   ]
  },
  {
   "cell_type": "code",
   "execution_count": null,
   "metadata": {},
   "outputs": [],
   "source": [
    "# Set up Laplace prior\n",
    "location = 0\n",
    "delta = 0.5\n",
    "scale = delta*1/dim\n",
    "IP.prior = LMRF(location, scale, 'zero', geometry=dim, name=\"x\")"
   ]
  },
  {
   "attachments": {},
   "cell_type": "markdown",
   "metadata": {},
   "source": [
    "This runs yet another sampler"
   ]
  },
  {
   "cell_type": "code",
   "execution_count": null,
   "metadata": {},
   "outputs": [],
   "source": [
    "result_lap = IP.sample_posterior(Ns//10)"
   ]
  },
  {
   "attachments": {},
   "cell_type": "markdown",
   "metadata": {},
   "source": [
    "Then we can use the plotting methods such as of the credibility interval:"
   ]
  },
  {
   "cell_type": "code",
   "execution_count": null,
   "metadata": {},
   "outputs": [],
   "source": [
    "result_lap.plot_ci(95, exact=phantom)"
   ]
  },
  {
   "attachments": {},
   "cell_type": "markdown",
   "metadata": {},
   "source": [
    "Or std plot:"
   ]
  },
  {
   "cell_type": "code",
   "execution_count": null,
   "metadata": {},
   "outputs": [],
   "source": [
    "result_lap.plot_std()"
   ]
  },
  {
   "attachments": {},
   "cell_type": "markdown",
   "metadata": {},
   "source": [
    "## Some ideas to try out (warning: not tested!)\n",
    "1. Change phantom to another of the options provided by the TestProblem.\n",
    "2. Change phantom to be a sample from Gaussian, then do UQ with correct and incorrect choices of prior.\n",
    "3. Play with parameter of priors for example Cauchy and Laplace to see if a better solution can be obtained.\n",
    "3. Change noise/likelihood to scaledGaussian"
   ]
  },
  {
   "cell_type": "code",
   "execution_count": null,
   "metadata": {},
   "outputs": [],
   "source": []
  }
 ],
 "metadata": {
  "kernelspec": {
   "display_name": "Python 3",
   "language": "python",
   "name": "python3"
  },
  "language_info": {
   "codemirror_mode": {
    "name": "ipython",
    "version": 3
   },
   "file_extension": ".py",
   "mimetype": "text/x-python",
   "name": "python",
   "nbconvert_exporter": "python",
   "pygments_lexer": "ipython3",
   "version": "3.10.8"
  },
  "vscode": {
   "interpreter": {
    "hash": "aee8b7b246df8f9039afb4144a1f6fd8d2ca17a180786b69acc140d282b71a49"
   }
  }
 },
 "nbformat": 4,
 "nbformat_minor": 2
}
