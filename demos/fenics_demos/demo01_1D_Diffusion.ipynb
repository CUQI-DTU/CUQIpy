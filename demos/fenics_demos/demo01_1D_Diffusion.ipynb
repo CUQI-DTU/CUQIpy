{
 "cells": [
  {
   "cell_type": "markdown",
   "metadata": {},
   "source": [
    "# Introducing FEniCS PDE Support in CUQI \n",
    "\n",
    "Here we build a Bayesian problem to infer the conductivity (this is a simplification of one of the steps needed in solving Acousto-electric tomography [<sup>1</sup>](#fn1).).\n",
    "\n",
    "\n",
    "<span id=\"fn1\"><font size=\"1.5\"> 1. Li, C., Karamehmedović, M., Sherina, E., & Knudsen, K. (2021). Levenberg–Marquardt Algorithm for Acousto-Electric Tomography based on the Complete Electrode Model. Journal of Mathematical Imaging and Vision, 63(4), 492-502.</font></span>\n",
    "## Learning objectives of this notebook:\n",
    "- Load component of a FEniCS based testproblem\n",
    "- Build and solve the Bayesian problem\n",
    "- Explore the effect of changing observation operator"
   ]
  },
  {
   "cell_type": "markdown",
   "metadata": {},
   "source": [
    "## The forward model\n",
    "\n",
    "The PDE model we consider here is a 1D steady-state diffusion problem:\n",
    "\n",
    "$$ \\frac{d}{dx} \\left(\\theta(x) \\frac{d}{dx} u(x)\\right) = 0 \\in [0,L],$$\n",
    "\n",
    "$$u(0)=0, u(L)=8$$\n",
    "\n",
    "\n",
    "where $\\theta(x)$ is the conductivity, $u(x)$ is the PDE solution (potential) and $L$ is the domain length."
   ]
  },
  {
   "cell_type": "markdown",
   "metadata": {},
   "source": [
    "## The Bayesian parameters and the data\n",
    "\n",
    "The goal is to infer the conductivity profile $\\theta$ given observed data $d$ everywhere of the domain. These observation can be of the potential directly, i.e. $d=u$, or a function of the potential (e.g. power density,  $d=\\theta|\\nabla u|^2$ ). \n",
    "\n",
    "The data $d$ is then given by:\n",
    "\n",
    "$$ d = \\mathcal{G}(\\theta) + \\eta$$\n",
    "\n",
    "\n",
    "where $\\eta$ is the measurement noise and $\\mathcal{G}$ is the forward model operator which maps the source term to the observations. We model the prior on $\\theta$ as a Gaussian Markov Random Field and the noise as a Gaussian noise."
   ]
  },
  {
   "cell_type": "markdown",
   "metadata": {},
   "source": [
    "## The discretization \n",
    "\n",
    "We use finite element discretization of the model above where the solution and the parameters are approximated in a first order Lagrange polynomial space."
   ]
  },
  {
   "cell_type": "markdown",
   "metadata": {},
   "source": [
    "## The code\n",
    "\n",
    "To solve this problem using `cuqi.fenics` module, we need to perform the following steps:\n",
    "- Load the test problem components\n",
    "- Define the posterior and solve the inverse problem:\n",
    "    - Define the likelihood\n",
    "    - Define the prior\n",
    "    - Define the posterior\n",
    "    - Sample the posterior"
   ]
  },
  {
   "cell_type": "markdown",
   "metadata": {},
   "source": [
    "We start by importing the libraries we need"
   ]
  },
  {
   "cell_type": "code",
   "execution_count": null,
   "metadata": {},
   "outputs": [],
   "source": [
    "import sys\n",
    "import numpy as np\n",
    "import matplotlib.pyplot as plt\n",
    "sys.path.append(\"../../\")\n",
    "import cuqi"
   ]
  },
  {
   "cell_type": "markdown",
   "metadata": {},
   "source": [
    "###  Load the test problem components"
   ]
  },
  {
   "cell_type": "markdown",
   "metadata": {},
   "source": [
    "We set the problem parameters."
   ]
  },
  {
   "cell_type": "code",
   "execution_count": null,
   "metadata": {},
   "outputs": [],
   "source": [
    "mapping = 'exponential' # Parametrize the conductivity to ensure positivity\n",
    "dim = 30                 # Problem dimension\n",
    "L = 1                    # Domain length \n",
    "\n",
    "myExactSolution = 'smooth_step' # True solution choice\n",
    "observation_operator = None      # When observation operator is None, we observe the solution u directly\n",
    "SNR = 1000                     # signal to noise ratio"
   ]
  },
  {
   "cell_type": "markdown",
   "metadata": {},
   "source": [
    "We load the components of the test problem `cuqi.fenics.testproblem.FEniCSDiffusion1D`."
   ]
  },
  {
   "cell_type": "code",
   "execution_count": null,
   "metadata": {},
   "outputs": [],
   "source": [
    "model, data, problemInfo = \\\n",
    "    cuqi.fenics.testproblem.FEniCSDiffusion1D.get_components(dim=dim,\\\n",
    "                                                             exactSolution=myExactSolution,\\\n",
    "                                                             observation_operator=observation_operator,\\\n",
    "                                                             SNR=SNR,\\\n",
    "                                                             mapping=mapping,\\\n",
    "                                                             left_bc=1,\\\n",
    "                                                             right_bc=8,\\\n",
    "                                                             endpoint=L)"
   ]
  },
  {
   "cell_type": "markdown",
   "metadata": {},
   "source": [
    "Lets take a look at what we obtain from the test problem. We view the `model`:"
   ]
  },
  {
   "cell_type": "code",
   "execution_count": null,
   "metadata": {},
   "outputs": [],
   "source": [
    "model"
   ]
  },
  {
   "cell_type": "markdown",
   "metadata": {},
   "source": [
    "and the `model.pde`:"
   ]
  },
  {
   "cell_type": "code",
   "execution_count": null,
   "metadata": {},
   "outputs": [],
   "source": [
    "model.pde"
   ]
  },
  {
   "cell_type": "markdown",
   "metadata": {},
   "source": [
    "and explore a little bit more by looking at `model.pde` parameters and methods"
   ]
  },
  {
   "cell_type": "code",
   "execution_count": null,
   "metadata": {},
   "outputs": [],
   "source": [
    "vars(model.pde).keys() "
   ]
  },
  {
   "cell_type": "code",
   "execution_count": null,
   "metadata": {},
   "outputs": [],
   "source": [
    "help(model.pde)"
   ]
  },
  {
   "cell_type": "markdown",
   "metadata": {},
   "source": [
    "Lets look at the `problemInfo`:"
   ]
  },
  {
   "cell_type": "code",
   "execution_count": null,
   "metadata": {},
   "outputs": [],
   "source": [
    "problemInfo"
   ]
  },
  {
   "cell_type": "markdown",
   "metadata": {},
   "source": [
    "We now plot the exact data, noisy data and the exact solution: "
   ]
  },
  {
   "cell_type": "code",
   "execution_count": null,
   "metadata": {},
   "outputs": [],
   "source": [
    "model.range_geometry.plot(data,is_par=True, label='noisy data');\n",
    "model.range_geometry.plot(problemInfo.exactData,is_par=True, label='exact data');\n",
    "plt.legend();\n",
    "plt.figure();\n",
    "model.domain_geometry.plot(problemInfo.exactSolution,is_par=True, label='exact solution');\n",
    "plt.legend();"
   ]
  },
  {
   "cell_type": "markdown",
   "metadata": {},
   "source": [
    "### Define the posterior and solve the inverse problem:"
   ]
  },
  {
   "cell_type": "markdown",
   "metadata": {},
   "source": [
    "#### Define the likelihood"
   ]
  },
  {
   "cell_type": "code",
   "execution_count": null,
   "metadata": {},
   "outputs": [],
   "source": [
    "sigma = np.linalg.norm(problemInfo.exactData)/SNR \n",
    "likelihood = cuqi.distribution.GaussianCov(model, sigma**2*np.eye(model.range_dim)).to_likelihood(data)"
   ]
  },
  {
   "cell_type": "markdown",
   "metadata": {},
   "source": [
    "#### Define the prior\n"
   ]
  },
  {
   "cell_type": "code",
   "execution_count": null,
   "metadata": {},
   "outputs": [],
   "source": [
    "prior = cuqi.distribution.GMRF(np.zeros(model.domain_dim),25,1,'zero',\\\n",
    "                               geometry=model.domain_geometry)"
   ]
  },
  {
   "cell_type": "markdown",
   "metadata": {},
   "source": [
    "#### Define the posterior\n",
    "\n",
    "We define the posterior using the prior and the likelihood:"
   ]
  },
  {
   "cell_type": "code",
   "execution_count": null,
   "metadata": {},
   "outputs": [],
   "source": [
    "posterior = cuqi.distribution.Posterior(likelihood, prior)"
   ]
  },
  {
   "cell_type": "markdown",
   "metadata": {},
   "source": [
    "#### Sample the posterior\n",
    "\n",
    "We finally sample the posterior:"
   ]
  },
  {
   "cell_type": "code",
   "execution_count": null,
   "metadata": {},
   "outputs": [],
   "source": [
    "Ns = 5000\n",
    "np.random.seed(0)\n",
    "sampler = cuqi.sampler.pCN(posterior)\n",
    "samples = sampler.sample_adapt(Ns)"
   ]
  },
  {
   "cell_type": "markdown",
   "metadata": {},
   "source": [
    "And plot:"
   ]
  },
  {
   "cell_type": "code",
   "execution_count": null,
   "metadata": {},
   "outputs": [],
   "source": [
    "samples.plot_ci(95, plot_par=True, exact=problemInfo.exactSolution)\n",
    "plt.xticks(np.arange(prior.dim)[::5],['v'+str(i) for i in range(prior.dim)][::5]);"
   ]
  },
  {
   "cell_type": "markdown",
   "metadata": {},
   "source": [
    "Note that what we show in the plot above is the FEM coefficient $a_i$ where:\n",
    "\n",
    "<font size=\"4\">$$\\theta = e^{\\sum_i^\\texttt{prior.dim}a_i \\phi_i}$$</font>\n",
    "\n",
    "and $\\phi_i$ are the basis functions. In this case of approximating on first order Lagrange polynomial space, the coefficients are equal to the function values at the nodes.\n",
    "\n",
    "Let's look at the chains:"
   ]
  },
  {
   "cell_type": "code",
   "execution_count": null,
   "metadata": {},
   "outputs": [],
   "source": [
    "samples.plot_chain([1, 4, 15, 20, 30]);"
   ]
  },
  {
   "cell_type": "markdown",
   "metadata": {},
   "source": [
    "We can apply `burnthin` to remove the burn-in and plot the credibility interval again:"
   ]
  },
  {
   "cell_type": "code",
   "execution_count": null,
   "metadata": {},
   "outputs": [],
   "source": [
    "new_samples = samples.burnthin(500)\n",
    "new_samples.plot_ci(95,  plot_par=True, exact=problemInfo.exactSolution)\n",
    "plt.xticks(np.arange(prior.dim)[::5],['v'+str(i) for i in range(prior.dim)][::5]);"
   ]
  },
  {
   "cell_type": "markdown",
   "metadata": {},
   "source": [
    "### Explore the effect of changing observation operator\n",
    "\n",
    "* We can try observing the power density ($\\theta|\\nabla u|^2$) by setting `observation_operator='power_density'`"
   ]
  }
 ],
 "metadata": {
  "kernelspec": {
   "display_name": "Python 3",
   "language": "python",
   "name": "python3"
  },
  "language_info": {
   "codemirror_mode": {
    "name": "ipython",
    "version": 3
   },
   "file_extension": ".py",
   "mimetype": "text/x-python",
   "name": "python",
   "nbconvert_exporter": "python",
   "pygments_lexer": "ipython3",
   "version": "3.6.9"
  }
 },
 "nbformat": 4,
 "nbformat_minor": 2
}
