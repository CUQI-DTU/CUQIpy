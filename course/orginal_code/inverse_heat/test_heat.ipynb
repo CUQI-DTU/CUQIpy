{
 "cells": [
  {
   "cell_type": "code",
   "execution_count": null,
   "id": "ab964ca1",
   "metadata": {},
   "outputs": [],
   "source": [
    "import numpy as np\n",
    "import matplotlib.pyplot as plt\n",
    "import heat\n",
    "from mcmc import Random_Walk"
   ]
  },
  {
   "cell_type": "code",
   "execution_count": null,
   "id": "df8c75fb",
   "metadata": {},
   "outputs": [],
   "source": [
    "    N = 128\n",
    "    dx = np.pi/(N+1)\n",
    "    x = np.linspace(dx,np.pi,N,endpoint=False)\n",
    "    true_init = x*np.exp(-2*x)*np.sin(np.pi-x)\n",
    "    plt.plot(true_init)\n",
    "    plt.xlabel('x')\n",
    "    plt.ylabel('u')"
   ]
  },
  {
   "cell_type": "code",
   "execution_count": null,
   "id": "241557e9",
   "metadata": {},
   "outputs": [],
   "source": [
    "problem = heat.heat()\n",
    "problem.set_init_cond(true_init)\n",
    "problem.time_stepping()"
   ]
  },
  {
   "cell_type": "code",
   "execution_count": null,
   "id": "721db18a",
   "metadata": {},
   "outputs": [],
   "source": [
    "y_obs = problem.advance_with_init_cond(true_init)\n",
    "SNR = 100\n",
    "sigma = np.linalg.norm(y_obs)/SNR\n",
    "sigma2 = sigma*sigma"
   ]
  },
  {
   "cell_type": "code",
   "execution_count": null,
   "id": "f405b23b",
   "metadata": {},
   "outputs": [],
   "source": [
    "pi_like = lambda p: - ( 0.5*np.sum(  (problem.forward(p) - y_obs)**2)/sigma2)\n",
    "p0 = np.zeros(N)\n",
    "Ns = 10000\n",
    "Nb = 10\n",
    "RWM = Random_Walk(pi_like,p0)\n",
    "RWM.sample(Ns,Nb)"
   ]
  },
  {
   "cell_type": "code",
   "execution_count": null,
   "id": "3d71cc03",
   "metadata": {},
   "outputs": [],
   "source": [
    "RWM.print_stat()\n",
    "samples, target = RWM.give_stats()"
   ]
  },
  {
   "cell_type": "code",
   "execution_count": null,
   "id": "7d963cc6",
   "metadata": {},
   "outputs": [],
   "source": [
    "p_mean = np.mean(samples[300:,:],axis=0)\n",
    "field = heat.rand_field(N)\n",
    "field.set_params(p_mean)\n",
    "f = field.give_real_func()"
   ]
  },
  {
   "cell_type": "code",
   "execution_count": null,
   "id": "6ba189e0",
   "metadata": {},
   "outputs": [],
   "source": [
    "plt.plot(x,f,label=r'posterior mean',color=\"blue\",linewidth=2.)\n",
    "plt.plot(x,true_init,label=r'true initial condition',color=\"orange\",linewidth=2.)\n",
    "plt.legend()"
   ]
  },
  {
   "cell_type": "code",
   "execution_count": null,
   "id": "da8b975b",
   "metadata": {},
   "outputs": [],
   "source": []
  }
 ],
 "metadata": {
  "kernelspec": {
   "display_name": "Python 3 (ipykernel)",
   "language": "python",
   "name": "python3"
  },
  "language_info": {
   "codemirror_mode": {
    "name": "ipython",
    "version": 3
   },
   "file_extension": ".py",
   "mimetype": "text/x-python",
   "name": "python",
   "nbconvert_exporter": "python",
   "pygments_lexer": "ipython3",
   "version": "3.8.2"
  }
 },
 "nbformat": 4,
 "nbformat_minor": 5
}
