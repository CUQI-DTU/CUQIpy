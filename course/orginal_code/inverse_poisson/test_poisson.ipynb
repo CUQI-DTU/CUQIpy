{
 "cells": [
  {
   "cell_type": "code",
   "execution_count": null,
   "id": "28397c15",
   "metadata": {},
   "outputs": [],
   "source": [
    "import numpy as np\n",
    "import matplotlib.pyplot as plt\n",
    "import poisson_fd\n",
    "from mcmc import Random_Walk"
   ]
  },
  {
   "cell_type": "code",
   "execution_count": null,
   "id": "db785050",
   "metadata": {},
   "outputs": [],
   "source": [
    "N = 128\n",
    "dx = np.pi/N\n",
    "x = np.linspace(dx/2,np.pi-dx/2,N+1)\n",
    "true_alpha = np.exp( 5*x*np.exp(-2*x)*np.sin(np.pi-x) )\n",
    "plt.plot(x,true_alpha)\n",
    "plt.xlabel('x')\n",
    "plt.ylabel('u')"
   ]
  },
  {
   "cell_type": "code",
   "execution_count": null,
   "id": "f2effed3",
   "metadata": {},
   "outputs": [],
   "source": [
    "problem = poisson_fd.poisson(N)\n",
    "y_obs = problem.solve_with_conductivity(true_alpha)\n",
    "plt.plot(y_obs)"
   ]
  },
  {
   "cell_type": "code",
   "execution_count": null,
   "id": "27382994",
   "metadata": {},
   "outputs": [],
   "source": [
    "y_obs = problem.solve_with_conductivity(true_alpha)\n",
    "SNR = 100\n",
    "sigma = np.linalg.norm(y_obs)/SNR\n",
    "sigma2 = sigma*sigma"
   ]
  },
  {
   "cell_type": "code",
   "execution_count": null,
   "id": "5dbb5e2c",
   "metadata": {},
   "outputs": [],
   "source": [
    "pi_like = lambda p: - ( 0.5*np.sum(  (problem.forward(p) - y_obs)**2)/sigma2)\n",
    "p0 = np.zeros(N+1)\n",
    "Ns = 50000\n",
    "Nb = 10\n",
    "RWM = Random_Walk(pi_like,p0)\n",
    "RWM.sample(Ns,Nb)"
   ]
  },
  {
   "cell_type": "code",
   "execution_count": null,
   "id": "5da129d7",
   "metadata": {},
   "outputs": [],
   "source": [
    "RWM.print_stat()\n",
    "samples, target = RWM.give_stats()"
   ]
  },
  {
   "cell_type": "code",
   "execution_count": null,
   "id": "e7c9c5cb",
   "metadata": {},
   "outputs": [],
   "source": [
    "p_mean = np.mean(samples[300:,:],axis=0)\n",
    "field = poisson_fd.gauss_field(N)\n",
    "field.set_params(p_mean)\n",
    "f = field.give_real_func()"
   ]
  },
  {
   "cell_type": "code",
   "execution_count": null,
   "id": "8b42be15",
   "metadata": {},
   "outputs": [],
   "source": [
    "plt.plot(x,f,label=r'posterior mean',color=\"blue\",linewidth=2.)\n",
    "plt.plot(x,true_alpha,label=r'true initial condition',color=\"orange\",linewidth=2.)\n",
    "plt.legend()"
   ]
  },
  {
   "cell_type": "code",
   "execution_count": null,
   "id": "f00f6add",
   "metadata": {},
   "outputs": [],
   "source": []
  }
 ],
 "metadata": {
  "kernelspec": {
   "display_name": "Python 3 (ipykernel)",
   "language": "python",
   "name": "python3"
  },
  "language_info": {
   "codemirror_mode": {
    "name": "ipython",
    "version": 3
   },
   "file_extension": ".py",
   "mimetype": "text/x-python",
   "name": "python",
   "nbconvert_exporter": "python",
   "pygments_lexer": "ipython3",
   "version": "3.8.2"
  }
 },
 "nbformat": 4,
 "nbformat_minor": 5
}
