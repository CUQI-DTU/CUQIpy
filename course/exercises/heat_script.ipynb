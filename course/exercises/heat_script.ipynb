{
 "cells": [
  {
   "cell_type": "code",
   "execution_count": null,
   "id": "f99b3d93",
   "metadata": {},
   "outputs": [],
   "source": [
    "import numpy as np\n",
    "import matplotlib.pyplot as plt\n",
    "from scipy.fftpack import dst, idst\n",
    "import sys\n",
    "sys.path.append(\"../..\") \n",
    "import cuqi\n",
    "from heatmodel import heat"
   ]
  },
  {
   "cell_type": "code",
   "execution_count": null,
   "id": "6b94d3a3",
   "metadata": {},
   "outputs": [],
   "source": [
    "N = 128\n",
    "field_type = \"KL\"   # \"KL\" or \"Step\" "
   ]
  },
  {
   "cell_type": "code",
   "execution_count": null,
   "id": "322ba60f",
   "metadata": {},
   "outputs": [],
   "source": [
    "model = heat(N=N, field_type=field_type)\n",
    "if field_type==\"KL\":\n",
    "    x = model.grid\n",
    "    true_init = x*np.exp(-2*x)*np.sin(np.pi-x)\n",
    "else:\n",
    "    true_par = np.array([3,1,2])\n",
    "    true_init = model.domain_geometry.par2fun(true_par)"
   ]
  },
  {
   "cell_type": "code",
   "execution_count": null,
   "id": "43b4d5bd",
   "metadata": {},
   "outputs": [],
   "source": [
    "model.domain_geometry.plot(true_init, is_fun=True)\n",
    "plt.title(\"Initial\")"
   ]
  },
  {
   "cell_type": "code",
   "execution_count": null,
   "id": "e06d4426",
   "metadata": {},
   "outputs": [],
   "source": [
    "y_obs = model._advance_time(true_init, makeplot=True)"
   ]
  },
  {
   "cell_type": "code",
   "execution_count": null,
   "id": "d66a40bb",
   "metadata": {},
   "outputs": [],
   "source": [
    "model.domain_geometry.plot(y_obs, is_fun=True)\n",
    "plt.title(\"Observed\")"
   ]
  },
  {
   "cell_type": "code",
   "execution_count": null,
   "id": "a77642c3",
   "metadata": {},
   "outputs": [],
   "source": [
    "SNR = 100\n",
    "sigma = np.linalg.norm(y_obs)/SNR "
   ]
  },
  {
   "cell_type": "code",
   "execution_count": null,
   "id": "9af39c65",
   "metadata": {},
   "outputs": [],
   "source": [
    "likelihood = cuqi.distribution.Gaussian(model, sigma, np.eye(N))\n",
    "prior = cuqi.distribution.Gaussian(np.zeros((model.domain_dim,)), 1)\n",
    "IP = cuqi.problem.BayesianProblem(likelihood, prior, y_obs)"
   ]
  },
  {
   "cell_type": "code",
   "execution_count": null,
   "id": "91f11b87",
   "metadata": {},
   "outputs": [],
   "source": [
    "samples = IP.sample_posterior(5000)"
   ]
  },
  {
   "cell_type": "code",
   "execution_count": null,
   "id": "c8742869",
   "metadata": {},
   "outputs": [],
   "source": [
    "x_mean = np.mean(samples.samples, axis=-1)\n",
    "\n",
    "plt.figure()\n",
    "plt.plot(x_mean)\n",
    "plt.title(\"Posterior mean of parameters\")"
   ]
  },
  {
   "cell_type": "code",
   "execution_count": null,
   "id": "c3a292ab",
   "metadata": {},
   "outputs": [],
   "source": [
    "plt.figure()\n",
    "model.domain_geometry.plot(x_mean)\n",
    "model.domain_geometry.plot(true_init, is_fun=True)\n",
    "plt.legend([\"Sample mean\",\"True initial\"])\n",
    "plt.title(\"Posterior mean in function space\")"
   ]
  },
  {
   "cell_type": "code",
   "execution_count": null,
   "id": "4a044249",
   "metadata": {},
   "outputs": [],
   "source": []
  }
 ],
 "metadata": {
  "kernelspec": {
   "display_name": "Python 3 (ipykernel)",
   "language": "python",
   "name": "python3"
  },
  "language_info": {
   "codemirror_mode": {
    "name": "ipython",
    "version": 3
   },
   "file_extension": ".py",
   "mimetype": "text/x-python",
   "name": "python",
   "nbconvert_exporter": "python",
   "pygments_lexer": "ipython3",
   "version": "3.8.9"
  }
 },
 "nbformat": 4,
 "nbformat_minor": 5
}
