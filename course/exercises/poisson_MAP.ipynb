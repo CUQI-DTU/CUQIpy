{
 "cells": [
  {
   "cell_type": "code",
   "execution_count": null,
   "id": "2bcdef94",
   "metadata": {},
   "outputs": [],
   "source": [
    "import numpy as np\n",
    "import matplotlib.pyplot as plt\n",
    "from scipy.fftpack import dst, idst\n",
    "import sys\n",
    "sys.path.append(\"../..\") \n",
    "import cuqi\n",
    "from poissonmodel import poisson\n",
    "import scipy.optimize as opt"
   ]
  },
  {
   "cell_type": "code",
   "execution_count": null,
   "id": "e7ee6c7c",
   "metadata": {},
   "outputs": [],
   "source": [
    "N = 129 # number of spatial KL discretization \n",
    "dx = np.pi/N\n",
    "x = np.linspace(dx/2,np.pi-dx/2,N)\n",
    "true_alpha = np.exp( 5*x*np.exp(-2*x)*np.sin(np.pi-x) )"
   ]
  },
  {
   "cell_type": "code",
   "execution_count": null,
   "id": "822c3849",
   "metadata": {},
   "outputs": [],
   "source": [
    "model = poisson(N=N)\n",
    "y_exact = model.solve_with_conductivity(true_alpha)\n",
    "plt.plot(y_exact,label='exact signal')\n",
    "\n",
    "SNR = 100\n",
    "sigma = np.linalg.norm(y_exact)/SNR\n",
    "sigma2 = sigma*sigma\n",
    "\n",
    "y_obs = y_exact + np.random.normal(0,sigma,y_exact.shape)\n",
    "plt.plot(y_obs,label='noisy')\n",
    "plt.legend()"
   ]
  },
  {
   "cell_type": "code",
   "execution_count": null,
   "id": "36c4f0f7",
   "metadata": {},
   "outputs": [],
   "source": [
    "likelihood = lambda p: ( 0.5*np.sum(  (model.forward(p) - y_exact)**2)/sigma2)\n",
    "\n",
    "p0 = np.zeros(129)\n",
    "opt_data = opt.minimize( posterior, p0, method='BFGS' )\n",
    "ml_est = opt_data['x']\n",
    "\n",
    "posterior = lambda p: ( 0.5*np.sum(  (model.forward(p) - y_exact)**2)/sigma2) + ( 0.5*np.sum(p**2) )\n",
    "\n",
    "p0 = np.zeros(129)\n",
    "opt_data = opt.minimize( posterior, p0, method='BFGS' )\n",
    "map_est = opt_data['x']"
   ]
  },
  {
   "cell_type": "code",
   "execution_count": null,
   "id": "d4166800",
   "metadata": {},
   "outputs": [],
   "source": [
    "model.domain_geometry.plot( true_alpha, case='params' )\n",
    "model.domain_geometry.plot( ml_est, case='mapped'  )\n",
    "model.domain_geometry.plot( map_est, case='mapped' )"
   ]
  },
  {
   "cell_type": "code",
   "execution_count": null,
   "id": "02e29909",
   "metadata": {},
   "outputs": [],
   "source": [
    "likelihood = lambda p: ( 0.5*np.sum(  (model.forward(p) - y_obs)**2)/sigma2)\n",
    "\n",
    "p0 = np.zeros(129)\n",
    "opt_data = opt.minimize( posterior, p0, method='BFGS' )\n",
    "ml_est = opt_data['x']\n",
    "\n",
    "posterior = lambda p: ( 0.5*np.sum(  (model.forward(p) - y_obs)**2)/sigma2) + ( 0.5*np.sum(p**2) )\n",
    "\n",
    "p0 = np.zeros(129)\n",
    "opt_data = opt.minimize( posterior, p0, method='BFGS' )\n",
    "map_est = opt_data['x']"
   ]
  },
  {
   "cell_type": "code",
   "execution_count": null,
   "id": "6730f5b9",
   "metadata": {},
   "outputs": [],
   "source": [
    "model.domain_geometry.plot( true_alpha, case='params' )\n",
    "#model.domain_geometry.plot( ml_est, case='mapped'  )\n",
    "model.domain_geometry.plot( map_est, case='mapped' )"
   ]
  },
  {
   "cell_type": "code",
   "execution_count": null,
   "id": "38445d48",
   "metadata": {},
   "outputs": [],
   "source": []
  }
 ],
 "metadata": {
  "kernelspec": {
   "display_name": "Python 3 (ipykernel)",
   "language": "python",
   "name": "python3"
  },
  "language_info": {
   "codemirror_mode": {
    "name": "ipython",
    "version": 3
   },
   "file_extension": ".py",
   "mimetype": "text/x-python",
   "name": "python",
   "nbconvert_exporter": "python",
   "pygments_lexer": "ipython3",
   "version": "3.8.9"
  }
 },
 "nbformat": 4,
 "nbformat_minor": 5
}
