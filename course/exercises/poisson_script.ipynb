{
 "cells": [
  {
   "cell_type": "code",
   "execution_count": null,
   "id": "f36d2a4b",
   "metadata": {},
   "outputs": [],
   "source": [
    "import numpy as np\n",
    "import matplotlib.pyplot as plt\n",
    "from scipy.fftpack import dst, idst\n",
    "import sys\n",
    "sys.path.append(\"../..\") \n",
    "import cuqi\n",
    "from poissonmodel import poisson"
   ]
  },
  {
   "cell_type": "code",
   "execution_count": null,
   "id": "04fc8c4b",
   "metadata": {},
   "outputs": [],
   "source": [
    "N = 129 # number of spatial KL discretization \n",
    "dx = np.pi/N\n",
    "x = np.linspace(dx/2,np.pi-dx/2,N)\n",
    "true_alpha = np.exp( 5*x*np.exp(-2*x)*np.sin(np.pi-x) )"
   ]
  },
  {
   "cell_type": "code",
   "execution_count": null,
   "id": "3eea52b8",
   "metadata": {},
   "outputs": [],
   "source": [
    "model = poisson(N=N)\n",
    "y_obs = model.solve_with_conductivity(true_alpha) "
   ]
  },
  {
   "cell_type": "code",
   "execution_count": null,
   "id": "d10e6b9b",
   "metadata": {},
   "outputs": [],
   "source": [
    "SNR = 100 # signal to noise ratio\n",
    "sigma = np.linalg.norm(y_obs)/SNR\n",
    "sigma2 = sigma*sigma # variance of the observation Gaussian noise"
   ]
  },
  {
   "cell_type": "code",
   "execution_count": null,
   "id": "3fb1d275",
   "metadata": {},
   "outputs": [],
   "source": [
    "likelihood = cuqi.distribution.Gaussian(model,sigma,np.eye(N-1))\n",
    "prior = cuqi.distribution.Gaussian(np.zeros((N,)),1)\n",
    "IP = cuqi.problem.BayesianProblem(likelihood,prior,y_obs)"
   ]
  },
  {
   "cell_type": "code",
   "execution_count": null,
   "id": "45e733ff",
   "metadata": {},
   "outputs": [],
   "source": [
    "results = IP.sample_posterior(10000)"
   ]
  },
  {
   "cell_type": "code",
   "execution_count": null,
   "id": "65da7d13",
   "metadata": {},
   "outputs": [],
   "source": [
    "x_mean = np.mean(results.samples,axis=-1)\n",
    "plt.plot(x_mean)\n",
    "plt.title('Posterior mean of parameters')"
   ]
  },
  {
   "cell_type": "code",
   "execution_count": null,
   "id": "163104df",
   "metadata": {},
   "outputs": [],
   "source": [
    "model.domain_geometry.plot( x_mean, case=\"mapped\" )\n",
    "plt.title(\"Posterior mean\")\n",
    "plt.plot(x,true_alpha)"
   ]
  },
  {
   "cell_type": "code",
   "execution_count": null,
   "id": "8b982663",
   "metadata": {},
   "outputs": [],
   "source": []
  }
 ],
 "metadata": {
  "kernelspec": {
   "display_name": "Python 3 (ipykernel)",
   "language": "python",
   "name": "python3"
  },
  "language_info": {
   "codemirror_mode": {
    "name": "ipython",
    "version": 3
   },
   "file_extension": ".py",
   "mimetype": "text/x-python",
   "name": "python",
   "nbconvert_exporter": "python",
   "pygments_lexer": "ipython3",
   "version": "3.8.9"
  }
 },
 "nbformat": 4,
 "nbformat_minor": 5
}
