{
 "cells": [
  {
   "cell_type": "code",
   "execution_count": null,
   "id": "d6c00170",
   "metadata": {},
   "outputs": [],
   "source": [
    "import numpy as np\n",
    "import matplotlib.pyplot as plt\n",
    "from scipy.fftpack import dst, idst\n",
    "import sys\n",
    "sys.path.append(\"../..\") \n",
    "import cuqi\n",
    "from abelmodel import abel"
   ]
  },
  {
   "cell_type": "code",
   "execution_count": null,
   "id": "cc475437",
   "metadata": {},
   "outputs": [],
   "source": [
    "N = 128"
   ]
  },
  {
   "cell_type": "code",
   "execution_count": null,
   "id": "e4d8461a",
   "metadata": {},
   "outputs": [],
   "source": [
    "model = abel(N=N)\n",
    "tvec = model.tvec.reshape(-1)\n",
    "true_im = np.sin(tvec*np.pi)*np.exp(-2*tvec)\n",
    "model.domain_geometry.plot(true_im, case=\"params\")\n",
    "plt.title(\"Initial\")"
   ]
  },
  {
   "cell_type": "code",
   "execution_count": null,
   "id": "8c68a2ad",
   "metadata": {},
   "outputs": [],
   "source": [
    "y_obs = model.solve_with_image(true_im)\n",
    "model.domain_geometry.plot(y_obs, case=\"params\")\n",
    "plt.title(\"Observed\")"
   ]
  },
  {
   "cell_type": "code",
   "execution_count": null,
   "id": "f8893a35",
   "metadata": {},
   "outputs": [],
   "source": [
    "SNR = 100\n",
    "sigma = np.linalg.norm(y_obs)/SNR  "
   ]
  },
  {
   "cell_type": "code",
   "execution_count": null,
   "id": "932e872b",
   "metadata": {},
   "outputs": [],
   "source": [
    "likelihood = cuqi.distribution.Gaussian(model, sigma, np.eye(N))\n",
    "prior = cuqi.distribution.Gaussian(np.zeros((model.domain_dim,)), 1)\n",
    "IP = cuqi.problem.BayesianProblem(likelihood, prior, y_obs)"
   ]
  },
  {
   "cell_type": "code",
   "execution_count": null,
   "id": "015032f8",
   "metadata": {},
   "outputs": [],
   "source": [
    "results = IP.sample_posterior(5000)"
   ]
  },
  {
   "cell_type": "code",
   "execution_count": null,
   "id": "dd446787",
   "metadata": {},
   "outputs": [],
   "source": [
    "x_mean = np.mean(results.samples, axis=-1)"
   ]
  },
  {
   "cell_type": "code",
   "execution_count": null,
   "id": "a6303792",
   "metadata": {},
   "outputs": [],
   "source": [
    "plt.figure()\n",
    "plt.plot(x_mean)\n",
    "plt.title(\"Posterior mean of parameters\")"
   ]
  },
  {
   "cell_type": "code",
   "execution_count": null,
   "id": "056b88e0",
   "metadata": {},
   "outputs": [],
   "source": [
    "plt.figure()\n",
    "model.domain_geometry.plot(x_mean)\n",
    "model.domain_geometry.plot(true_im, case=\"params\")\n",
    "plt.legend([\"Sample mean\",\"True initial\"])\n",
    "plt.title(\"Posterior mean in function space\")"
   ]
  },
  {
   "cell_type": "code",
   "execution_count": null,
   "id": "87057f26",
   "metadata": {},
   "outputs": [],
   "source": []
  }
 ],
 "metadata": {
  "kernelspec": {
   "display_name": "Python 3 (ipykernel)",
   "language": "python",
   "name": "python3"
  },
  "language_info": {
   "codemirror_mode": {
    "name": "ipython",
    "version": 3
   },
   "file_extension": ".py",
   "mimetype": "text/x-python",
   "name": "python",
   "nbconvert_exporter": "python",
   "pygments_lexer": "ipython3",
   "version": "3.8.9"
  }
 },
 "nbformat": 4,
 "nbformat_minor": 5
}
