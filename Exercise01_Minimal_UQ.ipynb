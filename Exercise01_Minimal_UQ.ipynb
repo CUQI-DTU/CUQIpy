{
 "cells": [
  {
   "cell_type": "markdown",
   "metadata": {},
   "source": [
    "# Exercise 01:  Minimal high-level UQ example\n",
    "\n",
    "This notebook demonstrates high-level UQ with CUQIpy on a 1D Deconvolution test problem.\n",
    "\n",
    "## Learning objectives of this notebook:\n",
    "- Get acquainted with the CUQIpy components needed to specify a Bayesian inverse problem.\n",
    "- Run a high-level UQ analysis of an inverse problem.\n",
    "\n",
    "## Table of contents: \n",
    "* [1. Loading a test problem](#TestProblem)\n",
    "* [2. Specifying a Bayesian inverse problem ](#Bayesian)\n",
    "* [3. Changing the prior](#ChangingPrior)\n"
   ]
  },
  {
   "cell_type": "markdown",
   "metadata": {},
   "source": [
    "## 1. Loading a test problem  <a class=\"anchor\" id=\"TestProblem\"></a> "
   ]
  },
  {
   "cell_type": "markdown",
   "metadata": {},
   "source": [
    "First we import the python packages we need:"
   ]
  },
  {
   "cell_type": "code",
   "execution_count": null,
   "metadata": {},
   "outputs": [],
   "source": [
    "import numpy as np\n",
    "import matplotlib.pyplot as plt"
   ]
  },
  {
   "cell_type": "markdown",
   "metadata": {},
   "source": [
    "Then we import the functionality we need from CUQIpy:"
   ]
  },
  {
   "cell_type": "code",
   "execution_count": null,
   "metadata": {},
   "outputs": [],
   "source": [
    "from cuqi.distribution import Gaussian, Laplace_diff\n",
    "from cuqi.problem import BayesianProblem\n",
    "from cuqi.testproblem import Deconvolution"
   ]
  },
  {
   "cell_type": "markdown",
   "metadata": {},
   "source": [
    "We specify a small 1D deconvolution test problem:"
   ]
  },
  {
   "cell_type": "code",
   "execution_count": null,
   "metadata": {},
   "outputs": [],
   "source": [
    "n = 50\n",
    "\n",
    "model, data, probInfo = Deconvolution.get_components(dim=n, phantom=\"Square\")"
   ]
  },
  {
   "cell_type": "markdown",
   "metadata": {},
   "source": [
    "We take a look at the model and see that it is a CUQIpy LinearModel:"
   ]
  },
  {
   "cell_type": "code",
   "execution_count": null,
   "metadata": {},
   "outputs": [],
   "source": [
    "model"
   ]
  },
  {
   "cell_type": "markdown",
   "metadata": {},
   "source": [
    "We take a look at the data:"
   ]
  },
  {
   "cell_type": "code",
   "execution_count": null,
   "metadata": {},
   "outputs": [],
   "source": [
    "data"
   ]
  },
  {
   "cell_type": "markdown",
   "metadata": {},
   "source": [
    "The data is a `CUQIarray`, which is a normal NumPy array further equipped with a few utilities, such as Geometry, which allows us to do plotting conveniently:"
   ]
  },
  {
   "cell_type": "code",
   "execution_count": null,
   "metadata": {},
   "outputs": [],
   "source": [
    "data.plot()"
   ]
  },
  {
   "cell_type": "markdown",
   "metadata": {},
   "source": [
    "The last thing returned by the test problem was `probInfo` which contains additional information about the test problem, typically it includes the exact solution (phantom) and the exact data. We take a look at both:"
   ]
  },
  {
   "cell_type": "code",
   "execution_count": null,
   "metadata": {},
   "outputs": [],
   "source": [
    "probInfo['exactSolution'].plot()"
   ]
  },
  {
   "cell_type": "code",
   "execution_count": null,
   "metadata": {},
   "outputs": [],
   "source": [
    "probInfo['exactData'].plot()"
   ]
  },
  {
   "cell_type": "markdown",
   "metadata": {},
   "source": [
    "## 2. Specifying the Bayesian inverse problem  <a class=\"anchor\" id=\"Bayesian\"></a> "
   ]
  },
  {
   "cell_type": "markdown",
   "metadata": {},
   "source": [
    "The deconvolution test problem is a linear problem with additive noise:\n",
    "\n",
    "$$ \\mathbf{b} = \\mathbf{A}\\mathbf{x}+\\mathbf{e},$$\n",
    "where $\\mathbf{A}\\in\\mathbb{R}^{n\\times n}$, $\\mathbf{x}, \\mathbf{b}\\in\\mathbb{R}^n$ \n",
    "and \n",
    "$$\n",
    "\\mathbf{x}\\sim\\mathcal{N}(\\mathbf{0},\\sigma_x^2\\mathbf{I}_n), \\\\\n",
    "\\mathbf{e}\\sim\\mathcal{N}(\\mathbf{0},\\sigma_e^2\\mathbf{I}_n).$$"
   ]
  },
  {
   "cell_type": "markdown",
   "metadata": {},
   "source": [
    "We need three components to specify a Bayesian problem: The prior, the likelihood (or forward model including the noise model), and the data.\n",
    "\n",
    "The prior we specify as a simple IID Gaussian:"
   ]
  },
  {
   "cell_type": "code",
   "execution_count": null,
   "metadata": {},
   "outputs": [],
   "source": [
    "std_prior = 0.2\n",
    "prior = Gaussian(mean=np.zeros(n), std=std_prior, corrmat=np.eye(n))"
   ]
  },
  {
   "cell_type": "markdown",
   "metadata": {},
   "source": [
    "The noise is also Gaussian and combining with the model we specify this as the likelihood:"
   ]
  },
  {
   "cell_type": "code",
   "execution_count": null,
   "metadata": {},
   "outputs": [],
   "source": [
    "std_noise = 0.05\n",
    "likelihood = Gaussian(mean=model, std=std_noise, corrmat=np.eye(n))"
   ]
  },
  {
   "cell_type": "markdown",
   "metadata": {},
   "source": [
    "The prior, likelihood and the observed data are combined in a Bayesian inverse problem:"
   ]
  },
  {
   "cell_type": "code",
   "execution_count": null,
   "metadata": {},
   "outputs": [],
   "source": [
    "IP = BayesianProblem(likelihood, prior, data)"
   ]
  },
  {
   "cell_type": "markdown",
   "metadata": {},
   "source": [
    "The \"completely non-expert approach\" to solving (more detailed approaches described in later notebooks) is to simply run the UQ method:"
   ]
  },
  {
   "cell_type": "code",
   "execution_count": null,
   "metadata": {},
   "outputs": [],
   "source": [
    "IP.UQ()"
   ]
  },
  {
   "cell_type": "markdown",
   "metadata": {},
   "source": [
    "The `UQ` method looks at the components of the inverse problem, chooses a suitable sampler, samples the posterior and presents results visually."
   ]
  },
  {
   "cell_type": "markdown",
   "metadata": {},
   "source": [
    "To compare with the exact solution (if available) one can pass it as an input:"
   ]
  },
  {
   "cell_type": "code",
   "execution_count": null,
   "metadata": {},
   "outputs": [],
   "source": [
    "IP.UQ(exact=probInfo['exactSolution'])"
   ]
  },
  {
   "cell_type": "markdown",
   "metadata": {},
   "source": [
    "## 3. Changing the prior  <a class=\"anchor\" id=\"ChangingPrior\"></a> "
   ]
  },
  {
   "cell_type": "markdown",
   "metadata": {},
   "source": [
    "It is straightforward to change components of the BayesianProblem. For example if we want to experiment with a different prior we can easily swap it out.\n",
    "\n",
    "We specify a `Laplace_diff` prior, which is a Laplace distribution on differences between neighbouring function values:"
   ]
  },
  {
   "cell_type": "code",
   "execution_count": null,
   "metadata": {},
   "outputs": [],
   "source": [
    "prior_lap = Laplace_diff(location=np.zeros(n), scale=0.5/n, bc_type='zero')"
   ]
  },
  {
   "cell_type": "markdown",
   "metadata": {},
   "source": [
    "We update the prior of the inverse problem:"
   ]
  },
  {
   "cell_type": "code",
   "execution_count": null,
   "metadata": {},
   "outputs": [],
   "source": [
    "IP.prior = prior_lap"
   ]
  },
  {
   "cell_type": "markdown",
   "metadata": {},
   "source": [
    "And rerun the UQ method:"
   ]
  },
  {
   "cell_type": "code",
   "execution_count": null,
   "metadata": {},
   "outputs": [],
   "source": [
    "IP.UQ(exact=probInfo['exactSolution'])"
   ]
  },
  {
   "cell_type": "markdown",
   "metadata": {},
   "source": [
    "Note how a different sampler was chosen due to the change of prior, and how the prior has changed the solution to be more similar to the exact solution."
   ]
  },
  {
   "cell_type": "markdown",
   "metadata": {},
   "source": [
    "#### Try yourself (optional):  \n",
    "- Change phantom to another of the options provided by the TestProblem. Hint: use `help(Deconvolution)` to see which phantoms are available.\n",
    "- Play with the parameters of the Gaussian and Laplace priors to see if a better solution can be obtained."
   ]
  },
  {
   "cell_type": "code",
   "execution_count": null,
   "metadata": {},
   "outputs": [],
   "source": []
  }
 ],
 "metadata": {
  "interpreter": {
   "hash": "af8c7ced6989107a04bf48195960b118c1172bf8407da7d223c6108ef4cab56d"
  },
  "kernelspec": {
   "display_name": "Python 3",
   "language": "python",
   "name": "python3"
  },
  "language_info": {
   "codemirror_mode": {
    "name": "ipython",
    "version": 3
   },
   "file_extension": ".py",
   "mimetype": "text/x-python",
   "name": "python",
   "nbconvert_exporter": "python",
   "pygments_lexer": "ipython3",
   "version": "3.7.9"
  }
 },
 "nbformat": 4,
 "nbformat_minor": 2
}
