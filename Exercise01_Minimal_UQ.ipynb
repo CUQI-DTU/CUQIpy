{
 "cells": [
  {
   "cell_type": "markdown",
   "metadata": {},
   "source": [
    "# Exercise 01:  Minimal high-level UQ example\n",
    "\n",
    "In the following notebook ...\n",
    "\n",
    "## Learning objectives of this notebook:\n",
    "- Set up distributions in CUQIpy\n",
    "- Generate samples from distributions and inspect visually\n",
    "\n",
    "## Table of contents: \n",
    "* [1. Normal distribution (univariate)](#Normal)\n",
    "* [2. Multivariate distributions](#Multivariate)\n",
    "* [3. Geometry in distribution and Samples](#Geometry)\n",
    "* [4. Conditional distributions](#Conditional)\n",
    "* [5. Hierarchical Gibbs sampler](#Gibbs)\n",
    "\n",
    "References if any"
   ]
  },
  {
   "cell_type": "markdown",
   "metadata": {},
   "source": [
    "First we need to import cuqi"
   ]
  },
  {
   "cell_type": "code",
   "execution_count": null,
   "metadata": {},
   "outputs": [],
   "source": [
    "# %% Initialize and import CUQI\n",
    "import sys\n",
    "#sys.path.append(\"..\") \n",
    "import numpy as np\n",
    "import cuqi\n",
    "from cuqi.model import LinearModel\n",
    "from cuqi.distribution import Gaussian, Cauchy_diff\n",
    "from cuqi.problem import BayesianProblem"
   ]
  },
  {
   "cell_type": "code",
   "execution_count": null,
   "metadata": {},
   "outputs": [],
   "source": [
    "# %% Minimal example\n",
    "\n",
    "# Import data and forward matrix\n",
    "A      = np.load(\"data/Deconvolution.npz\")[\"A\"]          #Matrix (numpy)\n",
    "b      = np.load(\"data/Deconvolution.npz\")[\"data\"]       #Vector (numpy)\n",
    "m,n    = A.shape"
   ]
  },
  {
   "cell_type": "code",
   "execution_count": null,
   "metadata": {},
   "outputs": [],
   "source": [
    "cuqi.testproblem.Deconvolution.get_components"
   ]
  },
  {
   "cell_type": "code",
   "execution_count": null,
   "metadata": {},
   "outputs": [],
   "source": [
    "# Data from square function\n",
    "b = cuqi.testproblem.Deconvolution(phantom=\"square\").data\n",
    "x_exact = cuqi.testproblem.Deconvolution(phantom=\"square\").exactSolution"
   ]
  },
  {
   "cell_type": "code",
   "execution_count": null,
   "metadata": {},
   "outputs": [],
   "source": [
    "# Set up Bayesian model for inverse problem\n",
    "model      = LinearModel(A)                           #Model for inverse problem\n",
    "prior      = Gaussian(np.zeros(n),0.1)                #Prior distribution\n",
    "likelihood = Gaussian(model,0.05)                     #Likelihood distribution\n",
    "IP         = BayesianProblem(likelihood,prior,data=b) #Bayesian model for inverse problem\n",
    "IP.UQ(exact=x_exact)                                               #Perform UQ on inverse problem"
   ]
  },
  {
   "cell_type": "code",
   "execution_count": null,
   "metadata": {},
   "outputs": [],
   "source": [
    "# %%\n",
    "# Wrap into CUQI \"testproblem\".\n",
    "TP = cuqi.testproblem.Deconvolution(prior=prior)\n",
    "TP.UQ()"
   ]
  },
  {
   "cell_type": "code",
   "execution_count": null,
   "metadata": {},
   "outputs": [],
   "source": [
    "# %%\n",
    "# switch prior\n",
    "# Set up Bayesian model for inverse problem\n",
    "M  = LinearModel(forward=A)                                          #Model for inverse problem\n",
    "P  = Cauchy_diff(location=np.zeros(n),scale=0.05,bc_type='neumann')  #Prior distribution\n",
    "L  = Gaussian(mean=M,std=0.05)                                       #Likelihood distribution\n",
    "IP = BayesianProblem(likelihood=L,prior=P,data=b)                    #Bayesian model for inverse problem\n",
    "IP.UQ(exact=x_exact)                                                              #Perform UQ on inverse problem"
   ]
  },
  {
   "cell_type": "code",
   "execution_count": null,
   "metadata": {},
   "outputs": [],
   "source": [
    "# %%\n",
    "samples = IP.sample_posterior(50000)\n",
    "# %%\n",
    "samples.plot_ci(95,exact=x_exact)"
   ]
  },
  {
   "cell_type": "code",
   "execution_count": null,
   "metadata": {},
   "outputs": [],
   "source": [
    "# %%\n",
    "# Set up Bayesian model for inverse problem\n",
    "model      = LinearModel(A)                           #Model for inverse problem\n",
    "prior      = Cauchy_diff(np.zeros(n),0.05,'neumann')  #Prior distribution\n",
    "likelihood = Gaussian(model,0.05)                     #Likelihood distribution\n",
    "IP         = BayesianProblem(likelihood,prior,data=b) #Bayesian model for inverse problem\n",
    "IP.UQ()                                               #Perform UQ on inverse problem        "
   ]
  },
  {
   "cell_type": "code",
   "execution_count": null,
   "metadata": {},
   "outputs": [],
   "source": [
    "import sys\n",
    "import numpy as np\n",
    "import cuqi\n",
    "import matplotlib.pyplot as plt\n",
    "\n",
    "%load_ext autoreload\n",
    "%autoreload 2\n",
    "\n",
    "%matplotlib inline"
   ]
  },
  {
   "cell_type": "markdown",
   "metadata": {},
   "source": [
    "## 1. Normal distribution  (univariate)  <a class=\"anchor\" id=\"Normal\"></a> \n",
    "The first thing we can do is define a simple normal distribution of a single variable, e.g.,\n",
    "\n",
    "$$ X \\sim \\mathcal{N}(0,1^2) $$\n",
    "\n",
    "This is done using the following syntax:"
   ]
  },
  {
   "cell_type": "markdown",
   "metadata": {},
   "source": [
    "#### Try yourself (optional):  \n",
    " - Create a new random variable `Y` following a normal distribution with mean 2 and standard deviation 3.\n",
    " - Generate 100 samples and display a histogram.\n",
    " - Compare with the theoretical distribution by plotting the probability density function of `Y` on top of the histogram.\n",
    " - Increase the number of samples and (hopefully) see the histogram approach the theoretical PDF."
   ]
  },
  {
   "cell_type": "code",
   "execution_count": null,
   "metadata": {},
   "outputs": [],
   "source": [
    "# This is where you type the code:\n",
    "# \n"
   ]
  }
 ],
 "metadata": {
  "interpreter": {
   "hash": "af8c7ced6989107a04bf48195960b118c1172bf8407da7d223c6108ef4cab56d"
  },
  "kernelspec": {
   "display_name": "Python 3",
   "language": "python",
   "name": "python3"
  },
  "language_info": {
   "codemirror_mode": {
    "name": "ipython",
    "version": 3
   },
   "file_extension": ".py",
   "mimetype": "text/x-python",
   "name": "python",
   "nbconvert_exporter": "python",
   "pygments_lexer": "ipython3",
   "version": "3.7.9"
  }
 },
 "nbformat": 4,
 "nbformat_minor": 2
}
