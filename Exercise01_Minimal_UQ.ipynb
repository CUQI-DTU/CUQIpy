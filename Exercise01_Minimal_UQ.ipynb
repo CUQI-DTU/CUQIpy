{
 "cells": [
  {
   "cell_type": "markdown",
   "metadata": {},
   "source": [
    "# Exercise 01:  Minimal high-level UQ example\n",
    "\n",
    "This notebook demonstrates high-level UQ with CUQIpy on a 1D Deconvolution test problem.\n",
    "\n",
    "## Learning objectives of this notebook:\n",
    "- Get acquainted with the CUQIpy components needed to specify a Bayesian inverse problem.\n",
    "- Run a high-level UQ analysis of an inverse problem.\n",
    "\n",
    "## Table of contents: \n",
    "* [1. UQ in five lines!](#UQ5)\n",
    "* [2. Loading a test problem](#TestProblem)\n",
    "* [3. Specifying and solving a Bayesian inverse problem ](#Bayesian)\n",
    "* [4. Changing the prior ★](#ChangingPrior)"
   ]
  },
  {
   "cell_type": "markdown",
   "metadata": {},
   "source": [
    "First we import any python packages we need, here simply NumPy to handle array computations:"
   ]
  },
  {
   "cell_type": "code",
   "execution_count": null,
   "metadata": {},
   "outputs": [],
   "source": [
    "import numpy as np"
   ]
  },
  {
   "cell_type": "markdown",
   "metadata": {},
   "source": [
    "Then we import the functionality we need from CUQIpy:"
   ]
  },
  {
   "cell_type": "code",
   "execution_count": null,
   "metadata": {},
   "outputs": [],
   "source": [
    "from cuqi.distribution import Gaussian, Laplace_diff\n",
    "from cuqi.problem import BayesianProblem\n",
    "from cuqi.testproblem import Deconvolution1D"
   ]
  },
  {
   "cell_type": "markdown",
   "metadata": {},
   "source": [
    "## 1. UQ in five lines!   <a class=\"anchor\" id=\"UQ5\"></a> "
   ]
  },
  {
   "cell_type": "markdown",
   "metadata": {},
   "source": [
    "In just five lines of CUQIpy code we can:\n",
    "- load a forward model and data from a 1D deconvolution test problem,\n",
    "- specify a likelihood,\n",
    "- specify a prior,\n",
    "- formulate a Bayesian inverse problem, and\n",
    "- run a UQ analysis:"
   ]
  },
  {
   "cell_type": "code",
   "execution_count": null,
   "metadata": {},
   "outputs": [],
   "source": [
    "model, data, probInfo = Deconvolution1D.get_components(dim=50, phantom=\"Square\")\n",
    "likelihood = Gaussian(mean=model, std=0.05).to_likelihood(data)\n",
    "prior = Gaussian(mean=np.zeros(50), std=0.2)\n",
    "IP = BayesianProblem(likelihood, prior)\n",
    "IP.UQ(exact=probInfo.exactSolution)"
   ]
  },
  {
   "cell_type": "markdown",
   "metadata": {},
   "source": [
    "In the following sections of this notebook we break it down and take a slightly closer look at each step. The subsequent notebooks provide additional details."
   ]
  },
  {
   "cell_type": "markdown",
   "metadata": {},
   "source": [
    "## 2. Loading a test problem  <a class=\"anchor\" id=\"TestProblem\"></a> "
   ]
  },
  {
   "cell_type": "markdown",
   "metadata": {},
   "source": [
    "We specify a small 1D deconvolution test problem:"
   ]
  },
  {
   "cell_type": "code",
   "execution_count": null,
   "metadata": {},
   "outputs": [],
   "source": [
    "model, data, probInfo = Deconvolution1D.get_components(dim=50, phantom=\"Square\")"
   ]
  },
  {
   "cell_type": "markdown",
   "metadata": {},
   "source": [
    "Note that the test problem can be configured (e.g. other phantoms, noise types and level etc.) by means of the inputs, see `help(Deconvolution1D)` for details."
   ]
  },
  {
   "cell_type": "markdown",
   "metadata": {},
   "source": [
    "Also note that a total of 6 test problems are currently available:\n",
    "- `Deconvolution1D`: 1D periodic deconvolution problem.\n",
    "- `Deconv_1D`:  1D deconvolution problem.\n",
    "- `Heat_1D`:  Heat equation PDE problem.\n",
    "- `Poisson_1D`: Poisson equation PDE problem.\n",
    "- `Abel_1D`:  Abel equation PDE (1D rotationally symmetric CT) problem. \n",
    "- `ParBeamCT_2D`: 2D Computed Tomography problem using the ASTRA Tomography Toolbox\n",
    "\n",
    "These are imported as follows:"
   ]
  },
  {
   "cell_type": "code",
   "execution_count": null,
   "metadata": {},
   "outputs": [],
   "source": [
    "from cuqi.testproblem import Deconv_1D, Heat_1D, Poisson_1D, Abel_1D\n",
    "from cuqi.astra import ParBeamCT_2D"
   ]
  },
  {
   "cell_type": "markdown",
   "metadata": {},
   "source": [
    "and their calling signature is the same as for the `Deconvolution1D` problem, e.g. \n",
    "```\n",
    "model, data, probInfo = Heat_1D.get_components()\n",
    "```\n",
    "Input arguments vary and default values are provided if left empty. Calling help of each testproblem, e.g., `help(Heat_1D)` will describe the test problem and the inputs it accepts."
   ]
  },
  {
   "cell_type": "markdown",
   "metadata": {},
   "source": [
    "For now, proceeding with the `Deconvolution1D` test problem, we take a look at the model and see that it is a CUQIpy LinearModel:"
   ]
  },
  {
   "cell_type": "code",
   "execution_count": null,
   "metadata": {},
   "outputs": [],
   "source": [
    "model"
   ]
  },
  {
   "cell_type": "markdown",
   "metadata": {},
   "source": [
    "We take a look at the data:"
   ]
  },
  {
   "cell_type": "code",
   "execution_count": null,
   "metadata": {},
   "outputs": [],
   "source": [
    "data"
   ]
  },
  {
   "cell_type": "markdown",
   "metadata": {},
   "source": [
    "The data is a `CUQIarray`, which is a normal NumPy array further equipped with a few utilities, such as Geometry, which allows us to do plotting conveniently:"
   ]
  },
  {
   "cell_type": "code",
   "execution_count": null,
   "metadata": {},
   "outputs": [],
   "source": [
    "data.plot()"
   ]
  },
  {
   "cell_type": "markdown",
   "metadata": {},
   "source": [
    "The last thing returned by the test problem was `probInfo` which contains additional information about the test problem, typically it includes the exact solution (phantom) and the exact data. We take a look at both:"
   ]
  },
  {
   "cell_type": "code",
   "execution_count": null,
   "metadata": {},
   "outputs": [],
   "source": [
    "probInfo"
   ]
  },
  {
   "cell_type": "code",
   "execution_count": null,
   "metadata": {},
   "outputs": [],
   "source": [
    "probInfo.exactSolution.plot()"
   ]
  },
  {
   "cell_type": "code",
   "execution_count": null,
   "metadata": {},
   "outputs": [],
   "source": [
    "probInfo.exactData.plot()"
   ]
  },
  {
   "cell_type": "markdown",
   "metadata": {},
   "source": [
    "Since `CUQIarray` is a NumPy array (technically subclassed from NumPy ndarray), we can do all computations that NumPy admits and still get a `CUQIarray`, for example take the difference between the data and exact data and call the plot method:"
   ]
  },
  {
   "cell_type": "code",
   "execution_count": null,
   "metadata": {},
   "outputs": [],
   "source": [
    "(data-probInfo.exactData).plot()"
   ]
  },
  {
   "cell_type": "markdown",
   "metadata": {},
   "source": [
    "## 3. Specifying and solving a Bayesian inverse problem  <a class=\"anchor\" id=\"Bayesian\"></a> "
   ]
  },
  {
   "cell_type": "markdown",
   "metadata": {},
   "source": [
    "The deconvolution test problem is a linear problem with additive noise:\n",
    "\n",
    "$$ \\mathbf{b} = \\mathbf{A}\\mathbf{x}+\\mathbf{e},$$\n",
    "where $\\mathbf{A}\\in\\mathbb{R}^{n\\times n}$, $\\mathbf{x}, \\mathbf{b}\\in\\mathbb{R}^n$ \n",
    "and \n",
    "$$\n",
    "\\mathbf{x}\\sim\\mathcal{N}(\\mathbf{0},\\sigma_x^2\\mathbf{I}_n), \\\\\n",
    "\\mathbf{e}\\sim\\mathcal{N}(\\mathbf{0},\\sigma_e^2\\mathbf{I}_n).$$"
   ]
  },
  {
   "cell_type": "markdown",
   "metadata": {},
   "source": [
    "We need two components to specify a Bayesian problem: The prior and the likelihood.\n",
    "\n",
    "The prior we specify as a simple IID Gaussian, where the dimension is set to match that of the domain of the model:"
   ]
  },
  {
   "cell_type": "code",
   "execution_count": null,
   "metadata": {},
   "outputs": [],
   "source": [
    "std_prior = 0.2\n",
    "prior = Gaussian(mean=np.zeros(model.domain_dim), std=std_prior)"
   ]
  },
  {
   "cell_type": "markdown",
   "metadata": {},
   "source": [
    "The noise is also Gaussian. We can define the likelihood function by creating the Gaussian noise distribution with the model as mean and converting to a likelihood given the observed data:"
   ]
  },
  {
   "cell_type": "code",
   "execution_count": null,
   "metadata": {},
   "outputs": [],
   "source": [
    "std_noise = 0.05\n",
    "likelihood = Gaussian(mean=model, std=std_noise).to_likelihood(data)"
   ]
  },
  {
   "cell_type": "markdown",
   "metadata": {},
   "source": [
    "The prior, likelihood are combined in a Bayesian inverse problem:"
   ]
  },
  {
   "cell_type": "code",
   "execution_count": null,
   "metadata": {},
   "outputs": [],
   "source": [
    "IP = BayesianProblem(likelihood, prior)"
   ]
  },
  {
   "cell_type": "markdown",
   "metadata": {},
   "source": [
    "The \"completely non-expert approach\" to solving (more detailed approaches described in later notebooks) is to simply run the UQ method:"
   ]
  },
  {
   "cell_type": "code",
   "execution_count": null,
   "metadata": {},
   "outputs": [],
   "source": [
    "IP.UQ()"
   ]
  },
  {
   "cell_type": "markdown",
   "metadata": {},
   "source": [
    "The `UQ` method looks at the components of the inverse problem, chooses a suitable sampler, samples the posterior and presents results visually."
   ]
  },
  {
   "cell_type": "markdown",
   "metadata": {},
   "source": [
    "To compare with the exact solution (if available) one can pass it as an input:"
   ]
  },
  {
   "cell_type": "code",
   "execution_count": null,
   "metadata": {},
   "outputs": [],
   "source": [
    "IP.UQ(exact=probInfo.exactSolution)"
   ]
  },
  {
   "cell_type": "markdown",
   "metadata": {},
   "source": [
    "## 4. Changing the prior ★ <a class=\"anchor\" id=\"ChangingPrior\"></a> "
   ]
  },
  {
   "cell_type": "markdown",
   "metadata": {},
   "source": [
    "It is straightforward to change components of the BayesianProblem. For example if we want to experiment with a different prior we can easily swap it out.\n",
    "\n",
    "We specify a `Laplace_diff` prior, which is a Laplace distribution on differences between neighbouring function values:"
   ]
  },
  {
   "cell_type": "code",
   "execution_count": null,
   "metadata": {},
   "outputs": [],
   "source": [
    "prior_lap = Laplace_diff(location=np.zeros(model.domain_dim), scale=0.01, bc_type='zero')"
   ]
  },
  {
   "cell_type": "markdown",
   "metadata": {},
   "source": [
    "We update the prior of the inverse problem:"
   ]
  },
  {
   "cell_type": "code",
   "execution_count": null,
   "metadata": {},
   "outputs": [],
   "source": [
    "IP.prior = prior_lap"
   ]
  },
  {
   "cell_type": "markdown",
   "metadata": {},
   "source": [
    "And rerun the `UQ` method:"
   ]
  },
  {
   "cell_type": "code",
   "execution_count": null,
   "metadata": {},
   "outputs": [],
   "source": [
    "IP.UQ(exact=probInfo.exactSolution)"
   ]
  },
  {
   "cell_type": "markdown",
   "metadata": {},
   "source": [
    "Note how a different sampler was chosen due to the change of prior, and how the prior has changed the solution to be more similar to the exact solution."
   ]
  },
  {
   "cell_type": "markdown",
   "metadata": {},
   "source": [
    "#### Try yourself (optional):  \n",
    "- Change phantom to another of the options provided by the TestProblem. Hint: use `help(Deconvolution1D)` to see which phantoms are available.\n",
    "- Play with the parameters of the Gaussian and Laplace priors to see if a better solution can be obtained.\n",
    "- Try other test problems of your choice as described in Section 2 of the notebook."
   ]
  },
  {
   "cell_type": "code",
   "execution_count": null,
   "metadata": {},
   "outputs": [],
   "source": []
  }
 ],
 "metadata": {
  "interpreter": {
   "hash": "8a2a2a6f000eefafb6ab14e86e333a3522b00875ca02312d09d70808f888a31d"
  },
  "kernelspec": {
   "display_name": "Python 3.9 CUQI w. ASTRA",
   "language": "python",
   "name": "python3"
  },
  "language_info": {
   "codemirror_mode": {
    "name": "ipython",
    "version": 3
   },
   "file_extension": ".py",
   "mimetype": "text/x-python",
   "name": "python",
   "nbconvert_exporter": "python",
   "pygments_lexer": "ipython3",
   "version": "3.8.8"
  }
 },
 "nbformat": 4,
 "nbformat_minor": 2
}
