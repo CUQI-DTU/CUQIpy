{
 "cells": [
  {
   "cell_type": "markdown",
   "metadata": {},
   "source": [
    "# Exercise 01:  Minimal high-level UQ example\n",
    "\n",
    "In the following notebook ...\n",
    "\n",
    "## Learning objectives of this notebook:\n",
    "- Set up distributions in CUQIpy\n",
    "- Generate samples from distributions and inspect visually\n",
    "\n",
    "## Table of contents: \n",
    "* [1. Normal distribution (univariate)](#Normal)\n",
    "* [2. Multivariate distributions](#Multivariate)\n",
    "* [3. Geometry in distribution and Samples](#Geometry)\n",
    "* [4. Conditional distributions](#Conditional)\n",
    "* [5. Hierarchical Gibbs sampler](#Gibbs)\n",
    "\n",
    "References if any"
   ]
  },
  {
   "cell_type": "markdown",
   "metadata": {},
   "source": [
    "First we need to import cuqi"
   ]
  },
  {
   "cell_type": "code",
   "execution_count": null,
   "metadata": {},
   "outputs": [],
   "source": [
    "# TO FIX\n",
    "# exact solution and data of Deconvolution to be CUQIarray"
   ]
  },
  {
   "cell_type": "code",
   "execution_count": null,
   "metadata": {},
   "outputs": [],
   "source": [
    "import numpy as np\n",
    "import cuqi\n",
    "import matplotlib.pyplot as plt\n",
    "\n",
    "from cuqi.distribution import Gaussian, Laplace_diff\n",
    "from cuqi.problem import BayesianProblem\n",
    "from cuqi.testproblem import Deconvolution"
   ]
  },
  {
   "cell_type": "code",
   "execution_count": null,
   "metadata": {},
   "outputs": [],
   "source": [
    "dim = 50\n",
    "phantom = \"Square\""
   ]
  },
  {
   "cell_type": "code",
   "execution_count": null,
   "metadata": {},
   "outputs": [],
   "source": [
    "model, data, probInfo = Deconvolution.get_components(dim=dim, phantom=phantom)"
   ]
  },
  {
   "cell_type": "code",
   "execution_count": null,
   "metadata": {},
   "outputs": [],
   "source": [
    "data.plot()"
   ]
  },
  {
   "cell_type": "code",
   "execution_count": null,
   "metadata": {},
   "outputs": [],
   "source": [
    "probInfo"
   ]
  },
  {
   "cell_type": "code",
   "execution_count": null,
   "metadata": {},
   "outputs": [],
   "source": [
    "plt.plot(probInfo['exactData'])"
   ]
  },
  {
   "cell_type": "code",
   "execution_count": null,
   "metadata": {},
   "outputs": [],
   "source": [
    "plt.plot(probInfo['exactSolution'])"
   ]
  },
  {
   "cell_type": "code",
   "execution_count": null,
   "metadata": {},
   "outputs": [],
   "source": [
    "std_noise = 0.05\n",
    "likelihood = Gaussian(mean=model, std=std_noise, corrmat=np.eye(dim))"
   ]
  },
  {
   "cell_type": "code",
   "execution_count": null,
   "metadata": {},
   "outputs": [],
   "source": [
    "std_prior = 0.2\n",
    "prior = Gaussian(mean=np.zeros(dim), std=std_prior, corrmat=np.eye(dim))\n",
    "\n",
    "# Plot samples of prior\n",
    "#prior.sample(5).plot()\n",
    "#plt.title('Realizations from prior'); plt.show()"
   ]
  },
  {
   "cell_type": "code",
   "execution_count": null,
   "metadata": {},
   "outputs": [],
   "source": [
    "IP = BayesianProblem(likelihood, prior, data)"
   ]
  },
  {
   "cell_type": "code",
   "execution_count": null,
   "metadata": {},
   "outputs": [],
   "source": [
    "IP.UQ()"
   ]
  },
  {
   "cell_type": "code",
   "execution_count": null,
   "metadata": {},
   "outputs": [],
   "source": [
    "IP.UQ(exact=probInfo['exactSolution'])"
   ]
  },
  {
   "cell_type": "code",
   "execution_count": null,
   "metadata": {},
   "outputs": [],
   "source": [
    "# Set up Laplace prior\n",
    "prior_lap = Laplace_diff(location=np.zeros(dim), scale=0.5/dim, bc_type='zero')"
   ]
  },
  {
   "cell_type": "code",
   "execution_count": null,
   "metadata": {},
   "outputs": [],
   "source": [
    "IP.prior = prior_lap"
   ]
  },
  {
   "cell_type": "code",
   "execution_count": null,
   "metadata": {},
   "outputs": [],
   "source": [
    "IP.UQ(exact=probInfo['exactSolution'])"
   ]
  },
  {
   "cell_type": "code",
   "execution_count": null,
   "metadata": {},
   "outputs": [],
   "source": [
    "# Data from square function\n",
    "#b = cuqi.testproblem.Deconvolution(phantom=\"square\").data\n",
    "#x_exact = cuqi.testproblem.Deconvolution(phantom=\"square\").exactSolution"
   ]
  },
  {
   "cell_type": "markdown",
   "metadata": {},
   "source": [
    "## 1. Normal distribution  (univariate)  <a class=\"anchor\" id=\"Normal\"></a> \n",
    "The first thing we can do is define a simple normal distribution of a single variable, e.g.,\n",
    "\n",
    "$$ X \\sim \\mathcal{N}(0,1^2) $$\n",
    "\n",
    "This is done using the following syntax:"
   ]
  },
  {
   "cell_type": "markdown",
   "metadata": {},
   "source": [
    "#### Try yourself (optional):  \n",
    " - Create a new random variable `Y` following a normal distribution with mean 2 and standard deviation 3.\n",
    " - Generate 100 samples and display a histogram.\n",
    " - Compare with the theoretical distribution by plotting the probability density function of `Y` on top of the histogram.\n",
    " - Increase the number of samples and (hopefully) see the histogram approach the theoretical PDF."
   ]
  },
  {
   "cell_type": "code",
   "execution_count": null,
   "metadata": {},
   "outputs": [],
   "source": [
    "# This is where you type the code:\n",
    "# \n"
   ]
  }
 ],
 "metadata": {
  "interpreter": {
   "hash": "af8c7ced6989107a04bf48195960b118c1172bf8407da7d223c6108ef4cab56d"
  },
  "kernelspec": {
   "display_name": "Python 3",
   "language": "python",
   "name": "python3"
  },
  "language_info": {
   "codemirror_mode": {
    "name": "ipython",
    "version": 3
   },
   "file_extension": ".py",
   "mimetype": "text/x-python",
   "name": "python",
   "nbconvert_exporter": "python",
   "pygments_lexer": "ipython3",
   "version": "3.7.9"
  }
 },
 "nbformat": 4,
 "nbformat_minor": 2
}
