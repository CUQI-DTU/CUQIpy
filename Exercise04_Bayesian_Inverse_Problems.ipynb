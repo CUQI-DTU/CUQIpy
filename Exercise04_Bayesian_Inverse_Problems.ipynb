{
 "cells": [
  {
   "cell_type": "markdown",
   "metadata": {},
   "source": [
    "# Exercise 04: Bayesian Inverse Problems\n",
    "\n",
    "In this notebook we finally get started with Bayesian inverse problems. In particular, we see how to define likelihoods, priors and posteriors and how to sample them using CUQIpy.\n",
    "\n",
    "## Learning objectives\n",
    "* Define posterior distrubition in CUQIpy.\n",
    "* Compute estimates of posterior (ML, MAP).\n",
    "* Sample posterior with different samplers and compare results.\n",
    "* See how the high-level BayesianProblem essentially wraps the above points for convinience.\n",
    "\n",
    "## Table of contents\n",
    "* [1. Defining the posterior distribution](#posterior)\n",
    "* [2. Computing point estimates of posterior](#pointestimates)\n",
    "* [3. Posterior sampling](#sampling)\n",
    "* [4. Connection to BayesianProblem](#BayesianProbem)\n"
   ]
  },
  {
   "cell_type": "markdown",
   "metadata": {},
   "source": [
    "## 1. Defining the posterior distribution\n",
    "\n",
    "As before, we first import the packages we need"
   ]
  },
  {
   "cell_type": "code",
   "execution_count": null,
   "metadata": {},
   "outputs": [],
   "source": [
    "import numpy as np\n",
    "import cuqi\n",
    "\n",
    "%load_ext autoreload\n",
    "%autoreload 2"
   ]
  },
  {
   "cell_type": "markdown",
   "metadata": {},
   "source": [
    "### Model and data\n",
    "For this example let us revisit the Deconvolution testproblem and extract a CUQIpy model and some data. Similar to earlier, we can also get additional information from the 3rd output argument (probInfo)."
   ]
  },
  {
   "cell_type": "code",
   "execution_count": null,
   "metadata": {},
   "outputs": [],
   "source": [
    "model, data, probInfo = cuqi.testproblem.Deconvolution.get_components()\n",
    "n = model.range_dim\n",
    "probInfo"
   ]
  },
  {
   "cell_type": "markdown",
   "metadata": {},
   "source": [
    "### Likelihood\n",
    "From the problem info string above, we see that the noise is additive Gaussian. Hence, we need to define a Gaussian likelihood, with the model as mean. This is easily done as follows."
   ]
  },
  {
   "cell_type": "code",
   "execution_count": null,
   "metadata": {},
   "outputs": [],
   "source": [
    "likelihood = cuqi.distribution.Gaussian(model,0.05)"
   ]
  },
  {
   "cell_type": "markdown",
   "metadata": {},
   "source": [
    "Note in particular that likelihood is a conditional distribution. Conditional on the input parameter to the model (in this case x). This can be seen by checking"
   ]
  },
  {
   "cell_type": "code",
   "execution_count": null,
   "metadata": {},
   "outputs": [],
   "source": [
    "likelihood.get_conditioning_variables()"
   ]
  },
  {
   "cell_type": "markdown",
   "metadata": {},
   "source": [
    "#### Try yourself (optional):  \n",
    "Try computing some relalizations of the noise. \n",
    "\n",
    "**Hint:** What is $\\mathbf{x}$ if we are only interested in the noise?"
   ]
  },
  {
   "cell_type": "code",
   "execution_count": null,
   "metadata": {},
   "outputs": [],
   "source": [
    "# This is where you type the code:\n",
    "\n",
    "\n"
   ]
  },
  {
   "cell_type": "markdown",
   "metadata": {},
   "source": [
    "### Prior\n",
    "\n",
    "In this case, let us assume the ground truth is well-represented by a Gaussian distrubiton. Hence we can define a Gaussian CUQIpy distrubiton as the prior."
   ]
  },
  {
   "cell_type": "code",
   "execution_count": null,
   "metadata": {},
   "outputs": [],
   "source": [
    "prior = cuqi.distribution.Gaussian(np.zeros(n),0.1)"
   ]
  },
  {
   "cell_type": "markdown",
   "metadata": {},
   "source": [
    "### Combine into posterior\n",
    "Once we have the likelihood, prior and an observed set of data we can define the posterior distribution"
   ]
  },
  {
   "cell_type": "code",
   "execution_count": null,
   "metadata": {},
   "outputs": [],
   "source": [
    "posterior = cuqi.distribution.Posterior(likelihood,prior,data)"
   ]
  },
  {
   "cell_type": "markdown",
   "metadata": {},
   "source": [
    "## ML estimation"
   ]
  },
  {
   "cell_type": "code",
   "execution_count": null,
   "metadata": {},
   "outputs": [],
   "source": [
    "help(posterior.loglikelihood_function)"
   ]
  },
  {
   "cell_type": "code",
   "execution_count": null,
   "metadata": {},
   "outputs": [],
   "source": [
    "solver_ML = cuqi.solver.maximize(posterior.loglikelihood_function,np.zeros(n))\n",
    "x_ML, info = solver_ML.solve()"
   ]
  },
  {
   "cell_type": "code",
   "execution_count": null,
   "metadata": {},
   "outputs": [],
   "source": [
    "x_ML = cuqi.samples.CUQIarray(x_ML,geometry=cuqi.geometry.Continuous1D(n))\n",
    "x_ML.plot()"
   ]
  },
  {
   "cell_type": "markdown",
   "metadata": {},
   "source": [
    "## MAP estimation"
   ]
  },
  {
   "cell_type": "code",
   "execution_count": null,
   "metadata": {},
   "outputs": [],
   "source": [
    "MAP = cuqi.solver.maximize(posterior.logpdf,np.zeros(n))\n",
    "x_map,info = MAP.solve()\n",
    "x_map = cuqi.samples.CUQIarray(x_map,geometry=cuqi.geometry.Continuous1D(n))\n",
    "x_map.plot()"
   ]
  },
  {
   "cell_type": "markdown",
   "metadata": {},
   "source": [
    "## Posterior sampling"
   ]
  },
  {
   "cell_type": "code",
   "execution_count": null,
   "metadata": {},
   "outputs": [],
   "source": [
    "sampler = cuqi.sampler.pCN(posterior,scale=0.1)\n",
    "samples,_,_ = sampler.sample_adapt(10000,0)"
   ]
  },
  {
   "cell_type": "code",
   "execution_count": null,
   "metadata": {},
   "outputs": [],
   "source": [
    "samples.plot_chain(60)"
   ]
  },
  {
   "cell_type": "code",
   "execution_count": null,
   "metadata": {},
   "outputs": [],
   "source": [
    "samples.burnthin(6000,5).plot_ci(95)"
   ]
  },
  {
   "cell_type": "markdown",
   "metadata": {},
   "source": [
    "## Posterior sampling (another better sampler)"
   ]
  },
  {
   "cell_type": "code",
   "execution_count": null,
   "metadata": {},
   "outputs": [],
   "source": [
    "sampler = cuqi.sampler.Linear_RTO(likelihood,prior,model,data,np.zeros(n))\n",
    "samples = sampler.sample(10000,0)"
   ]
  },
  {
   "cell_type": "code",
   "execution_count": null,
   "metadata": {},
   "outputs": [],
   "source": [
    "samples.plot_chain(60)"
   ]
  },
  {
   "cell_type": "code",
   "execution_count": null,
   "metadata": {},
   "outputs": [],
   "source": [
    "samples.burnthin(1000).plot_ci(95)"
   ]
  },
  {
   "cell_type": "markdown",
   "metadata": {},
   "source": [
    "## Using geometries to parametrize x and improve pCN sampling result."
   ]
  },
  {
   "cell_type": "markdown",
   "metadata": {},
   "source": [
    "## High-level interface"
   ]
  },
  {
   "cell_type": "code",
   "execution_count": null,
   "metadata": {},
   "outputs": [],
   "source": [
    "BP = cuqi.problem.BayesianProblem(likelihood,prior,data)"
   ]
  },
  {
   "cell_type": "code",
   "execution_count": null,
   "metadata": {},
   "outputs": [],
   "source": [
    "samples = BP.sample_posterior(5000)"
   ]
  },
  {
   "cell_type": "code",
   "execution_count": null,
   "metadata": {},
   "outputs": [],
   "source": [
    "samples.plot_ci(95,exact=probInfo.exactSolution)"
   ]
  },
  {
   "cell_type": "code",
   "execution_count": null,
   "metadata": {},
   "outputs": [],
   "source": [
    "x_sol = BP.ML()[0]\n",
    "x_sol = cuqi.samples.CUQIarray(x_sol,geometry=cuqi.geometry.Continuous1D(n))\n",
    "x_sol.plot()"
   ]
  },
  {
   "cell_type": "code",
   "execution_count": null,
   "metadata": {},
   "outputs": [],
   "source": [
    "x_map = BP.MAP()\n",
    "x_map.plot()"
   ]
  },
  {
   "cell_type": "code",
   "execution_count": null,
   "metadata": {},
   "outputs": [],
   "source": []
  }
 ],
 "metadata": {
  "kernelspec": {
   "display_name": "Python 3",
   "language": "python",
   "name": "python3"
  },
  "language_info": {
   "codemirror_mode": {
    "name": "ipython",
    "version": 3
   },
   "file_extension": ".py",
   "mimetype": "text/x-python",
   "name": "python",
   "nbconvert_exporter": "python",
   "pygments_lexer": "ipython3",
   "version": "3.8.5"
  }
 },
 "nbformat": 4,
 "nbformat_minor": 5
}
