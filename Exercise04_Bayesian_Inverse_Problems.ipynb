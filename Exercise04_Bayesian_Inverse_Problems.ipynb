{
 "cells": [
  {
   "cell_type": "markdown",
   "id": "dac68039",
   "metadata": {},
   "source": [
    "# Exercise 04: Bayesian Inverse Problems\n",
    "\n",
    "In the following notebook ...\n",
    "\n",
    "## Learning objectives\n",
    "* ...\n",
    "\n",
    "## Table of contents\n",
    "* ...\n",
    "\n",
    "References if any.."
   ]
  },
  {
   "cell_type": "code",
   "execution_count": null,
   "id": "86b7bab9",
   "metadata": {},
   "outputs": [],
   "source": [
    "import numpy as np\n",
    "import cuqi\n",
    "\n",
    "%load_ext autoreload\n",
    "%autoreload 2"
   ]
  },
  {
   "cell_type": "code",
   "execution_count": null,
   "id": "fa123540",
   "metadata": {},
   "outputs": [],
   "source": [
    "model, data, probInfo = cuqi.testproblem.Deconvolution.get_components()\n",
    "n = model.range_dim\n",
    "probInfo"
   ]
  },
  {
   "cell_type": "code",
   "execution_count": null,
   "id": "1b1a45e6",
   "metadata": {},
   "outputs": [],
   "source": [
    "likelihood = cuqi.distribution.Gaussian(model,0.05)"
   ]
  },
  {
   "cell_type": "markdown",
   "id": "bba90c84",
   "metadata": {},
   "source": [
    "## ML estimation"
   ]
  },
  {
   "cell_type": "code",
   "execution_count": null,
   "id": "339dbb6f",
   "metadata": {},
   "outputs": [],
   "source": [
    "def likelihood_function(x):\n",
    "    return -likelihood(x=x).logpdf(data)\n",
    "\n",
    "ML = cuqi.solver.minimize(likelihood_function,np.zeros(n))\n",
    "x_sol = ML.solve()[0]\n",
    "x_sol = cuqi.samples.CUQIarray(x_sol,geometry=cuqi.geometry.Continuous1D(n))\n",
    "x_sol.plot()"
   ]
  },
  {
   "cell_type": "markdown",
   "id": "f6d76a7d",
   "metadata": {},
   "source": [
    "## MAP estimation"
   ]
  },
  {
   "cell_type": "code",
   "execution_count": null,
   "id": "cb233e2d",
   "metadata": {},
   "outputs": [],
   "source": [
    "#prior = cuqi.distribution.Gaussian(np.zeros(n),0.1)\n",
    "prior = cuqi.distribution.Gaussian(np.zeros(n),0.1*np.ones(n))"
   ]
  },
  {
   "cell_type": "code",
   "execution_count": null,
   "id": "98f584d0",
   "metadata": {},
   "outputs": [],
   "source": [
    "def posterior_function(x):\n",
    "    return -likelihood(x=x).logpdf(data)-prior.logpdf(x)\n",
    "\n",
    "MAP = cuqi.solver.minimize(posterior_function,np.zeros(n))\n",
    "x_map = MAP.solve()[0]\n",
    "x_map = cuqi.samples.CUQIarray(x_map,geometry=cuqi.geometry.Continuous1D(n))\n",
    "x_map.plot()"
   ]
  },
  {
   "cell_type": "markdown",
   "id": "2c30010a",
   "metadata": {},
   "source": [
    "## Posterior sampling"
   ]
  },
  {
   "cell_type": "code",
   "execution_count": null,
   "id": "16ced203",
   "metadata": {},
   "outputs": [],
   "source": [
    "post = cuqi.distribution.Posterior(likelihood,prior,data)"
   ]
  },
  {
   "cell_type": "code",
   "execution_count": null,
   "id": "4777cee2",
   "metadata": {},
   "outputs": [],
   "source": [
    "sampler = cuqi.sampler.pCN(post,scale=0.1)\n",
    "samples,_,_ = sampler.sample_adapt(10000,0)"
   ]
  },
  {
   "cell_type": "code",
   "execution_count": null,
   "id": "81216a82",
   "metadata": {},
   "outputs": [],
   "source": [
    "samples.plot_chain(60)"
   ]
  },
  {
   "cell_type": "code",
   "execution_count": null,
   "id": "4ecfd031",
   "metadata": {},
   "outputs": [],
   "source": [
    "samples.burnthin(6000,5).plot_ci(95)"
   ]
  },
  {
   "cell_type": "markdown",
   "id": "2408be8a",
   "metadata": {},
   "source": [
    "## Posterior sampling (another better sampler)"
   ]
  },
  {
   "cell_type": "code",
   "execution_count": null,
   "id": "7ba47cf8",
   "metadata": {},
   "outputs": [],
   "source": [
    "sampler = cuqi.sampler.Linear_RTO(likelihood,prior,model,data,np.zeros(n))\n",
    "samples = sampler.sample(10000,0)"
   ]
  },
  {
   "cell_type": "code",
   "execution_count": null,
   "id": "5fa7fd30",
   "metadata": {},
   "outputs": [],
   "source": [
    "samples.plot_chain(60)"
   ]
  },
  {
   "cell_type": "code",
   "execution_count": null,
   "id": "35c98850",
   "metadata": {},
   "outputs": [],
   "source": [
    "samples.burnthin(1000).plot_ci(95)"
   ]
  },
  {
   "cell_type": "markdown",
   "id": "08606232",
   "metadata": {},
   "source": [
    "## High-level interface"
   ]
  },
  {
   "cell_type": "code",
   "execution_count": null,
   "id": "b8482c7f",
   "metadata": {},
   "outputs": [],
   "source": [
    "BP = cuqi.problem.BayesianProblem(likelihood,prior,data)"
   ]
  },
  {
   "cell_type": "code",
   "execution_count": null,
   "id": "5596b9ae",
   "metadata": {},
   "outputs": [],
   "source": [
    "samples = BP.sample_posterior(5000)"
   ]
  },
  {
   "cell_type": "code",
   "execution_count": null,
   "id": "93516724",
   "metadata": {},
   "outputs": [],
   "source": [
    "samples.plot_ci(95,exact=probInfo.exactSolution)"
   ]
  },
  {
   "cell_type": "code",
   "execution_count": null,
   "id": "1c78c384",
   "metadata": {},
   "outputs": [],
   "source": [
    "x_sol = BP.ML()[0]\n",
    "x_sol = cuqi.samples.CUQIarray(x_sol,geometry=cuqi.geometry.Continuous1D(n))\n",
    "x_sol.plot()"
   ]
  },
  {
   "cell_type": "code",
   "execution_count": null,
   "id": "9f32e753",
   "metadata": {},
   "outputs": [],
   "source": [
    "x_map = BP.MAP()\n",
    "x_map.plot()"
   ]
  },
  {
   "cell_type": "code",
   "execution_count": null,
   "id": "00f0978a",
   "metadata": {},
   "outputs": [],
   "source": []
  }
 ],
 "metadata": {
  "kernelspec": {
   "display_name": "Python 3",
   "language": "python",
   "name": "python3"
  },
  "language_info": {
   "codemirror_mode": {
    "name": "ipython",
    "version": 3
   },
   "file_extension": ".py",
   "mimetype": "text/x-python",
   "name": "python",
   "nbconvert_exporter": "python",
   "pygments_lexer": "ipython3",
   "version": "3.8.8"
  }
 },
 "nbformat": 4,
 "nbformat_minor": 5
}
