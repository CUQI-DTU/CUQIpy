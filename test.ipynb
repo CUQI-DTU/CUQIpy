{
 "cells": [
  {
   "cell_type": "code",
   "execution_count": 1,
   "metadata": {},
   "outputs": [
    {
     "name": "stdout",
     "output_type": "stream",
     "text": [
      "[-3.99513417e-03 -1.32339656e-01 -4.52822633e-02 -7.44973888e-02\n",
      " -3.35005208e-11]\n"
     ]
    }
   ],
   "source": [
    "import numpy as np\n",
    "import scipy as sp\n",
    "\n",
    "from cuqi.solver import CGLS, LM, FISTA, ADMM, ProximalL1, ProjectNonnegative\n",
    "from scipy.optimize import lsq_linear\n",
    "\n",
    "\n",
    "def test_ADMM_matrix_form():\n",
    "    # Parameters\n",
    "    rng = np.random.default_rng(seed = 42)\n",
    "    m, n = 10, 5\n",
    "    A = rng.standard_normal((m, n))\n",
    "    b = rng.standard_normal(m)\n",
    "    \n",
    "    k = 4\n",
    "    L = rng.standard_normal((k, n))\n",
    "\n",
    "    x0 = np.zeros(n)\n",
    "    sol, _ = ADMM(A, b, [(ProximalL1, np.eye(n)), (lambda z, _ : ProjectNonnegative(z), L)],\n",
    "                   x0, 10, maxit = 100, adaptive = True).solve()\n",
    "\n",
    "    print(sol)\n",
    "    ref_sol = np.array([-3.99513417e-03, -1.32339656e-01, -4.52822633e-02, -7.44973888e-02, -3.35005208e-11])\n",
    "    # Compare\n",
    "    assert np.allclose(sol, ref_sol, atol=1e-4)\n",
    "\n",
    "test_ADMM_matrix_form()"
   ]
  },
  {
   "cell_type": "code",
   "execution_count": 2,
   "metadata": {},
   "outputs": [
    {
     "name": "stdout",
     "output_type": "stream",
     "text": [
      "[-3.99513417e-03 -1.32339656e-01 -4.52822633e-02 -7.44973888e-02\n",
      " -3.35005152e-11]\n"
     ]
    }
   ],
   "source": [
    "\n",
    "\n",
    "def test_ADMM_function_form():\n",
    "    # Parameters\n",
    "    rng = np.random.default_rng(seed = 42)\n",
    "    m, n = 10, 5\n",
    "    A = rng.standard_normal((m, n))\n",
    "    def A_fun(x, flag):\n",
    "        if flag == 1:\n",
    "            return A@x\n",
    "        if flag == 2:\n",
    "            return A.T@x\n",
    "        \n",
    "    b = rng.standard_normal(m)\n",
    "    \n",
    "    k = 4\n",
    "    L = rng.standard_normal((k, n))\n",
    "\n",
    "    x0 = np.zeros(n)\n",
    "    sol, _ = ADMM(A_fun, b, [(ProximalL1, np.eye(n)), (lambda z, _ : ProjectNonnegative(z), L)],\n",
    "                   x0, 10, maxit = 100, adaptive = True).solve()\n",
    "\n",
    "    print(sol)\n",
    "    ref_sol = np.array([-3.99513417e-03, -1.32339656e-01, -4.52822633e-02, -7.44973888e-02, -3.35005208e-11])\n",
    "    # Compare\n",
    "    assert np.allclose(sol, ref_sol, atol=1e-4)\n",
    "\n",
    "test_ADMM_function_form()"
   ]
  },
  {
   "cell_type": "code",
   "execution_count": 3,
   "metadata": {},
   "outputs": [
    {
     "name": "stdout",
     "output_type": "stream",
     "text": [
      "[-3.99513417e-03 -1.32339656e-01 -4.52822633e-02 -7.44973888e-02\n",
      " -3.35005208e-11]\n"
     ]
    }
   ],
   "source": [
    "\n",
    "# Parameters\n",
    "rng = np.random.default_rng(seed = 42)\n",
    "m, n = 10, 5\n",
    "A = rng.standard_normal((m, n))\n",
    "b = rng.standard_normal(m)\n",
    "    \n",
    "k = 4\n",
    "L = rng.standard_normal((k, n))\n",
    "\n",
    "x0 = np.zeros(n)\n",
    "sol, _ = ADMM(A, b, [(ProximalL1, np.eye(n)), (lambda z, _ : ProjectNonnegative(z), L)],\n",
    "                   x0, 10, maxit = 100, adaptive = False).solve()\n",
    "\n",
    "print(sol)"
   ]
  },
  {
   "cell_type": "code",
   "execution_count": null,
   "metadata": {},
   "outputs": [],
   "source": []
  }
 ],
 "metadata": {
  "kernelspec": {
   "display_name": "base",
   "language": "python",
   "name": "python3"
  },
  "language_info": {
   "codemirror_mode": {
    "name": "ipython",
    "version": 3
   },
   "file_extension": ".py",
   "mimetype": "text/x-python",
   "name": "python",
   "nbconvert_exporter": "python",
   "pygments_lexer": "ipython3",
   "version": "3.11.9"
  }
 },
 "nbformat": 4,
 "nbformat_minor": 2
}
