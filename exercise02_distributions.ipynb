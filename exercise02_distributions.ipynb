{
 "cells": [
  {
   "cell_type": "markdown",
   "metadata": {},
   "source": [
    "# Exercise 02:  Introduction to distributions and basic sampling in CUQIpy\n",
    "\n",
    "In the following notebook ...\n",
    "\n",
    "## Learning objectives of this notebook:\n",
    "- Set up distributions in CUQIpy\n",
    "- Generate samples from distributions and inspect visually\n",
    "\n",
    "## TOC: \n",
    "* [Normal distribution](#Normal)\n",
    "* [Sampling]\n",
    "* [Conditional distributions](#Conditional) \n",
    "\n",
    "References if any"
   ]
  },
  {
   "cell_type": "markdown",
   "metadata": {},
   "source": [
    "First we need to import cuqi"
   ]
  },
  {
   "cell_type": "code",
   "execution_count": null,
   "metadata": {},
   "outputs": [],
   "source": [
    "import sys\n",
    "import numpy as np\n",
    "import cuqi\n",
    "import matplotlib.pyplot as plt\n",
    "\n",
    "%load_ext autoreload\n",
    "%autoreload 2\n",
    "\n",
    "%matplotlib inline"
   ]
  },
  {
   "cell_type": "markdown",
   "metadata": {},
   "source": [
    "## Normal distribution  <a class=\"anchor\" id=\"Normal\"></a> \n",
    "The first thing we can do is define a simple normal distribution, e.g.,\n",
    "\n",
    "$$ X \\sim \\mathcal{N}(0,1^2) $$\n",
    "\n",
    "This is done using the following syntax:"
   ]
  },
  {
   "cell_type": "code",
   "execution_count": null,
   "metadata": {},
   "outputs": [],
   "source": [
    "X = cuqi.distribution.Normal(mean=0, std=1)"
   ]
  },
  {
   "cell_type": "markdown",
   "metadata": {},
   "source": [
    "More information on the distribtion can be found by typing `help(X)`. Try that in the next cell:"
   ]
  },
  {
   "cell_type": "code",
   "execution_count": null,
   "metadata": {},
   "outputs": [],
   "source": [
    "# This is where you type the command (uncomment):\n",
    "# Y = \n",
    "help(X)\n"
   ]
  },
  {
   "cell_type": "markdown",
   "metadata": {},
   "source": [
    "Distributions in cuqipy have commonly used methods that one might expect like *pdf*, *logpdf*, etc. We demonstrate this here by evaluating and plotting the probability density function (PDF) on an interval:"
   ]
  },
  {
   "cell_type": "code",
   "execution_count": null,
   "metadata": {},
   "outputs": [],
   "source": [
    "grid = np.linspace(-5, 5, 1001)\n",
    "plt.plot(grid, X.pdf(grid))"
   ]
  },
  {
   "cell_type": "markdown",
   "metadata": {},
   "source": [
    "CUQIpy distributions also have `sample` method which returns one or more samples from the distribution:"
   ]
  },
  {
   "cell_type": "code",
   "execution_count": null,
   "metadata": {},
   "outputs": [],
   "source": [
    "X.sample()"
   ]
  },
  {
   "cell_type": "markdown",
   "metadata": {},
   "source": [
    "By default a single sample is returned. More samples, say 100, can be requested:"
   ]
  },
  {
   "cell_type": "code",
   "execution_count": null,
   "metadata": {},
   "outputs": [],
   "source": [
    "s = X.sample(10000)"
   ]
  },
  {
   "cell_type": "code",
   "execution_count": null,
   "metadata": {},
   "outputs": [],
   "source": [
    "type(s)"
   ]
  },
  {
   "cell_type": "code",
   "execution_count": null,
   "metadata": {},
   "outputs": [],
   "source": [
    "s.plot_chain(0)"
   ]
  },
  {
   "cell_type": "code",
   "execution_count": null,
   "metadata": {},
   "outputs": [],
   "source": [
    "n, bins, patches = plt.hist(s.samples.T, density=True, bins=1000)\n",
    "plt.plot(grid,X.pdf(grid))"
   ]
  },
  {
   "cell_type": "code",
   "execution_count": null,
   "metadata": {},
   "outputs": [],
   "source": [
    "s.hist_chain(0, bins=100, density=True)\n",
    "plt.plot(grid, X.pdf(grid))"
   ]
  },
  {
   "cell_type": "markdown",
   "metadata": {},
   "source": [
    "#### Try yourself (optional):  \n",
    "Make a new Normal distribution with mean 10 and std 5 and generate sample. Get logpdf, evaluate logpdf at value say 3. Compare against expected result. Hint: Use the help on distribution methods, e.g. `help(X.logpdf)` to see how to call."
   ]
  },
  {
   "cell_type": "code",
   "execution_count": null,
   "metadata": {},
   "outputs": [],
   "source": [
    "# This is where you type the code:\n",
    "# \n",
    "\n"
   ]
  },
  {
   "cell_type": "code",
   "execution_count": null,
   "metadata": {},
   "outputs": [],
   "source": [
    "cuqi.distribution."
   ]
  },
  {
   "cell_type": "code",
   "execution_count": null,
   "metadata": {},
   "outputs": [],
   "source": [
    "# plot pdf\n",
    "# single sample\n",
    "# multiple samples in Samples object\n",
    "# Samples plots: plot individual samples, chains, mean\n",
    "# What other distributions are available: Uniform, Gamma\n",
    "# Different types of Gaussians\n",
    "# Prior samples (maybe too early)\n",
    "# Conditional samples\n",
    "# Geometry in distributions (maybe to early). Same distribution. Update geometry of distb (and/or of Samples)\n",
    "# \n",
    "# Add docstrings to functions/classes/methods being used/mentioned\n",
    "# Add histogram method?"
   ]
  },
  {
   "cell_type": "markdown",
   "metadata": {},
   "source": [
    "## Conditional distributions  <a class=\"anchor\" id=\"Conditional\"></a> \n",
    "\n",
    "In cuqipy defining conditional distributions is simple. Assume we are interested in defining the Normal distribution condtioned on the standard deviation, e.g.\n",
    "\n",
    "$$ X_2 \\mid \\mathrm{std} \\sim \\mathcal{N}(0,\\mathrm{std}^2) $$\n",
    "\n",
    "This can simply be achieved by *omitting* the keyword argument for the standard deviation as shown in the following code"
   ]
  },
  {
   "cell_type": "code",
   "execution_count": null,
   "metadata": {},
   "outputs": [],
   "source": [
    "X2 = cuqi.distribution.Normal(mean=0)"
   ]
  },
  {
   "cell_type": "markdown",
   "metadata": {},
   "source": [
    "Because $X_2$ is a conditional distribution, we cannot evaluate the logpdf or sample it directly without specifying the value of the conditional parameter (the standard deviation in this case). Hence the first line in the code cell below would fail.\n",
    "\n",
    "However, we can specify the conditional parameter using the \"call\" syntax, i.e., `X2(std=2)` to specify the value of the standard deviation in the conditional distribution as shown below."
   ]
  },
  {
   "cell_type": "code",
   "execution_count": null,
   "metadata": {},
   "outputs": [],
   "source": [
    "# X2.sample() #This code would fail\n",
    "X2(std=2).sample()"
   ]
  },
  {
   "cell_type": "markdown",
   "metadata": {},
   "source": [
    "In general one may need more flexibility than simply conditioning directly on the attributes of the distribution. Let us assume we want to condition on the variance - denoted d - rather than the standard deviation of the normal distribution, i.e.\n",
    "\n",
    "$$ X_3 \\mid d \\sim \\mathcal{N}(0,d) $$\n",
    "\n",
    "In cuqipy this is handled by *lambda* functions as follows."
   ]
  },
  {
   "cell_type": "code",
   "execution_count": null,
   "metadata": {},
   "outputs": [],
   "source": [
    "X3 = cuqi.distribution.Normal(mean=0,std=lambda d: np.sqrt(d))\n",
    "X3(d=2).sample()"
   ]
  },
  {
   "cell_type": "markdown",
   "metadata": {},
   "source": [
    "What actually happens behind the scenes is that writing `X3(d=2)` defined a new cuqi distribution, where the standard deviation is defined by evaluating the lambda function. This can be seen by storing the new distribution as follows."
   ]
  },
  {
   "cell_type": "code",
   "execution_count": null,
   "metadata": {},
   "outputs": [],
   "source": [
    "X4 = X3(d=2)\n",
    "X4.std"
   ]
  },
  {
   "cell_type": "markdown",
   "metadata": {},
   "source": [
    "One can even go crazy and define lambda functions for all attributes e.g."
   ]
  },
  {
   "cell_type": "code",
   "execution_count": null,
   "metadata": {},
   "outputs": [],
   "source": [
    "#Functions for mean and std with various (shared) inputs\n",
    "mean = lambda sigma,gamma: sigma+gamma\n",
    "std  = lambda delta,gamma: np.sqrt(delta+gamma)\n",
    "\n",
    "z = cuqi.distribution.Normal(mean,std)\n",
    "Z = z(sigma=3,delta=5,gamma=-2)\n",
    "\n",
    "Z.sample()"
   ]
  },
  {
   "cell_type": "markdown",
   "metadata": {},
   "source": [
    "## Hierarchical Gibbs sampler\n",
    "\n",
    "In the following we aim to implement a Hierarchical Gibbs sampler for a posterior related to an inverse problem based on algorithm 5.1 in [1]. For completeness we state the problem and posterior first.\n",
    "\n",
    "We are interested in the inverse problem\n",
    "\n",
    "$$ \\mathbf{b} = \\mathbf{A}\\mathbf{x}+\\mathbf{e},$$\n",
    "where $\\mathbf{A}\\in\\mathbb{R}^{m\\times n}$, $\\mathbf{x}\\in\\mathbb{R}^n$ and $\\mathbf{b}\\in\\mathbb{R}^m$ \n",
    "and \n",
    "$$\n",
    "\\mathbf{e}\\sim\\mathcal{N}(\\mathbf{0},\\lambda^{-1}\\mathbf{I}_m), \\\\ \\mathbf{x}\\sim\\mathcal{N}(\\mathbf{0},\\delta^{-1}\\mathbf{I}_n)$$\n",
    "\n",
    "and where $\\lambda,\\delta\\in\\mathbb{R}_+$ are considered hyper-parameters.\n",
    "\n",
    "The posterior is given by\n",
    "\n",
    "$$ p(\\mathbf{x} \\mid \\mathbf{b},\\lambda,\\delta) \\propto p(\\mathbf{b}\\mid\\mathbf{x},\\lambda)p(\\mathbf{x}\\mid\\delta), $$\n",
    "\n",
    "where the likelihood pdf is\n",
    "\n",
    "$$ p(\\mathbf{b}\\mid\\mathbf{x},\\lambda) = \\left(\\frac{\\lambda}{2\\pi}\\right)^{m/2}\\exp\\left( -\\frac{\\lambda}{2}\\| \\mathbf{A}\\mathbf{x}-\\mathbf{b}\\|_2^2 \\right), $$\n",
    "\n",
    "and prior pdf is\n",
    "\n",
    "$$ p(\\mathbf{x}\\mid\\delta) = \\left(\\frac{\\delta}{2\\pi}\\right)^{n/2}\\exp\\left( -\\frac{\\delta}{2}\\|\\mathbf{x}\\|_2^2\\right) $$\n",
    "\n",
    "It is commonly the case that hyper-parameters are defined as Gamma distributions, e.g.,\n",
    "\n",
    "$$ p(\\lambda)\\propto \\lambda^{\\alpha-1}\\exp(\\beta \\lambda) $$\n",
    "\n",
    "$$ p(\\delta) \\propto \\delta^{\\alpha-1}\\exp(\\beta \\delta) $$\n",
    "\n",
    "In CUQIpy this problem can be implemented and sampled using a Gibbs sampler with the code below."
   ]
  },
  {
   "cell_type": "code",
   "execution_count": null,
   "metadata": {},
   "outputs": [],
   "source": [
    "#Load model + data from testproblem\n",
    "TP = cuqi.testproblem.Deconvolution() #Default values\n",
    "model = TP.model\n",
    "b = TP.data\n",
    "\n",
    "# Extract dimensions\n",
    "n = model.domain_dim\n",
    "m = model.range_dim\n",
    "\n",
    "# Parameters for hyper-parameters\n",
    "alpha = 1\n",
    "beta = 1e-4\n",
    "\n",
    "# Hyper-parameters\n",
    "d = cuqi.distribution.Gamma(shape=alpha, rate=beta)\n",
    "l = cuqi.distribution.Gamma(shape=alpha, rate=beta)\n",
    "\n",
    "#Prior\n",
    "x = cuqi.distribution.GaussianCov(mean=np.zeros(n), cov=lambda d: 1/d, geometry=int(n))\n",
    "\n",
    "# Likelihood\n",
    "L = cuqi.distribution.GaussianCov(mean=model, cov=lambda l: 1/l)"
   ]
  },
  {
   "cell_type": "markdown",
   "metadata": {},
   "source": [
    "Unfurtunately there are no no hierachical samplers implemented in cuqipy yet. Hence code like (**not final syntax**)\n",
    "\n",
    "`cuqi.problem.BayesianProblem(likelihood=L,prior=x,data=b,hyper_para = [d,l])`\n",
    "\n",
    "or \n",
    "\n",
    "`cuqi.sampler.Gibbs(likelihood=L,prior=x,data=b,hyper_para = [d,l])`\n",
    "\n",
    "is not supported yet."
   ]
  },
  {
   "cell_type": "markdown",
   "metadata": {},
   "source": [
    "## Implementing a Gibbs sampler in cuqipy\n",
    "Instead for now we would have to implement our own Gibbs sampler in cuqipy while taking advantage of the conditional distribution framework. In [1] a Gibbs sampler is proposed for exactly the problem we defined with $\\mathbf{L}=\\mathbf{I}$ and we restate the Gibbs sampler here."
   ]
  },
  {
   "cell_type": "markdown",
   "metadata": {},
   "source": [
    "### Algorithm 5.1. The Hierarchical Gibbs Sampler.\n",
    "\n",
    "0. Initialize $\\left(\\lambda_{0}, \\delta_{0}\\right), \\mathbf{x}^{0}=\\left(\\lambda_{0} \\mathbf{A}^{T} \\mathbf{A}+\\delta_{0} \\mathbf{L}\\right)^{-1} \\lambda_{0} \\mathbf{A}^{T} \\mathbf{b}$, set $k=1$, define $k_{\\text {total }}.$\n",
    "1. Compute $\\left(\\lambda_{k}, \\delta_{k}\\right) \\sim p\\left(\\lambda, \\delta \\mid \\mathbf{b}, \\mathbf{x}^{k-1}\\right)$ as follows.\n",
    "    - a) Compute $\\lambda_{k} \\sim \\Gamma\\left(M / 2+\\alpha_{\\lambda}, \\frac{1}{2}\\left\\|\\mathbf{A} \\mathbf{x}^{k-1}-\\mathbf{b}\\right\\|^{2}+\\beta_{\\lambda}\\right)$.\n",
    "    - b) Compute $\\delta_{k} \\sim \\Gamma\\left(\\bar{N} / 2+\\alpha_{\\delta}, \\frac{1}{2}\\left(\\mathbf{x}^{k-1}\\right)^{T} \\mathbf{L} \\mathbf{x}^{k-1}+\\beta_{\\delta}\\right)$.\n",
    "2. Compute $\\mathbf{x}^{k} \\sim \\mathcal{N}\\left(\\left(\\lambda_{k} \\mathbf{A}^{T} \\mathbf{A}+\\delta_{k} \\mathbf{L}\\right)^{-1} \\lambda_{k} \\mathbf{A}^{T} \\mathbf{b},\\left(\\lambda_{k} \\mathbf{A}^{T} \\mathbf{A}+\\delta_{k} \\mathbf{L}\\right)^{-1}\\right)$\n",
    "3. If $k=k_{\\text {total }}$ stop, otherwise, set $k=k+1$ and return to Step 1 ."
   ]
  },
  {
   "cell_type": "markdown",
   "metadata": {},
   "source": [
    "To implement the above-mentioned sampler we would need to define the conditional distributions in steps 1a, 1b and 2. This is simply carried out as shown below."
   ]
  },
  {
   "cell_type": "code",
   "execution_count": null,
   "metadata": {},
   "outputs": [],
   "source": [
    "#Matricies\n",
    "A = model.get_matrix()\n",
    "L = np.eye(n)\n",
    "\n",
    "# Define hyperpriors\n",
    "l = cuqi.distribution.Gamma(shape=m/2+alpha,rate=lambda x: .5*np.linalg.norm(A@x-b)**2+beta)\n",
    "d = cuqi.distribution.Gamma(shape=n/2+alpha,rate=lambda x: .5*x.T@(L@x)+beta)\n",
    "\n",
    "# Define prior\n",
    "AtA = A.T@A\n",
    "Atb = A.T@b\n",
    "mean_func = lambda l,d: np.linalg.solve(l*AtA+d*L,l*Atb)\n",
    "prec_func  = lambda l,d: l*AtA+d*L\n",
    "x = cuqi.distribution.GaussianPrec(mean=mean_func,prec=prec_func)"
   ]
  },
  {
   "cell_type": "markdown",
   "metadata": {},
   "source": [
    "The Gibbs sampler is then implemented as follows."
   ]
  },
  {
   "cell_type": "code",
   "execution_count": null,
   "metadata": {},
   "outputs": [],
   "source": [
    "# Example from Johns book. Algorithm 5.1\n",
    "n_samp = 1000\n",
    "\n",
    "# Preallocate sample vectors\n",
    "ls = np.zeros(n_samp+1)\n",
    "ds = np.zeros(n_samp+1)\n",
    "xs = np.zeros((n,n_samp+1))\n",
    "\n",
    "# Initial parameters\n",
    "ls[0] = 20; ds[0]=100\n",
    "xs[:,0] = x(l=ls[0],d=ds[0]).mean\n",
    "\n",
    "# Gibbs sampler\n",
    "for k in range(n_samp):\n",
    "\n",
    "    #Sample hyperparameters conditioned on x\n",
    "    ls[k+1] = l(x=xs[:,k]).sample()\n",
    "    ds[k+1] = d(x=xs[:,k]).sample()\n",
    "\n",
    "    # Sample x conditioned on l,d\n",
    "    xs[:,k+1] = x(l=ls[k+1],d=ds[k+1]).sample()"
   ]
  },
  {
   "cell_type": "markdown",
   "metadata": {},
   "source": [
    "Using the cuqi `Samples` and `Geometry` classes we can store the samples and plot e.g. the chains of the hyperparameters."
   ]
  },
  {
   "cell_type": "code",
   "execution_count": null,
   "metadata": {},
   "outputs": [],
   "source": [
    "hp_s = cuqi.samples.Samples(np.vstack((ls,ds)),geometry=cuqi.geometry.Discrete([\"lambda\",\"delta\"])) #Discrete geometry\n",
    "x_s  = cuqi.samples.Samples(xs)                                                                     #Default geometry"
   ]
  },
  {
   "cell_type": "code",
   "execution_count": null,
   "metadata": {},
   "outputs": [],
   "source": [
    "plt.subplot(121); hp_s.plot_chain(0); plt.title(\"lambda chain\")\n",
    "plt.subplot(122); hp_s.plot_chain(1); plt.title(\"delta chain\");"
   ]
  },
  {
   "cell_type": "code",
   "execution_count": null,
   "metadata": {},
   "outputs": [],
   "source": [
    "x_s.plot_ci(95, exact=TP.exactSolution)"
   ]
  },
  {
   "cell_type": "code",
   "execution_count": null,
   "metadata": {},
   "outputs": [],
   "source": [
    "x_s"
   ]
  },
  {
   "cell_type": "code",
   "execution_count": null,
   "metadata": {},
   "outputs": [],
   "source": [
    "plt.plot(x_s)"
   ]
  }
 ],
 "metadata": {
  "interpreter": {
   "hash": "af8c7ced6989107a04bf48195960b118c1172bf8407da7d223c6108ef4cab56d"
  },
  "kernelspec": {
   "display_name": "Python 3",
   "language": "python",
   "name": "python3"
  },
  "language_info": {
   "codemirror_mode": {
    "name": "ipython",
    "version": 3
   },
   "file_extension": ".py",
   "mimetype": "text/x-python",
   "name": "python",
   "nbconvert_exporter": "python",
   "pygments_lexer": "ipython3",
   "version": "3.7.9"
  }
 },
 "nbformat": 4,
 "nbformat_minor": 2
}
