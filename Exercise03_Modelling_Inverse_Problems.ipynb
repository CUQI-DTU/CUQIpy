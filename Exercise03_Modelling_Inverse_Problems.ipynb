{
 "cells": [
  {
   "cell_type": "markdown",
   "metadata": {},
   "source": [
    "# Exercise 03: CUQIpy Models, Likelihood and Forward UQ\n",
    "\n",
    "In this notebook we start to get our hands dirty with modelling inverse problems in CUQIpy. In particular, show how to define new models in CUQIpy from either matricies or functions (methods in python).\n",
    "\n",
    "## Learning objectives\n",
    "* Make a CUQIpy model from an existing matrix or function.\n",
    "* Access pre-defined models from the CUQIpy library.\n",
    "* Run a simple forward UQ analysis.\n",
    "* Learn about cuqipy geometries in the context of models.\n",
    "\n",
    "## Table of contents\n",
    "1. [Pre-defined models](#pre-defined)\n",
    "2. [Generating data](#data)\n",
    "3. [Forward UQ](#forwardUQ)\n",
    "4. [Creating CUQIpy models](#models)\n",
    "    1. [Defining model from a matrix](#matrix)\n",
    "    2. [Defining model from a function](#function)"
   ]
  },
  {
   "cell_type": "markdown",
   "metadata": {},
   "source": [
    "## 1. Creating CUQIpy models"
   ]
  },
  {
   "cell_type": "markdown",
   "metadata": {},
   "source": [
    "Before getting started we import the basic packages we need."
   ]
  },
  {
   "cell_type": "code",
   "execution_count": null,
   "metadata": {},
   "outputs": [],
   "source": [
    "import numpy as np\n",
    "import cuqi\n",
    "\n",
    "%load_ext autoreload\n",
    "%autoreload 2"
   ]
  },
  {
   "cell_type": "markdown",
   "metadata": {},
   "source": [
    "### 1.A Defining model from a matrix\n",
    "\n",
    "Suppose we have a linear inverse problem\n",
    "\n",
    "$$ \\mathbf{b}=\\mathbf{A}\\mathbf{x}+\\mathbf{e}, $$\n",
    "\n",
    "where $\\mathbf{b}\\in\\mathbb{R}^m$ is the measured data, $\\mathbf{A}\\in\\mathbb{R}^{m\\times n}$ is a matrix representing the forward model, $\\mathbf{x}\\in\\mathbb{R}^n$ is the unknown (solution) and $\\mathbf{e}\\in\\mathbb{R}^m$ is the additive measurement noise. \n",
    "\n",
    "The model is represented by the matrix $\\mathbf{A}$ in this case. For the sake of presentation, let us just create a random matrix to represent the forward model."
   ]
  },
  {
   "cell_type": "code",
   "execution_count": null,
   "metadata": {},
   "outputs": [],
   "source": [
    "#Create a random numpy matrix to act like a forward model (this matrix can be replaced to represent other problems)\n",
    "n = 10; m = 5\n",
    "A = np.random.randn(m,n) "
   ]
  },
  {
   "cell_type": "markdown",
   "metadata": {},
   "source": [
    "To create a cuqi model represented by this matrix, all we have to do is pass it to the `LinearModel` class from the `model` module in cuqipy as follows."
   ]
  },
  {
   "cell_type": "code",
   "execution_count": null,
   "metadata": {},
   "outputs": [],
   "source": [
    "model = cuqi.model.LinearModel(A)"
   ]
  },
  {
   "cell_type": "markdown",
   "metadata": {},
   "source": [
    "This may seem like a superfluous step. However, the cuqipy models have a number of very useful features. Initially let us just have a look at the printed information when we inspect the model. For example we should see that the model have been equipped with domain and range geometries."
   ]
  },
  {
   "cell_type": "code",
   "execution_count": null,
   "metadata": {
    "scrolled": true
   },
   "outputs": [],
   "source": [
    "model"
   ]
  },
  {
   "cell_type": "markdown",
   "metadata": {},
   "source": [
    "#### Try yourself (optional):  \n",
    "Let A be sudoku matrix....\n",
    "\n",
    "**Hint:**"
   ]
  },
  {
   "cell_type": "code",
   "execution_count": null,
   "metadata": {},
   "outputs": [],
   "source": [
    "# This is where you type the code:\n",
    "\n",
    "\n"
   ]
  },
  {
   "cell_type": "markdown",
   "metadata": {},
   "source": [
    "### 1.B Defining model from a function\n",
    "We can also define CUQIpy models from functions (methods in python).\n",
    "\n",
    "..."
   ]
  },
  {
   "cell_type": "code",
   "execution_count": null,
   "metadata": {},
   "outputs": [],
   "source": [
    "def my_func(x):\n",
    "    return np.sum(x)\n",
    "model2 = cuqi.model.Model(my_func,range_geometry=m,domain_geometry=n)\n",
    "model2"
   ]
  },
  {
   "cell_type": "markdown",
   "metadata": {},
   "source": [
    "Make sodoku out of function instead?? Perhaps some non-linear stuff? Perhaps we move this to end.."
   ]
  },
  {
   "cell_type": "markdown",
   "metadata": {},
   "source": [
    "## Data generation (Likelihood)\n",
    "From the problem info string above, we see that the noise is additive Gaussian. Hence, we need to define a Gaussian likelihood, with the model as mean. This is easily done as follows.\n",
    "\n",
    "Math about mean=model...\n",
    "\n",
    "show pdf of Gaussian with model(x)."
   ]
  },
  {
   "cell_type": "code",
   "execution_count": null,
   "metadata": {},
   "outputs": [],
   "source": [
    "likelihood = cuqi.distribution.Gaussian(mean=model,std=0.05)"
   ]
  },
  {
   "cell_type": "markdown",
   "metadata": {},
   "source": [
    "Note in particular that likelihood is a conditional distribution. Conditional on the input parameter to the model (in this case x). This can be seen by checking"
   ]
  },
  {
   "cell_type": "code",
   "execution_count": null,
   "metadata": {},
   "outputs": [],
   "source": [
    "likelihood.get_conditioning_variables()"
   ]
  },
  {
   "cell_type": "markdown",
   "metadata": {},
   "source": [
    "Demonstrate likelihood with zero image. (noise). Tell them to simulate data.."
   ]
  },
  {
   "cell_type": "markdown",
   "metadata": {},
   "source": [
    "#### Try yourself (optional):  \n",
    "Try computing some relalizations of the noise. \n",
    "\n",
    "**Hint:** What is $\\mathbf{x}$ if we are only interested in the noise?"
   ]
  },
  {
   "cell_type": "code",
   "execution_count": null,
   "metadata": {},
   "outputs": [],
   "source": [
    "# This is where you type the code:\n",
    "\n",
    "\n"
   ]
  },
  {
   "cell_type": "markdown",
   "metadata": {},
   "source": [
    "## 2 Forward UQ\n",
    "Suppose we have generated some samples from a Gaussian Markov Random Field and aim to see effect of pushing this distribution through the linear model from earlier.\n",
    "\n",
    "First lets define the distribution, generate some samples and plot them"
   ]
  },
  {
   "cell_type": "code",
   "execution_count": null,
   "metadata": {},
   "outputs": [],
   "source": [
    "Ns = 50; #Number of samples (try changing this to improve the confidence interval)\n",
    "x = cuqi.distribution.GMRF(mean=np.zeros(n),prec=1,partition_size=n,physical_dim=1,bc_type='zero')\n",
    "xs = x.sample(Ns)\n",
    "xs.plot_ci(95)"
   ]
  },
  {
   "cell_type": "markdown",
   "metadata": {},
   "source": [
    "Now we compute the forward projection of each sample and plotting the resulting pushed forward samples."
   ]
  },
  {
   "cell_type": "code",
   "execution_count": null,
   "metadata": {},
   "outputs": [],
   "source": [
    "bs = model(xs)\n",
    "bs.plot_ci(95)"
   ]
  },
  {
   "cell_type": "markdown",
   "metadata": {},
   "source": [
    "#### Try yourself (optional):  \n",
    "This above confidence interval plot can be a bit misleading as we only have a few output parameters. Try modifing the `range_geometry` of the model into a discrete geometry.\n",
    "\n",
    "**Hint:** See `help(cuqi.geometry.Discrete)` for how to define a discrete geometry."
   ]
  },
  {
   "cell_type": "code",
   "execution_count": null,
   "metadata": {},
   "outputs": [],
   "source": [
    "# This is where you type the code:\n",
    "\n",
    "\n"
   ]
  },
  {
   "cell_type": "code",
   "execution_count": null,
   "metadata": {},
   "outputs": [],
   "source": [
    "# Recomputing the forward projection after the model geometry is updated. This plot below should look different!\n",
    "bs = model(xs)\n",
    "bs.plot_ci(95)"
   ]
  },
  {
   "cell_type": "markdown",
   "metadata": {},
   "source": [
    "## 3. Pre-defined models\n",
    "In CUQIpy we also have a number of pre-defined models. For example:"
   ]
  },
  {
   "cell_type": "code",
   "execution_count": null,
   "metadata": {},
   "outputs": [],
   "source": [
    "modelD, data, probInfo = cuqi.testproblem.Deconvolution.get_components()\n",
    "modelD"
   ]
  },
  {
   "cell_type": "code",
   "execution_count": null,
   "metadata": {},
   "outputs": [],
   "source": [
    "#TODO:\n",
    "#Improve doc on LinearModel and model.forward"
   ]
  }
 ],
 "metadata": {
  "interpreter": {
   "hash": "8a2a2a6f000eefafb6ab14e86e333a3522b00875ca02312d09d70808f888a31d"
  },
  "kernelspec": {
   "display_name": "Python 3",
   "language": "python",
   "name": "python3"
  },
  "language_info": {
   "codemirror_mode": {
    "name": "ipython",
    "version": 3
   },
   "file_extension": ".py",
   "mimetype": "text/x-python",
   "name": "python",
   "nbconvert_exporter": "python",
   "pygments_lexer": "ipython3",
   "version": "3.8.5"
  }
 },
 "nbformat": 4,
 "nbformat_minor": 2
}
