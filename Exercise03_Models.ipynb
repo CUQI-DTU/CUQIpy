{
 "cells": [
  {
   "cell_type": "markdown",
   "metadata": {},
   "source": [
    "# Exercise 03: Models, (noisy) data generation and Forward UQ\n",
    "\n",
    "In this notebook, we dive into models in CUQIpy, generating noisy data through the likelihood distribution and some forward uncertainty quantification. Finally, we also show how to define new custom models in CUQIpy from either matricies or functions (methods in python).\n",
    "\n",
    "**Try to run through parts 1 and 2 before working on the optional exercises**\n",
    "\n",
    "## Learning objectives\n",
    "* Access and use pre-defined models from the CUQIpy library.\n",
    "* Describe CUQIpy domain and range geometries in the context of models.\n",
    "* Generate noisy forward simulated data from the likelihood distribution.\n",
    "* Run a simple forward UQ analysis.\n",
    "* Make a CUQIpy model from an existing matrix or function.\n",
    "\n",
    "\n",
    "## Table of contents\n",
    "1. [Pre-defined models](#pre-defined)\n",
    "2. [Generating data](#data)\n",
    "3. [Forward UQ](#forwardUQ) ★\n",
    "4. [Creating custom CUQIpy models](#models) ★"
   ]
  },
  {
   "cell_type": "markdown",
   "metadata": {},
   "source": [
    "Before getting started we have to import the Python packages we need. Here we also import CUQIpy (cuqi)."
   ]
  },
  {
   "cell_type": "code",
   "execution_count": null,
   "metadata": {},
   "outputs": [],
   "source": [
    "import numpy as np\n",
    "import cuqi\n",
    "\n",
    "%load_ext autoreload\n",
    "%autoreload 2\n",
    "\n",
    "%matplotlib inline"
   ]
  },
  {
   "cell_type": "markdown",
   "metadata": {},
   "source": [
    "## 1. Pre-defined models <a class=\"anchor\" id=\"pre-defined\"></a>\n",
    "Models in CUQIpy are the link between the solution/parameter, say $\\boldsymbol{\\theta}$, and the data, say $\\mathbf{d}$. In their simplest form they are simply a mapping $A: \\boldsymbol{\\theta} \\mapsto \\mathbf{d}$.\n",
    "\n",
    "In addition to providing a mapping for the \"forward\" operation and potentially the adjoint, a CUQIpy model also contains information on the parametrization of its domain and range as well as possible gradients and so on. \n",
    "\n",
    "To get a better grasp of the extend of CUQIpy models, let us look at two examples taken from the testproblem library.\n",
    "\n",
    "**Note:** *here we are using a slightly different approach compared to that of exercise 01 to access the testproblem. In this case, we are only interested in the model and therefore use \"_\" to store the unused output parameters (same as ~ in Matlab).*"
   ]
  },
  {
   "cell_type": "code",
   "execution_count": null,
   "metadata": {},
   "outputs": [],
   "source": [
    "model1, _, probInfo = cuqi.testproblem.Deconvolution.get_components()\n",
    "model2, _, _        = cuqi.testproblem.Heat_1D.get_components()"
   ]
  },
  {
   "cell_type": "markdown",
   "metadata": {},
   "source": [
    "First, lets have a look at model1 coming from the \"Deconvolution\" testproblem. Calling print around the model gives us some of the most important information about the model."
   ]
  },
  {
   "cell_type": "code",
   "execution_count": null,
   "metadata": {},
   "outputs": [],
   "source": [
    "print(model1)"
   ]
  },
  {
   "cell_type": "markdown",
   "metadata": {},
   "source": [
    "In this case we see that we are working with a LinearModel (linear in the operator sense), which makes sense for the deconvolution problem. We also see that the domain and range are both parametrized as Continous1D with 128 parameters. Finally, we see that the forward parameter is called 'x'.\n",
    "\n",
    "Let us have a look at model2."
   ]
  },
  {
   "cell_type": "code",
   "execution_count": null,
   "metadata": {},
   "outputs": [],
   "source": [
    "print(model2)"
   ]
  },
  {
   "cell_type": "markdown",
   "metadata": {},
   "source": [
    "Again, the domain and range are parametrized as Continous1D with 128 parameters, but the model is now noted as PDEModel.\n",
    "\n",
    "A PDEModel in CUQIpy is a model where in each forward computation a PDE is 1) assembled, 2) solved and 3) observed. The specifics would depend on the underlying PDE. With that in mind let us have a look at the underlying PDE for this PDEModel."
   ]
  },
  {
   "cell_type": "code",
   "execution_count": null,
   "metadata": {},
   "outputs": [],
   "source": [
    "model2.pde"
   ]
  },
  {
   "cell_type": "markdown",
   "metadata": {},
   "source": [
    "Here we see that the underlying PDE is a time-dependent linear PDE which makes sense for the 1D heat testproblem. We could keep exploring PDEModels, but we leave that to Exercise 05, where we return to solving Bayesian Inverse problems based on PDEs. \n",
    "\n",
    "For now, the main message is that the CUQIpy model provide a versatile framework for representing the non-Bayesian modelling aspects of inverse problems.\n",
    "\n",
    "### Basic usage of CUQIpy models\n",
    "Using CUQIpy models can be very simple. Let is focus on LinearModel representing the deconvolution problem. To simply notation, let us define this model simply as $\\mathbf{A}$ (but remember this is a CUQIpy model, not a matrix) and let us define the exact solution as $\\mathbf{x}_\\mathrm{exact}$.\n"
   ]
  },
  {
   "cell_type": "code",
   "execution_count": null,
   "metadata": {},
   "outputs": [],
   "source": [
    "A,_,probInfo = cuqi.testproblem.Deconvolution.get_components(dim=16)\n",
    "x_exact = probInfo.exactSolution"
   ]
  },
  {
   "cell_type": "markdown",
   "metadata": {},
   "source": [
    "One of the most basic usages of a CUQIpy model is to evaluate the forward map. This is simply done by calling the `.forward` method, or in the case of a LinearModel the short-hand \"@\" (matrix multiply in Python) can also be used."
   ]
  },
  {
   "cell_type": "code",
   "execution_count": null,
   "metadata": {},
   "outputs": [],
   "source": [
    "b_exact  = A.forward(x_exact) # Explicitly call the forward method\n",
    "b_exact2 = A@x_exact         # Can also use short-hand for matrix multiply (gives the same result)"
   ]
  },
  {
   "cell_type": "markdown",
   "metadata": {},
   "source": [
    "Linear model also supports basic operations such as \".T\" for transpose. For example here we multiply the transpose with `b_exact`."
   ]
  },
  {
   "cell_type": "code",
   "execution_count": null,
   "metadata": {},
   "outputs": [],
   "source": [
    "y = A.T@b_exact"
   ]
  },
  {
   "cell_type": "markdown",
   "metadata": {},
   "source": [
    "All CUQIpy models also contain information about the parametrization of domain and range in the `domain_geometry` and `range_geometry` attributes. This is also a way to modify them. For example"
   ]
  },
  {
   "cell_type": "code",
   "execution_count": null,
   "metadata": {},
   "outputs": [],
   "source": [
    "A.range_geometry = cuqi.geometry.Discrete(A.range_dim)\n",
    "A.forward(x_exact).plot()"
   ]
  },
  {
   "cell_type": "markdown",
   "metadata": {},
   "source": [
    "#### Try yourself (optional):  \n",
    "Try modifying the range geometry of `A` to a `Continuous2D` and plotting the result.\n",
    "\n",
    "**Hint:** Continuous2D can created with a tuple of integers defining the size of each dimension, e.g. `cuqi.geometry.Continuous2D((4,4))`"
   ]
  },
  {
   "cell_type": "code",
   "execution_count": null,
   "metadata": {},
   "outputs": [],
   "source": [
    "# This is where you type the code:\n",
    "\n",
    "\n"
   ]
  },
  {
   "cell_type": "markdown",
   "metadata": {},
   "source": [
    "## 2. Data generation through Likelihood distribution <a class=\"anchor\" id=\"data\"></a>\n",
    "\n",
    "One of the main tasks when working on numerical experiments for inverse problems is to generate synthetic data (potentially many realizations) to test and validate against. In this section we show how this can be easily achieved by combining the CUQIpy distribution and model module.\n",
    "\n",
    "Let us return to the model from the deconvolution testproblem from earlier and let us assume that the measurement data is affected by additive i.i.d. Gaussian noise. This leads to the inverse problem\n",
    "$$\\mathbf{b} = \\mathbf{A}\\mathbf{x}+\\mathbf{e}.$$\n",
    "\n",
    "The goal now is to generate, say 100, examples of observed data $\\mathbf{b}$ assuming $\\mathbf{e}\\sim \\mathcal{N}(0,0.05^2)$ for example. "
   ]
  },
  {
   "cell_type": "markdown",
   "metadata": {},
   "source": [
    "First, note that what we are really interested in is sampling from the likelihood distribution given some phantom $\\hat{\\mathbf{x}}$, that is $p(\\mathbf{b}|\\mathbf{x}=\\hat{\\mathbf{x}})$. Let us use the phantom from probInfo, and let us extract the model again from the testproblem (just in case some changes were made above)"
   ]
  },
  {
   "cell_type": "code",
   "execution_count": null,
   "metadata": {},
   "outputs": [],
   "source": [
    "n=50\n",
    "A, _, probInfo = cuqi.testproblem.Deconvolution.get_components(dim=n)\n",
    "xhat = probInfo.exactSolution"
   ]
  },
  {
   "cell_type": "markdown",
   "metadata": {},
   "source": [
    "Because the noise is Gaussian, the pdf of the likelihood distribution is simply given by\n",
    "\n",
    "$$ p(\\mathbf{b}|\\mathbf{x})\\propto \\exp\\left(\\frac{1}{2\\cdot (0.05)^2}\\|\\mathbf{b}-\\mathbf{A}\\mathbf{x}\\|_2^2\\right),$$\n",
    "\n",
    "namely a Gaussian distribution with $\\mathbf{A}\\mathbf{x}$ as mean and $0.05$ as standard deviation.\n",
    "\n",
    "The Likelihood distribution is conditioned on $\\mathbf{x}$ and so we need to represent a conditional distribution in CUQIpy. Luckily, when $\\mathbf{A}$ is represented by a CUQIpy model this is easy, we simply provide the model as the mean argument:"
   ]
  },
  {
   "cell_type": "code",
   "execution_count": null,
   "metadata": {},
   "outputs": [],
   "source": [
    "likelihood = cuqi.distribution.Gaussian(mean=A,std=0.05)"
   ]
  },
  {
   "cell_type": "markdown",
   "metadata": {},
   "source": [
    "Recall from earlier that the model `A` had its forward paramter given by 'x':"
   ]
  },
  {
   "cell_type": "code",
   "execution_count": null,
   "metadata": {},
   "outputs": [],
   "source": [
    "print(A)"
   ]
  },
  {
   "cell_type": "markdown",
   "metadata": {},
   "source": [
    "If we now inspect the `likelihood` we see that this has become a conditioned distribution, conditioned on this parameter."
   ]
  },
  {
   "cell_type": "code",
   "execution_count": null,
   "metadata": {},
   "outputs": [],
   "source": [
    "print(likelihood)"
   ]
  },
  {
   "cell_type": "markdown",
   "metadata": {},
   "source": [
    "Evaluating a conditional distribution in CUQIpy is simply done by use of the \"call\" method on Python. That is, for this above likelihood we simply write `likelihood(x=xhat)`.\n",
    "\n",
    "This now creates a new distribution, where the conditional variable is fixed, i.e. $p(\\mathbf{b}|\\mathbf{x}=\\hat{\\mathbf{x}})$. \n",
    "\n",
    "Hence to simulate some data according to the model shown earlier, we can condition on `xhat` and then sample."
   ]
  },
  {
   "cell_type": "code",
   "execution_count": null,
   "metadata": {},
   "outputs": [],
   "source": [
    "data = likelihood(x=xhat).sample()\n",
    "data.plot();"
   ]
  },
  {
   "cell_type": "markdown",
   "metadata": {},
   "source": [
    "#### Try yourself (optional):  \n",
    "The above example may seem like a rather exesive way to generate noisy data when the noise is additive Gaussian. Using the CUQIpy framework, try simulating data from the case where the likelihood follows a Laplace distribution with location $\\mathbf{A}\\mathbf{x}$ and precision $5$."
   ]
  },
  {
   "cell_type": "code",
   "execution_count": null,
   "metadata": {},
   "outputs": [],
   "source": [
    "# This is where you type the code:\n",
    "\n",
    "\n"
   ]
  },
  {
   "cell_type": "markdown",
   "metadata": {},
   "source": [
    "## 3 Forward UQ ★ <a class=\"anchor\" id=\"forwardUQ\"></a>\n",
    "Suppose we have generated some samples from a Gaussian Markov Random Field and aim to see effect of pushing this distribution through the linear model from earlier.\n",
    "\n",
    "First lets define the distribution, generate some samples and plot them"
   ]
  },
  {
   "cell_type": "code",
   "execution_count": null,
   "metadata": {},
   "outputs": [],
   "source": [
    "Ns = 500; #Number of samples (try changing this to improve the confidence interval)\n",
    "x = cuqi.distribution.GMRF(mean=np.zeros(n), prec=1, partition_size=n, physical_dim=1, bc_type='zero')\n",
    "xs = x.sample(Ns)\n",
    "xs.plot_ci(95)"
   ]
  },
  {
   "cell_type": "markdown",
   "metadata": {},
   "source": [
    "Now we compute the forward projection of each sample and plotting the resulting pushed forward samples."
   ]
  },
  {
   "cell_type": "code",
   "execution_count": null,
   "metadata": {},
   "outputs": [],
   "source": [
    "bs = A(xs)\n",
    "bs.plot_ci(95)"
   ]
  },
  {
   "cell_type": "markdown",
   "metadata": {},
   "source": [
    "#### Try yourself (optional):  \n",
    "This above confidence interval plot can be a bit misleading as we only have a few output parameters. Try modifing the `range_geometry` of the model into a discrete geometry.\n",
    "\n",
    "**Hint:** See `help(cuqi.geometry.Discrete)` for how to define a discrete geometry."
   ]
  },
  {
   "cell_type": "code",
   "execution_count": null,
   "metadata": {},
   "outputs": [],
   "source": [
    "# This is where you type the code:\n",
    "\n",
    "\n"
   ]
  },
  {
   "cell_type": "code",
   "execution_count": null,
   "metadata": {},
   "outputs": [],
   "source": [
    "# Recomputing the forward projection after the model geometry is updated. This plot below should look different!\n",
    "bs = model(xs)\n",
    "bs.plot_ci(95)"
   ]
  },
  {
   "cell_type": "code",
   "execution_count": null,
   "metadata": {},
   "outputs": [],
   "source": [
    "#TODO:\n",
    "#Improve doc on LinearModel and model.forward"
   ]
  },
  {
   "cell_type": "markdown",
   "metadata": {},
   "source": [
    "## 4. Creating custom CUQIpy models ★ <a class=\"anchor\" id=\"models\"></a>"
   ]
  },
  {
   "cell_type": "markdown",
   "metadata": {},
   "source": [
    "### Defining model from a matrix\n",
    "\n",
    "Suppose we have a linear inverse problem\n",
    "\n",
    "$$ \\mathbf{b}=\\mathbf{A}\\mathbf{x}+\\mathbf{e}, $$\n",
    "\n",
    "where $\\mathbf{b}\\in\\mathbb{R}^m$ is the measured data, $\\mathbf{A}\\in\\mathbb{R}^{m\\times n}$ is a matrix representing the forward model, $\\mathbf{x}\\in\\mathbb{R}^n$ is the unknown (solution) and $\\mathbf{e}\\in\\mathbb{R}^m$ is the additive measurement noise. \n",
    "\n",
    "The model is represented by the matrix $\\mathbf{A}$ in this case. For the sake of presentation, let us just create a random matrix to represent the forward model."
   ]
  },
  {
   "cell_type": "code",
   "execution_count": null,
   "metadata": {},
   "outputs": [],
   "source": [
    "#Create a random numpy matrix to act like a forward model (this matrix can be replaced to represent other problems)\n",
    "n = 10; m = 5\n",
    "A = np.random.randn(m,n) #At least avoid random matrix, use a fixed one.."
   ]
  },
  {
   "cell_type": "markdown",
   "metadata": {},
   "source": [
    "To create a cuqi model represented by this matrix, all we have to do is pass it to the `LinearModel` class from the `model` module in cuqipy as follows."
   ]
  },
  {
   "cell_type": "code",
   "execution_count": null,
   "metadata": {},
   "outputs": [],
   "source": [
    "model = cuqi.model.LinearModel(A)"
   ]
  },
  {
   "cell_type": "markdown",
   "metadata": {},
   "source": [
    "This may seem like a superfluous step. However, the cuqipy models have a number of very useful features. Initially let us just have a look at the printed information when we inspect the model. For example we should see that the model have been equipped with domain and range geometries."
   ]
  },
  {
   "cell_type": "code",
   "execution_count": null,
   "metadata": {
    "scrolled": true
   },
   "outputs": [],
   "source": [
    "model"
   ]
  },
  {
   "cell_type": "markdown",
   "metadata": {},
   "source": [
    "#### Try yourself (optional):  \n",
    "Let A be sudoku matrix....\n",
    "\n",
    "**Hint:**"
   ]
  },
  {
   "cell_type": "code",
   "execution_count": null,
   "metadata": {},
   "outputs": [],
   "source": [
    "# This is where you type the code:\n",
    "\n",
    "\n"
   ]
  },
  {
   "cell_type": "markdown",
   "metadata": {},
   "source": [
    "### Defining model from a function\n",
    "We can also define CUQIpy models from functions (methods in python).\n",
    "\n",
    "..."
   ]
  },
  {
   "cell_type": "code",
   "execution_count": null,
   "metadata": {},
   "outputs": [],
   "source": [
    "def my_func(x):\n",
    "    return np.sum(x)\n",
    "model2 = cuqi.model.Model(my_func,range_geometry=m,domain_geometry=n)\n",
    "model2"
   ]
  },
  {
   "cell_type": "markdown",
   "metadata": {},
   "source": [
    "Make sodoku out of function instead?? Perhaps some non-linear stuff? Perhaps we move this to end.."
   ]
  }
 ],
 "metadata": {
  "interpreter": {
   "hash": "8a2a2a6f000eefafb6ab14e86e333a3522b00875ca02312d09d70808f888a31d"
  },
  "kernelspec": {
   "display_name": "Python 3",
   "language": "python",
   "name": "python3"
  },
  "language_info": {
   "codemirror_mode": {
    "name": "ipython",
    "version": 3
   },
   "file_extension": ".py",
   "mimetype": "text/x-python",
   "name": "python",
   "nbconvert_exporter": "python",
   "pygments_lexer": "ipython3",
   "version": "3.8.8"
  }
 },
 "nbformat": 4,
 "nbformat_minor": 2
}
