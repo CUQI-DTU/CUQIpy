{
 "cells": [
  {
   "cell_type": "markdown",
   "metadata": {},
   "source": [
    "# Exercise 03: Models, data generation and Forward UQ\n",
    "\n",
    "In this notebook, we dive into models in CUQIpy, generating noisy data through the data distribution and some forward uncertainty quantification. Finally, we also show how to define new custom models in CUQIpy from either matricies or functions (methods in python).\n",
    "\n",
    "**Try to run through parts 1 and 2 before working on the optional exercises**\n",
    "\n",
    "## Learning objectives\n",
    "* Access and use pre-defined models from the CUQIpy library.\n",
    "* Describe CUQIpy domain and range geometries in the context of models.\n",
    "* Generate noisy forward simulated data from the data distribution.\n",
    "* Run a simple forward UQ analysis.\n",
    "* Make a CUQIpy model from an existing matrix or function.\n",
    "\n",
    "\n",
    "## Table of contents\n",
    "1. [Pre-defined models](#pre-defined)\n",
    "2. [Generating data](#data)\n",
    "3. [Forward UQ](#forwardUQ) ★\n",
    "4. [Creating custom CUQIpy models](#models) ★"
   ]
  },
  {
   "cell_type": "markdown",
   "metadata": {},
   "source": [
    "Before getting started we have to import the Python packages we need. Here we also import CUQIpy (cuqi)."
   ]
  },
  {
   "cell_type": "code",
   "execution_count": null,
   "metadata": {},
   "outputs": [],
   "source": [
    "import numpy as np\n",
    "import matplotlib.pyplot as plt\n",
    "import cuqi"
   ]
  },
  {
   "cell_type": "markdown",
   "metadata": {},
   "source": [
    "## 1. Pre-defined models <a class=\"anchor\" id=\"pre-defined\"></a>\n",
    "Models in CUQIpy are the link between the solution/parameter, say $\\boldsymbol{\\theta}$, and the data, say $\\mathbf{d}$. In their simplest form they are simply a mapping $A: \\boldsymbol{\\theta} \\mapsto \\mathbf{d}$.\n",
    "\n",
    "In addition to providing a mapping for the \"forward\" operation and potentially the adjoint, a CUQIpy model also contains information on the parametrization of its domain and range as well as possible gradients and so on. \n",
    "\n",
    "To get a better grasp of the extend of CUQIpy models, let us look at two examples taken from the testproblem library.\n",
    "\n",
    "**Note:** *here we are using a slightly different approach compared to that of exercise 01 to access the testproblem. In this case, we are only interested in the model and therefore use \"_\" to store the unused output parameters (same as ~ in Matlab).*"
   ]
  },
  {
   "cell_type": "code",
   "execution_count": null,
   "metadata": {},
   "outputs": [],
   "source": [
    "model1, _, probInfo = cuqi.testproblem.Deconvolution1D.get_components()\n",
    "model2, _, _        = cuqi.testproblem.Heat_1D.get_components()"
   ]
  },
  {
   "cell_type": "markdown",
   "metadata": {},
   "source": [
    "First, lets have a look at model1 coming from the \"Deconvolution\" testproblem. Calling print around the model gives us some of the most important information about the model."
   ]
  },
  {
   "cell_type": "code",
   "execution_count": null,
   "metadata": {},
   "outputs": [],
   "source": [
    "print(model1)"
   ]
  },
  {
   "cell_type": "markdown",
   "metadata": {},
   "source": [
    "In this case we see that we are working with a LinearModel (linear in the operator sense), which makes sense for the deconvolution problem. We also see that the domain and range are both parametrized as Continous1D with 128 parameters. Finally, we see that the forward parameter is called 'x'.\n",
    "\n",
    "Let us have a look at model2."
   ]
  },
  {
   "cell_type": "code",
   "execution_count": null,
   "metadata": {},
   "outputs": [],
   "source": [
    "print(model2)"
   ]
  },
  {
   "cell_type": "markdown",
   "metadata": {},
   "source": [
    "Again, the domain and range are parametrized as Continous1D with 128 parameters, but the model is now noted as PDEModel.\n",
    "\n",
    "A PDEModel in CUQIpy is a model where in each forward computation a PDE is 1) assembled, 2) solved and 3) observed. The specifics would depend on the underlying PDE. With that in mind let us have a look at the underlying PDE for this PDEModel."
   ]
  },
  {
   "cell_type": "code",
   "execution_count": null,
   "metadata": {},
   "outputs": [],
   "source": [
    "model2.pde"
   ]
  },
  {
   "cell_type": "markdown",
   "metadata": {},
   "source": [
    "Here we see that the underlying PDE is a time-dependent linear PDE which makes sense for the 1D heat testproblem. We could keep exploring PDEModels, but we leave that to Exercise 05, where we return to solving Bayesian Inverse problems based on PDEs. \n",
    "\n",
    "For now, the main message is that the CUQIpy model provide a versatile framework for representing the non-Bayesian modelling aspects of inverse problems.\n",
    "\n",
    "### Basic usage of CUQIpy models\n",
    "Using CUQIpy models can be very simple. Let us focus on LinearModel representing the deconvolution problem. \n",
    "\n",
    "To simply notation, let us define this model simply as $\\mathbf{A}$ (but remember this is a CUQIpy model, not a matrix) and let us define the exact solution as $\\mathbf{x}_\\mathrm{exact}$.\n"
   ]
  },
  {
   "cell_type": "code",
   "execution_count": null,
   "metadata": {},
   "outputs": [],
   "source": [
    "A,_,probInfo = cuqi.testproblem.Deconvolution1D.get_components(dim=16)\n",
    "x_exact = probInfo.exactSolution"
   ]
  },
  {
   "cell_type": "markdown",
   "metadata": {},
   "source": [
    "One of the most basic usages of a CUQIpy model is to evaluate the forward map. This is simply done by calling the `.forward` method, or in the case of a LinearModel the short-hand \"@\" (matrix multiply in Python) can also be used."
   ]
  },
  {
   "cell_type": "code",
   "execution_count": null,
   "metadata": {},
   "outputs": [],
   "source": [
    "b_exact  = A.forward(x_exact) # Explicitly call the forward method\n",
    "b_exact  = A@x_exact          # Can also use short-hand for matrix multiply (gives the same result)"
   ]
  },
  {
   "cell_type": "markdown",
   "metadata": {},
   "source": [
    "Linear model also supports basic operations such as \".T\" for transpose. For example here we multiply the transpose with `b_exact`."
   ]
  },
  {
   "cell_type": "code",
   "execution_count": null,
   "metadata": {},
   "outputs": [],
   "source": [
    "y = A.T@b_exact"
   ]
  },
  {
   "cell_type": "markdown",
   "metadata": {},
   "source": [
    "All CUQIpy models also contain information about the parametrization of domain and range in the `domain_geometry` and `range_geometry` attributes.\n",
    "\n",
    "For example let us take a look at the range geometry of `A`:"
   ]
  },
  {
   "cell_type": "code",
   "execution_count": null,
   "metadata": {},
   "outputs": [],
   "source": [
    "A.range_geometry"
   ]
  },
  {
   "cell_type": "markdown",
   "metadata": {},
   "source": [
    "When computing the forward, `A`passes its range geometry to the output. We can validate this by inspecting `b_exact`from earlier."
   ]
  },
  {
   "cell_type": "code",
   "execution_count": null,
   "metadata": {},
   "outputs": [],
   "source": [
    "b_exact.geometry"
   ]
  },
  {
   "cell_type": "markdown",
   "metadata": {},
   "source": [
    "This allows plotting in the correct geometry immediately after forward computation"
   ]
  },
  {
   "cell_type": "code",
   "execution_count": null,
   "metadata": {},
   "outputs": [],
   "source": [
    "b_exact.plot()"
   ]
  },
  {
   "cell_type": "markdown",
   "metadata": {},
   "source": [
    "We can also change the range geometry of the model and see this reflected in the plotting of the computed output. Let us for example change the geometry to Discrete:"
   ]
  },
  {
   "cell_type": "code",
   "execution_count": null,
   "metadata": {},
   "outputs": [],
   "source": [
    "A.range_geometry = cuqi.geometry.Discrete(A.range_dim)\n",
    "A.forward(x_exact).plot()"
   ]
  },
  {
   "cell_type": "markdown",
   "metadata": {},
   "source": [
    "Note that since we are only interested in generating a plot here, we do not need to store a new variable for b_exact, but rather just immediately call the `plot` method in the same line.\n",
    "\n",
    "#### ★ Try yourself (optional):  \n",
    "Try modifying the range geometry of `A` to a `Continuous2D` and plotting the result. \n",
    "\n",
    "**Note:** You may see a \"DeprecationWarning\" from the underlying plotting library. Do not worry about it.\n",
    "\n",
    "**Hint:** Continuous2D can created with a tuple of integers defining the size of each dimension, e.g. to define a 4 by 4 geometry `cuqi.geometry.Continuous2D((4,4))`"
   ]
  },
  {
   "cell_type": "code",
   "execution_count": null,
   "metadata": {},
   "outputs": [],
   "source": [
    "# This is where you type the code:\n",
    "\n",
    "\n"
   ]
  },
  {
   "cell_type": "markdown",
   "metadata": {},
   "source": [
    "## 2. Data generation through data distribution <a class=\"anchor\" id=\"data\"></a>\n",
    "\n",
    "One of the main tasks when working on numerical experiments for inverse problems is to generate synthetic data (potentially many realizations) to test and validate against. \n",
    "\n",
    "In this section, we demonstrate one way this can be achieved by defining the data distribution.\n",
    "\n",
    "Let us return to the model from the deconvolution testproblem from earlier, and let us assume that the measurement data is affected by additive i.i.d. Gaussian noise. This leads to the inverse problem\n",
    "\n",
    "$$\\mathbf{b} = \\mathbf{A}\\mathbf{x}+\\mathbf{e}.$$\n",
    "\n",
    "The goal now is to generate examples of observed data $\\mathbf{b}$ assuming $\\mathbf{e}\\sim \\mathcal{N}(0,0.05^2)$ given some $\\hat{\\mathbf{x}}$.\n",
    "\n",
    "**Note** *Generating noisy data in the above example with additive Gaussian noise is rather straightforward. However, the focus here is to provide a common framework for a much larger variety of models and noise types - exemplified by the Gaussian case.*"
   ]
  },
  {
   "cell_type": "markdown",
   "metadata": {},
   "source": [
    "First, note that what we are really interested in is sampling from the data distribution $p(\\mathbf{b}|\\mathbf{x})$ given $\\hat{\\mathbf{x}}$. This is often written as $p(\\mathbf{b}|\\mathbf{x}=\\hat{\\mathbf{x}})$.\n",
    "\n",
    " Let us use the phantom from probInfo and extract the model again from the testproblem (just in case some changes were made above)"
   ]
  },
  {
   "cell_type": "code",
   "execution_count": null,
   "metadata": {},
   "outputs": [],
   "source": [
    "n = 50\n",
    "A, _, probInfo = cuqi.testproblem.Deconvolution1D.get_components(dim=n)\n",
    "xhat = probInfo.exactSolution"
   ]
  },
  {
   "cell_type": "markdown",
   "metadata": {},
   "source": [
    "Because the noise is Gaussian, the pdf of the data distribution is simply given by\n",
    "\n",
    "$$ p(\\mathbf{b}|\\mathbf{x})\\propto \\exp\\left(\\frac{1}{2\\cdot (0.05)^2}\\|\\mathbf{b}-\\mathbf{A}\\mathbf{x}\\|_2^2\\right),$$\n",
    "\n",
    "namely a Gaussian distribution with $\\mathbf{A}\\mathbf{x}$ as mean and $0.05$ as standard deviation.\n",
    "\n",
    "The data distribution is conditioned on $\\mathbf{x}$ and so we need to represent a conditional distribution in CUQIpy. \n",
    "\n",
    "Luckily, when $\\mathbf{A}$ is represented by a CUQIpy model this is easy as we simply provide the model in place of $\\mathbf{A}\\mathbf{x}$ as follows."
   ]
  },
  {
   "cell_type": "code",
   "execution_count": null,
   "metadata": {},
   "outputs": [],
   "source": [
    "data_dist = cuqi.distribution.Gaussian(mean=A, std=0.05)"
   ]
  },
  {
   "cell_type": "markdown",
   "metadata": {},
   "source": [
    "Recall from earlier that the model `A` had its forward parameter given by 'x':"
   ]
  },
  {
   "cell_type": "code",
   "execution_count": null,
   "metadata": {},
   "outputs": [],
   "source": [
    "print(A)"
   ]
  },
  {
   "cell_type": "markdown",
   "metadata": {},
   "source": [
    "If we now inspect the `data_dist` we see that this has become a conditional distribution, conditioned on that same 'x' parameter."
   ]
  },
  {
   "cell_type": "code",
   "execution_count": null,
   "metadata": {},
   "outputs": [],
   "source": [
    "print(data_dist)"
   ]
  },
  {
   "cell_type": "markdown",
   "metadata": {},
   "source": [
    "Evaluating a conditional distribution in CUQIpy is simply done by use of the \"call\" method on Python. That is, for the data distribution we would write `data_dist(x=xhat)` or simply `data_dist(xhat)`.\n",
    "\n",
    "Evaluating the conditional distribution creates a new distribution, where the conditioning variable is fixed. That is, one can think of the expression `data_dist(x=xhat)` as defining $p(\\mathbf{b}|\\mathbf{x}=\\hat{\\mathbf{x}})$. \n",
    "\n",
    "Hence to simulate some noisy data, we just provide the conditioning variable `xhat` to the data distribution and then sample."
   ]
  },
  {
   "cell_type": "code",
   "execution_count": null,
   "metadata": {},
   "outputs": [],
   "source": [
    "data = data_dist(x=xhat).sample()\n",
    "data.plot();"
   ]
  },
  {
   "cell_type": "markdown",
   "metadata": {},
   "source": [
    "#### Try yourself (optional):  \n",
    "The above example may seem like a rather extensive way to generate noisy data when the noise is additive Gaussian (and it is for this simple case!).\n",
    "\n",
    "Using the CUQIpy framework, try simulating data from the case where the data distribution follows a Laplace distribution with location $\\mathbf{A}\\mathbf{x}$ and precision $5$. Note that this is no longer additive noise."
   ]
  },
  {
   "cell_type": "code",
   "execution_count": null,
   "metadata": {},
   "outputs": [],
   "source": [
    "# This is where you type the code:\n",
    "\n",
    "\n",
    "\n"
   ]
  },
  {
   "cell_type": "markdown",
   "metadata": {},
   "source": [
    "## 3 Forward UQ ★ <a class=\"anchor\" id=\"forwardUQ\"></a>\n",
    "In some cases it may be interesting to see the effect a chosen prior has on the data-side, a so-called forward UQ analysis. This can easily be achieved using CUQIpy models and distributions. \n",
    "\n",
    "For this case let us assume we have the data created from $\\hat{\\mathbf{x}}$ earlier, and we want to see if the prior encapsulates the measured data if we push it through forward model (ignoring noise in this case).\n",
    "\n",
    "To do this we first define our prior and generate some samples from it"
   ]
  },
  {
   "cell_type": "code",
   "execution_count": null,
   "metadata": {},
   "outputs": [],
   "source": [
    "#Number of samples (try changing this)\n",
    "Ns = 200\n",
    "\n",
    "#Building blocks for defining Gaussian mean\n",
    "z = np.zeros(15); o = 0.5*np.ones(20) \n",
    "\n",
    "#Prior\n",
    "x = cuqi.distribution.Gaussian(np.hstack((z,o,z)),0.5)\n",
    "\n",
    "#Sample prior\n",
    "xs = x.sample(Ns)"
   ]
  },
  {
   "cell_type": "markdown",
   "metadata": {},
   "source": [
    "We then plot a credibility interval for the prior and compare with xhat. "
   ]
  },
  {
   "cell_type": "code",
   "execution_count": null,
   "metadata": {},
   "outputs": [],
   "source": [
    "xs.plot_ci(95)\n",
    "xhat.plot(label=\"xhat\")\n",
    "plt.legend()\n",
    "plt.legend(['Mean of prior','xhat','Credibility interval'])"
   ]
  },
  {
   "cell_type": "markdown",
   "metadata": {},
   "source": [
    "**Note** *Because we are combining two types of plots we need to update the legend using the very commonly used library matplotlib.pyplot (imported as plt). This is also the library CUQIpy uses behind the scenes.*"
   ]
  },
  {
   "cell_type": "markdown",
   "metadata": {},
   "source": [
    "To perform the forward UQ and compare on the data-side, we essentially have to compute the forward for each sample.\n",
    "\n",
    "This would normally be done with for loop. However, because `xs` is a CUQIpy samples object and `A` is CUQIpy model, we can simply call the forward on the entire samples object (where once again the range geometry is passed from the model to the Samples on the data side)."
   ]
  },
  {
   "cell_type": "code",
   "execution_count": null,
   "metadata": {},
   "outputs": [],
   "source": [
    "bs = A.forward(xs) #Notation A@xs or even A(xs) would also have worked"
   ]
  },
  {
   "cell_type": "markdown",
   "metadata": {},
   "source": [
    "We then compare the pushed-forward samples with the data generated earlier"
   ]
  },
  {
   "cell_type": "code",
   "execution_count": null,
   "metadata": {},
   "outputs": [],
   "source": [
    "bs.plot_ci(95)\n",
    "data.plot()\n",
    "plt.legend(['Mean of push-forward prior','Actual data','Credibility interval'])"
   ]
  },
  {
   "cell_type": "markdown",
   "metadata": {},
   "source": [
    "## 4. Creating custom CUQIpy models ★ <a class=\"anchor\" id=\"models\"></a>"
   ]
  },
  {
   "cell_type": "markdown",
   "metadata": {},
   "source": [
    "### Defining model from a matrix\n",
    "\n",
    "Defining a CUQIpy model from a matrix is easy. Suppose we have the matrix\n"
   ]
  },
  {
   "cell_type": "code",
   "execution_count": null,
   "metadata": {},
   "outputs": [],
   "source": [
    "#Create a numpy matrix to act like a forward model (this matrix can be replaced to represent other problems)\n",
    "mat = np.array([[1,1,0,0],\n",
    "               [0,0,1,1],\n",
    "               [1,0,1,0],\n",
    "               [0,1,0,1]])"
   ]
  },
  {
   "cell_type": "markdown",
   "metadata": {},
   "source": [
    "To create a cuqi model represented by this matrix, all we have to do is pass it to the `LinearModel` class from the `model` module in cuqipy as follows."
   ]
  },
  {
   "cell_type": "code",
   "execution_count": null,
   "metadata": {},
   "outputs": [],
   "source": [
    "model_mat = cuqi.model.LinearModel(mat)\n",
    "print(model_mat)"
   ]
  },
  {
   "cell_type": "markdown",
   "metadata": {},
   "source": [
    "Here the range and domain geometry is inferred from the matrix. If we want to we can pass in more explicit information about the range and domain geometries"
   ]
  },
  {
   "cell_type": "code",
   "execution_count": null,
   "metadata": {},
   "outputs": [],
   "source": [
    "geom = cuqi.geometry.Discrete(4)\n",
    "model_mat2 = cuqi.model.LinearModel(mat, range_geometry=geom, domain_geometry=geom)\n",
    "print(model_mat2)"
   ]
  },
  {
   "cell_type": "markdown",
   "metadata": {},
   "source": [
    "### Defining model from a function\n",
    "We can also define CUQIpy models from functions (methods in python). In this case, we must at the minimum provide the dimensions of the range and domain, for example"
   ]
  },
  {
   "cell_type": "code",
   "execution_count": null,
   "metadata": {},
   "outputs": [],
   "source": [
    "#This can be any function representing the forward computation. Here just a random function with 3 inputs and 2 outputs\n",
    "def my_func(x):\n",
    "    return [x[0]**2+x[1],x[1]+x[3]]\n",
    "\n",
    "model_func = cuqi.model.Model(my_func, range_geometry=2, domain_geometry=3)\n",
    "print(model_func)"
   ]
  },
  {
   "cell_type": "markdown",
   "metadata": {},
   "source": [
    "### Linear model from functions\n",
    "\n",
    "If we have function for both the forward and adjoint, we can also specify a LinearModel from these functions. Here we illustrate by creating a forward and adjoint function from the matrix given earlier"
   ]
  },
  {
   "cell_type": "code",
   "execution_count": null,
   "metadata": {},
   "outputs": [],
   "source": [
    "def mat_forward(x):\n",
    "    return mat@x\n",
    "\n",
    "def mat_adjoint(y):\n",
    "    return mat.T@y"
   ]
  },
  {
   "cell_type": "markdown",
   "metadata": {},
   "source": [
    "In this case the range and domain dimensions (or geometry) cannot be inferred, so they also need to be defined"
   ]
  },
  {
   "cell_type": "code",
   "execution_count": null,
   "metadata": {},
   "outputs": [],
   "source": [
    "model_linear_func = cuqi.model.LinearModel(forward=mat_forward, adjoint=mat_adjoint, range_geometry=4, domain_geometry=4)\n",
    "print(model_linear_func)"
   ]
  }
 ],
 "metadata": {
  "interpreter": {
   "hash": "8a2a2a6f000eefafb6ab14e86e333a3522b00875ca02312d09d70808f888a31d"
  },
  "kernelspec": {
   "display_name": "Python 3",
   "language": "python",
   "name": "python3"
  },
  "language_info": {
   "codemirror_mode": {
    "name": "ipython",
    "version": 3
   },
   "file_extension": ".py",
   "mimetype": "text/x-python",
   "name": "python",
   "nbconvert_exporter": "python",
   "pygments_lexer": "ipython3",
   "version": "3.8.8"
  }
 },
 "nbformat": 4,
 "nbformat_minor": 2
}
