{
 "cells": [
  {
   "cell_type": "markdown",
   "metadata": {},
   "source": [
    "# MWE of PCH: Periodic deblurring problem"
   ]
  },
  {
   "cell_type": "markdown",
   "metadata": {},
   "source": [
    "First import packages required"
   ]
  },
  {
   "cell_type": "code",
   "execution_count": null,
   "metadata": {},
   "outputs": [],
   "source": [
    "import sys\n",
    "\n",
    "sys.path.append(\"..\") \n",
    "import numpy as np\n",
    "from scipy.sparse import diags\n",
    "import matplotlib.pyplot as plt\n",
    "import inspect\n",
    "\n",
    "# Set rng seed \n",
    "np.random.seed(0)"
   ]
  },
  {
   "cell_type": "markdown",
   "metadata": {},
   "source": [
    "Then import tools needed from CUQIpy:"
   ]
  },
  {
   "cell_type": "code",
   "execution_count": null,
   "metadata": {},
   "outputs": [],
   "source": [
    "from cuqi.testproblem import Deconvolution\n",
    "from cuqi.model import LinearModel\n",
    "from cuqi.distribution import Gaussian, Laplace_diff, Cauchy_diff\n",
    "from cuqi.sampler import CWMH\n",
    "from cuqi.problem import BayesianProblem\n",
    "from cuqi.samples import Samples, Data"
   ]
  },
  {
   "cell_type": "markdown",
   "metadata": {},
   "source": [
    "## 1. Loading the Deconvolution problem"
   ]
  },
  {
   "cell_type": "markdown",
   "metadata": {},
   "source": [
    "We want to experiment with the Deconvolution test problem; we first take a look at how to call it:"
   ]
  },
  {
   "cell_type": "code",
   "execution_count": null,
   "metadata": {},
   "outputs": [],
   "source": [
    "help(Deconvolution)"
   ]
  },
  {
   "cell_type": "markdown",
   "metadata": {},
   "source": [
    "Specify parameters and create Deconvolution TestProblem:"
   ]
  },
  {
   "cell_type": "code",
   "execution_count": null,
   "metadata": {},
   "outputs": [],
   "source": [
    "dim = 128\n",
    "kernel = [\"Gauss\",\"Sinc\",\"vonMises\"]\n",
    "phantom = [\"Gauss\",\"Sinc\",\"vonMises\",\"Square\",\"Hat\",\"Bumps\",\"DerivGauss\"]\n",
    "noise_type = [\"Gaussian\",\"ScaledGaussian\"]\n",
    "noise_std = 0.05\n",
    "\n",
    "# Test problem\n",
    "prob = Deconvolution(\n",
    "    dim = dim,\n",
    "    kernel=kernel[0],\n",
    "    phantom=phantom[3],\n",
    "    noise_type=noise_type[0],\n",
    "    noise_std = noise_std\n",
    ")"
   ]
  },
  {
   "cell_type": "markdown",
   "metadata": {},
   "source": [
    "A CUQI TestProblem already contains everything apart from a prior to do UQ, so we could simply specify a prior and then run the UQ method directly on the test problem. This is because TestProblem is a subclass of BayesianProblem, so the UQ method is inherited. But, here we will \"unpack\" the main ingredients (the linear operator and the original clean signal) and build our problem from scratch."
   ]
  },
  {
   "cell_type": "code",
   "execution_count": null,
   "metadata": {},
   "outputs": [],
   "source": [
    "A = prob.model.get_matrix()\n",
    "phantom = prob.exactSolution     # We may later return and generate phantom as a sample from a prior distribution."
   ]
  },
  {
   "cell_type": "code",
   "execution_count": null,
   "metadata": {},
   "outputs": [],
   "source": []
  },
  {
   "cell_type": "markdown",
   "metadata": {},
   "source": [
    "We can show the matrix and the \"original clean signal\" directly using python matplotlib plotting methods:"
   ]
  },
  {
   "cell_type": "code",
   "execution_count": null,
   "metadata": {},
   "outputs": [],
   "source": [
    "plt.figure()\n",
    "plt.imshow(A)\n",
    "plt.figure()\n",
    "plt.plot(phantom)"
   ]
  },
  {
   "cell_type": "markdown",
   "metadata": {},
   "source": [
    "## 2. Set up problem in CUQIpy with IID Gaussian prior"
   ]
  },
  {
   "cell_type": "markdown",
   "metadata": {},
   "source": [
    "We first set up a CUQI LinearModel:"
   ]
  },
  {
   "cell_type": "code",
   "execution_count": null,
   "metadata": {},
   "outputs": [],
   "source": [
    "# Define as linear model\n",
    "model = LinearModel(A)"
   ]
  },
  {
   "cell_type": "code",
   "execution_count": null,
   "metadata": {},
   "outputs": [],
   "source": [
    "phantomD = Data(phantom,  model.domain_geometry)"
   ]
  },
  {
   "cell_type": "code",
   "execution_count": null,
   "metadata": {},
   "outputs": [],
   "source": [
    "type(phantomD)"
   ]
  },
  {
   "cell_type": "code",
   "execution_count": null,
   "metadata": {},
   "outputs": [],
   "source": [
    "phantomD.plot(linestyle='--')"
   ]
  },
  {
   "cell_type": "markdown",
   "metadata": {},
   "source": [
    "With the CUQI model we can for example apply it to the clean signal and obtain clean data and plot it:"
   ]
  },
  {
   "cell_type": "code",
   "execution_count": null,
   "metadata": {},
   "outputs": [],
   "source": [
    "data_clean = model(phantom)\n",
    "plt.plot(data_clean)"
   ]
  },
  {
   "cell_type": "code",
   "execution_count": null,
   "metadata": {},
   "outputs": [],
   "source": [
    "data_cleanD = model(phantomD)\n",
    "data_cleanD.plot()"
   ]
  },
  {
   "cell_type": "markdown",
   "metadata": {},
   "source": [
    "We can use the geometries of the domain and range of the model for the dedicated plot type (for a simple 1D signal like this, the default Continuous1D geometry is automatically employed and its plotting method simply add the xlabel)"
   ]
  },
  {
   "cell_type": "code",
   "execution_count": null,
   "metadata": {},
   "outputs": [],
   "source": [
    "model.domain_geometry.plot(phantom)\n",
    "plt.figure()\n",
    "model.range_geometry.plot(data_clean)"
   ]
  },
  {
   "cell_type": "code",
   "execution_count": null,
   "metadata": {},
   "outputs": [],
   "source": [
    "phantomD.plot()\n",
    "plt.figure()\n",
    "data_cleanD.plot()"
   ]
  },
  {
   "cell_type": "markdown",
   "metadata": {},
   "source": [
    "Define likelihood as Gaussian with model as mean and i.i.d. noise with 0.05 std.  Note how the CUQIpy object \"model\" is given as the mean. Thus likelihood is a conditional distribution, which can only be sampled once the conditioned parameter is specified."
   ]
  },
  {
   "cell_type": "code",
   "execution_count": null,
   "metadata": {},
   "outputs": [],
   "source": [
    "noise_std = 0.05\n",
    "likelihood = Gaussian(model, noise_std, np.eye(dim))"
   ]
  },
  {
   "cell_type": "markdown",
   "metadata": {},
   "source": [
    "Generate and plot samples of noise by conditioning on the zero image:"
   ]
  },
  {
   "cell_type": "code",
   "execution_count": null,
   "metadata": {},
   "outputs": [],
   "source": [
    "likelihood(x=np.zeros(dim)).sample(5).plot()\n",
    "plt.title('Noise samples'); plt.show()"
   ]
  },
  {
   "cell_type": "markdown",
   "metadata": {},
   "source": [
    "In the same way, by conditioning on the true phantom, we generate (noisy) samples of simulated data:"
   ]
  },
  {
   "cell_type": "code",
   "execution_count": null,
   "metadata": {},
   "outputs": [],
   "source": [
    "likelihood(x=phantom).sample(5).plot()\n",
    "plt.title('Simulated data'); plt.show()"
   ]
  },
  {
   "cell_type": "markdown",
   "metadata": {},
   "source": [
    "Now generate single realization of data to be used in inverse problem:"
   ]
  },
  {
   "cell_type": "code",
   "execution_count": null,
   "metadata": {},
   "outputs": [],
   "source": [
    "data = likelihood(x=phantom).sample()"
   ]
  },
  {
   "cell_type": "markdown",
   "metadata": {},
   "source": [
    "Specify the prior distribution and generate and plot 5 samples:"
   ]
  },
  {
   "cell_type": "code",
   "execution_count": null,
   "metadata": {},
   "outputs": [],
   "source": [
    "prior_std = 0.2\n",
    "prior = Gaussian(np.zeros(dim), prior_std, np.eye(dim))\n",
    "\n",
    "# Plot samples of prior\n",
    "prior.sample(5).plot()\n",
    "plt.title('Realizations from prior'); plt.show()"
   ]
  },
  {
   "cell_type": "markdown",
   "metadata": {},
   "source": [
    "Combine likelihood, prior and the observed data into \"BayesianProblem\" object representing the inverse problem. No solving yet."
   ]
  },
  {
   "cell_type": "code",
   "execution_count": null,
   "metadata": {},
   "outputs": [],
   "source": [
    "IP = BayesianProblem(likelihood, prior, data)"
   ]
  },
  {
   "cell_type": "markdown",
   "metadata": {},
   "source": [
    "## 3. Solving the inverse problem"
   ]
  },
  {
   "cell_type": "markdown",
   "metadata": {},
   "source": [
    "We can ask for the MAP estimate:  (for small fully Gaussian problems we use analytical expression; for more complicated problems support is underway using numerical optimization. Prototype support implemented at hackathon using gradients of logpdf and LBFGS from scipy)"
   ]
  },
  {
   "cell_type": "code",
   "execution_count": null,
   "metadata": {},
   "outputs": [],
   "source": [
    "x_MAP = IP.MAP() \n",
    "\n",
    "# Plot\n",
    "#plt.plot(phantom,'.-')\n",
    "#plt.plot(x_MAP,'.-')\n",
    "phantomD.plot()\n",
    "x_MAP.plot()\n",
    "plt.title(\"MAP estimate\")\n",
    "plt.legend([\"Exact\",\"MAP\"])\n",
    "plt.show()"
   ]
  },
  {
   "cell_type": "markdown",
   "metadata": {},
   "source": [
    "Instead of MAP, we can sample the posterior:"
   ]
  },
  {
   "cell_type": "code",
   "execution_count": null,
   "metadata": {},
   "outputs": [],
   "source": [
    "Ns = 5000   # Number of samples\n",
    "result = IP.sample_posterior(Ns)"
   ]
  },
  {
   "cell_type": "markdown",
   "metadata": {},
   "source": [
    "The output is a cuqi.Samples object containing the samples and various utilities such as plotting methods:"
   ]
  },
  {
   "cell_type": "code",
   "execution_count": null,
   "metadata": {},
   "outputs": [],
   "source": [
    "type(result)"
   ]
  },
  {
   "cell_type": "markdown",
   "metadata": {},
   "source": [
    "For example we can plot confidence interval around the exact:"
   ]
  },
  {
   "cell_type": "code",
   "execution_count": null,
   "metadata": {},
   "outputs": [],
   "source": [
    "result.plot_ci(95, exact=phantom)"
   ]
  },
  {
   "cell_type": "markdown",
   "metadata": {},
   "source": [
    "And the posterior sample std:"
   ]
  },
  {
   "cell_type": "code",
   "execution_count": null,
   "metadata": {},
   "outputs": [],
   "source": [
    "result.plot_std()"
   ]
  },
  {
   "cell_type": "markdown",
   "metadata": {},
   "source": [
    "As well as chains of the individual parameters, here three shown:"
   ]
  },
  {
   "cell_type": "code",
   "execution_count": null,
   "metadata": {},
   "outputs": [],
   "source": [
    "idx = [20,55,60]\n",
    "result.plot_chain(idx)\n",
    "plt.legend(idx)"
   ]
  },
  {
   "cell_type": "markdown",
   "metadata": {},
   "source": [
    "Diagnostics of the sampling is ongoing work, some information is available currently in result:"
   ]
  },
  {
   "cell_type": "code",
   "execution_count": null,
   "metadata": {},
   "outputs": [],
   "source": [
    "result.diagnostics()"
   ]
  },
  {
   "cell_type": "markdown",
   "metadata": {},
   "source": [
    "## 4. Change to a Gaussian with correlation"
   ]
  },
  {
   "cell_type": "markdown",
   "metadata": {},
   "source": [
    "Define correlation matrix where 30 closest neighbours are correlated"
   ]
  },
  {
   "cell_type": "code",
   "execution_count": null,
   "metadata": {},
   "outputs": [],
   "source": [
    "l = 30\n",
    "corr = np.linspace(0,1,int(l/2)+1)\n",
    "corr = np.hstack((corr,np.flipud(corr[:-1])))\n",
    "indexes = np.linspace(-l/2,l/2,l+1,dtype=int)\n",
    "corrmat = diags(corr, indexes, shape=(dim,dim)).toarray()\n",
    "\n",
    "plt.imshow(corrmat)"
   ]
  },
  {
   "cell_type": "markdown",
   "metadata": {},
   "source": [
    "Set new prior and plot a few samples:"
   ]
  },
  {
   "cell_type": "code",
   "execution_count": null,
   "metadata": {},
   "outputs": [],
   "source": [
    "IP.prior = Gaussian(np.zeros(dim), prior_std, corrmat)\n",
    "\n",
    "# Plot samples from prior\n",
    "IP.prior.sample(5).plot() \n",
    "plt.title('Realizations from prior'); plt.show()"
   ]
  },
  {
   "cell_type": "markdown",
   "metadata": {},
   "source": [
    "We have already updated the \"prior\" attribute of the IP, so we are ready to solve for the MAP and sample:"
   ]
  },
  {
   "cell_type": "code",
   "execution_count": null,
   "metadata": {},
   "outputs": [],
   "source": [
    "x_MAP_corr = IP.MAP()\n",
    "\n",
    "# Plot\n",
    "phantomD.plot()\n",
    "x_MAP_corr.plot()\n",
    "plt.title(\"Map estimate\")\n",
    "plt.legend([\"Exact\",\"MAP\"])\n",
    "plt.show()"
   ]
  },
  {
   "cell_type": "code",
   "execution_count": null,
   "metadata": {},
   "outputs": [],
   "source": [
    "result_corr = IP.sample_posterior(Ns)\n",
    "\n",
    "# plot mean + 95% of samples\n",
    "result_corr.plot_ci(95, exact=phantom)"
   ]
  },
  {
   "cell_type": "markdown",
   "metadata": {},
   "source": [
    "## 5. Change to a Cauchy prior"
   ]
  },
  {
   "cell_type": "markdown",
   "metadata": {},
   "source": [
    "The correlated Gaussian gives a narrow confidence interval so was better than the IID Gaussian, but still cannot reproduce the sharp edges. We try a Cauchy prior."
   ]
  },
  {
   "cell_type": "code",
   "execution_count": null,
   "metadata": {},
   "outputs": [],
   "source": [
    "scale = 2/dim\n",
    "IP.prior = Cauchy_diff(np.zeros(dim), scale, 'neumann')"
   ]
  },
  {
   "cell_type": "markdown",
   "metadata": {},
   "source": [
    "MAP for Cauchy is not yet implemented so `x_MAP_cau = IP.MAP()` would fail, but we can sample the posterior. This uses a different sampling method than Gaussian and this is slower."
   ]
  },
  {
   "cell_type": "code",
   "execution_count": null,
   "metadata": {},
   "outputs": [],
   "source": [
    "result_cau = IP.sample_posterior(Ns)"
   ]
  },
  {
   "cell_type": "markdown",
   "metadata": {},
   "source": [
    "Plot mean + 95% of samples"
   ]
  },
  {
   "cell_type": "code",
   "execution_count": null,
   "metadata": {},
   "outputs": [],
   "source": [
    "result_cau.plot_ci(95, exact=phantom)"
   ]
  },
  {
   "cell_type": "code",
   "execution_count": null,
   "metadata": {},
   "outputs": [],
   "source": [
    "result_cau.plot_std()"
   ]
  },
  {
   "cell_type": "markdown",
   "metadata": {},
   "source": [
    "## 6. Change to Laplace prior"
   ]
  },
  {
   "cell_type": "markdown",
   "metadata": {},
   "source": [
    "Cauchy is known to be very edge-preserving but difficult to work with for example sample. Another edge-preserving prior is Laplace which typically is more well-behaved but not quite as strongly edge-preserving"
   ]
  },
  {
   "cell_type": "code",
   "execution_count": null,
   "metadata": {},
   "outputs": [],
   "source": [
    "# Set up Laplace prior\n",
    "loc = np.zeros(dim)\n",
    "delta = 0.5\n",
    "scale = delta*1/dim\n",
    "prior = Laplace_diff(loc,scale,'zero')"
   ]
  },
  {
   "cell_type": "markdown",
   "metadata": {},
   "source": [
    "Laplace prior is not yet supported by the BayesianProblem.sample_posterior, but we can manually sample the posterior for example using the Componentwise Metropolis-Hastings (CWMH) sampler. Currently this is set up by specifying target and proposal FUNCTIONS but is in the process of being updated to specify using CUQIpy DISTRIBUTIONS."
   ]
  },
  {
   "cell_type": "code",
   "execution_count": null,
   "metadata": {},
   "outputs": [],
   "source": [
    "# Target and proposal\n",
    "def target(x): return IP.likelihood.logpdf(IP.data,x)+prior.logpdf(x)\n",
    "def proposal(x,scale): return np.random.normal(x,scale)\n",
    "\n",
    "# Parameters for sampler\n",
    "scale = 0.05*np.ones(dim)\n",
    "x0 = 0.5*np.ones(dim)\n",
    "\n",
    "# Define sampler (Component-Wise Metroplis-Hastings)\n",
    "MCMC = CWMH(target, proposal, scale, x0)\n",
    "\n",
    "# Burn-in\n",
    "Nb = int(0.2*Ns)   "
   ]
  },
  {
   "cell_type": "markdown",
   "metadata": {},
   "source": [
    "Run sampler (with adaptive parameter selection):"
   ]
  },
  {
   "cell_type": "code",
   "execution_count": null,
   "metadata": {},
   "outputs": [],
   "source": [
    "x_s, out2, out3 = MCMC.sample_adapt(Ns,Nb)"
   ]
  },
  {
   "cell_type": "markdown",
   "metadata": {},
   "source": [
    "This particular samples does not yet produce a Samples object, just the numpy array with samples in columns"
   ]
  },
  {
   "cell_type": "code",
   "execution_count": null,
   "metadata": {},
   "outputs": [],
   "source": [
    "x_s"
   ]
  },
  {
   "cell_type": "markdown",
   "metadata": {},
   "source": [
    "But we can manually create the Samples object for now:"
   ]
  },
  {
   "cell_type": "code",
   "execution_count": null,
   "metadata": {},
   "outputs": [],
   "source": [
    "result_lap = Samples(x_s)"
   ]
  },
  {
   "cell_type": "markdown",
   "metadata": {},
   "source": [
    "Then we can use the plotting methods such as of the confidence interval:"
   ]
  },
  {
   "cell_type": "code",
   "execution_count": null,
   "metadata": {},
   "outputs": [],
   "source": [
    "result_lap.plot_ci(95, exact=phantom)"
   ]
  },
  {
   "cell_type": "markdown",
   "metadata": {},
   "source": [
    "Or std plot:"
   ]
  },
  {
   "cell_type": "code",
   "execution_count": null,
   "metadata": {},
   "outputs": [],
   "source": [
    "result_lap.plot_std()"
   ]
  },
  {
   "cell_type": "markdown",
   "metadata": {},
   "source": [
    "## Some ideas to try out (warning: not tested!)\n",
    "1. Change phantom to another of the options provided by the TestProblem.\n",
    "2. Change phantom to be a sample from Gaussian, then do UQ with correct and incorrect choices of prior.\n",
    "3. Play with parameter of priors for example Cauchy and Laplace to see if a better solution can be obtained.\n",
    "3. Change noise/likelihood to scaledGaussian"
   ]
  },
  {
   "cell_type": "code",
   "execution_count": null,
   "metadata": {},
   "outputs": [],
   "source": []
  }
 ],
 "metadata": {
  "kernelspec": {
   "display_name": "Python 3",
   "language": "python",
   "name": "python3"
  },
  "language_info": {
   "codemirror_mode": {
    "name": "ipython",
    "version": 3
   },
   "file_extension": ".py",
   "mimetype": "text/x-python",
   "name": "python",
   "nbconvert_exporter": "python",
   "pygments_lexer": "ipython3",
   "version": "3.7.9"
  }
 },
 "nbformat": 4,
 "nbformat_minor": 2
}
